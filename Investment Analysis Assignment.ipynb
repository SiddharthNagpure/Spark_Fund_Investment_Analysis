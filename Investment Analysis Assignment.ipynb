{
 "cells": [
  {
   "cell_type": "markdown",
   "metadata": {},
   "source": [
    "# Investment Analysis Assignment"
   ]
  },
  {
   "cell_type": "markdown",
   "metadata": {},
   "source": [
    "#### Objective\n",
    "\n",
    "The CEO of Spark Funds wants to understand the global trends in investments so that she can take the investment decisions effectively.\n",
    "\n",
    "#### Constraints:\n",
    "1. It wants to invest between 5 to 15 million USD per round of investment\n",
    "2. It wants to invest only in English-speaking countries because of the ease of communication with the companies it would invest in"
   ]
  },
  {
   "cell_type": "markdown",
   "metadata": {},
   "source": [
    "### Import Libraries"
   ]
  },
  {
   "cell_type": "code",
   "execution_count": 1,
   "metadata": {},
   "outputs": [],
   "source": [
    "import numpy as np\n",
    "import pandas as pd\n",
    "import matplotlib.pyplot as plt\n",
    "import seaborn as sns\n",
    "import warnings\n",
    "warnings.filterwarnings('ignore')\n",
    "\n",
    "%matplotlib inline"
   ]
  },
  {
   "cell_type": "markdown",
   "metadata": {},
   "source": [
    "## Checkpoint 1: Data Cleaning 1"
   ]
  },
  {
   "cell_type": "markdown",
   "metadata": {},
   "source": [
    "### Import Dataset"
   ]
  },
  {
   "cell_type": "code",
   "execution_count": 2,
   "metadata": {},
   "outputs": [],
   "source": [
    "# reading companies dataset\n",
    "pd.set_option('display.max_columns', 500)\n",
    "pd.set_option('display.max_rows', 500)\n",
    "companies = pd.read_csv('companies.csv', encoding='palmos')"
   ]
  },
  {
   "cell_type": "code",
   "execution_count": 3,
   "metadata": {},
   "outputs": [
    {
     "data": {
      "text/html": [
       "<div>\n",
       "<style scoped>\n",
       "    .dataframe tbody tr th:only-of-type {\n",
       "        vertical-align: middle;\n",
       "    }\n",
       "\n",
       "    .dataframe tbody tr th {\n",
       "        vertical-align: top;\n",
       "    }\n",
       "\n",
       "    .dataframe thead th {\n",
       "        text-align: right;\n",
       "    }\n",
       "</style>\n",
       "<table border=\"1\" class=\"dataframe\">\n",
       "  <thead>\n",
       "    <tr style=\"text-align: right;\">\n",
       "      <th></th>\n",
       "      <th>permalink</th>\n",
       "      <th>name</th>\n",
       "      <th>homepage_url</th>\n",
       "      <th>category_list</th>\n",
       "      <th>status</th>\n",
       "      <th>country_code</th>\n",
       "      <th>state_code</th>\n",
       "      <th>region</th>\n",
       "      <th>city</th>\n",
       "      <th>founded_at</th>\n",
       "    </tr>\n",
       "  </thead>\n",
       "  <tbody>\n",
       "    <tr>\n",
       "      <th>0</th>\n",
       "      <td>/Organization/-Fame</td>\n",
       "      <td>#fame</td>\n",
       "      <td>http://livfame.com</td>\n",
       "      <td>Media</td>\n",
       "      <td>operating</td>\n",
       "      <td>IND</td>\n",
       "      <td>16</td>\n",
       "      <td>Mumbai</td>\n",
       "      <td>Mumbai</td>\n",
       "      <td>NaN</td>\n",
       "    </tr>\n",
       "    <tr>\n",
       "      <th>1</th>\n",
       "      <td>/Organization/-Qounter</td>\n",
       "      <td>:Qounter</td>\n",
       "      <td>http://www.qounter.com</td>\n",
       "      <td>Application Platforms|Real Time|Social Network...</td>\n",
       "      <td>operating</td>\n",
       "      <td>USA</td>\n",
       "      <td>DE</td>\n",
       "      <td>DE - Other</td>\n",
       "      <td>Delaware City</td>\n",
       "      <td>04-09-2014</td>\n",
       "    </tr>\n",
       "    <tr>\n",
       "      <th>2</th>\n",
       "      <td>/Organization/-The-One-Of-Them-Inc-</td>\n",
       "      <td>(THE) ONE of THEM,Inc.</td>\n",
       "      <td>http://oneofthem.jp</td>\n",
       "      <td>Apps|Games|Mobile</td>\n",
       "      <td>operating</td>\n",
       "      <td>NaN</td>\n",
       "      <td>NaN</td>\n",
       "      <td>NaN</td>\n",
       "      <td>NaN</td>\n",
       "      <td>NaN</td>\n",
       "    </tr>\n",
       "    <tr>\n",
       "      <th>3</th>\n",
       "      <td>/Organization/0-6-Com</td>\n",
       "      <td>0-6.com</td>\n",
       "      <td>http://www.0-6.com</td>\n",
       "      <td>Curated Web</td>\n",
       "      <td>operating</td>\n",
       "      <td>CHN</td>\n",
       "      <td>22</td>\n",
       "      <td>Beijing</td>\n",
       "      <td>Beijing</td>\n",
       "      <td>01-01-2007</td>\n",
       "    </tr>\n",
       "    <tr>\n",
       "      <th>4</th>\n",
       "      <td>/Organization/004-Technologies</td>\n",
       "      <td>004 Technologies</td>\n",
       "      <td>http://004gmbh.de/en/004-interact</td>\n",
       "      <td>Software</td>\n",
       "      <td>operating</td>\n",
       "      <td>USA</td>\n",
       "      <td>IL</td>\n",
       "      <td>Springfield, Illinois</td>\n",
       "      <td>Champaign</td>\n",
       "      <td>01-01-2010</td>\n",
       "    </tr>\n",
       "  </tbody>\n",
       "</table>\n",
       "</div>"
      ],
      "text/plain": [
       "                             permalink                    name  \\\n",
       "0                  /Organization/-Fame                   #fame   \n",
       "1               /Organization/-Qounter                :Qounter   \n",
       "2  /Organization/-The-One-Of-Them-Inc-  (THE) ONE of THEM,Inc.   \n",
       "3                /Organization/0-6-Com                 0-6.com   \n",
       "4       /Organization/004-Technologies        004 Technologies   \n",
       "\n",
       "                        homepage_url  \\\n",
       "0                 http://livfame.com   \n",
       "1             http://www.qounter.com   \n",
       "2                http://oneofthem.jp   \n",
       "3                 http://www.0-6.com   \n",
       "4  http://004gmbh.de/en/004-interact   \n",
       "\n",
       "                                       category_list     status country_code  \\\n",
       "0                                              Media  operating          IND   \n",
       "1  Application Platforms|Real Time|Social Network...  operating          USA   \n",
       "2                                  Apps|Games|Mobile  operating          NaN   \n",
       "3                                        Curated Web  operating          CHN   \n",
       "4                                           Software  operating          USA   \n",
       "\n",
       "  state_code                 region           city  founded_at  \n",
       "0         16                 Mumbai         Mumbai         NaN  \n",
       "1         DE             DE - Other  Delaware City  04-09-2014  \n",
       "2        NaN                    NaN            NaN         NaN  \n",
       "3         22                Beijing        Beijing  01-01-2007  \n",
       "4         IL  Springfield, Illinois      Champaign  01-01-2010  "
      ]
     },
     "execution_count": 3,
     "metadata": {},
     "output_type": "execute_result"
    }
   ],
   "source": [
    "companies.head()"
   ]
  },
  {
   "cell_type": "code",
   "execution_count": 4,
   "metadata": {},
   "outputs": [
    {
     "name": "stdout",
     "output_type": "stream",
     "text": [
      "<class 'pandas.core.frame.DataFrame'>\n",
      "RangeIndex: 66368 entries, 0 to 66367\n",
      "Data columns (total 10 columns):\n",
      " #   Column         Non-Null Count  Dtype \n",
      "---  ------         --------------  ----- \n",
      " 0   permalink      66368 non-null  object\n",
      " 1   name           66367 non-null  object\n",
      " 2   homepage_url   61310 non-null  object\n",
      " 3   category_list  63220 non-null  object\n",
      " 4   status         66368 non-null  object\n",
      " 5   country_code   59410 non-null  object\n",
      " 6   state_code     57821 non-null  object\n",
      " 7   region         58338 non-null  object\n",
      " 8   city           58340 non-null  object\n",
      " 9   founded_at     51147 non-null  object\n",
      "dtypes: object(10)\n",
      "memory usage: 5.1+ MB\n"
     ]
    }
   ],
   "source": [
    "#checking general info of companies dataset\n",
    "\n",
    "companies.info()"
   ]
  },
  {
   "cell_type": "markdown",
   "metadata": {},
   "source": [
    "We can observe that some values are missing"
   ]
  },
  {
   "cell_type": "code",
   "execution_count": 5,
   "metadata": {},
   "outputs": [],
   "source": [
    "# reading rounds2 dataset\n",
    "\n",
    "rounds2 = pd.read_csv('rounds2.csv', encoding='palmos')"
   ]
  },
  {
   "cell_type": "code",
   "execution_count": 6,
   "metadata": {},
   "outputs": [
    {
     "data": {
      "text/html": [
       "<div>\n",
       "<style scoped>\n",
       "    .dataframe tbody tr th:only-of-type {\n",
       "        vertical-align: middle;\n",
       "    }\n",
       "\n",
       "    .dataframe tbody tr th {\n",
       "        vertical-align: top;\n",
       "    }\n",
       "\n",
       "    .dataframe thead th {\n",
       "        text-align: right;\n",
       "    }\n",
       "</style>\n",
       "<table border=\"1\" class=\"dataframe\">\n",
       "  <thead>\n",
       "    <tr style=\"text-align: right;\">\n",
       "      <th></th>\n",
       "      <th>company_permalink</th>\n",
       "      <th>funding_round_permalink</th>\n",
       "      <th>funding_round_type</th>\n",
       "      <th>funding_round_code</th>\n",
       "      <th>funded_at</th>\n",
       "      <th>raised_amount_usd</th>\n",
       "    </tr>\n",
       "  </thead>\n",
       "  <tbody>\n",
       "    <tr>\n",
       "      <th>0</th>\n",
       "      <td>/organization/-fame</td>\n",
       "      <td>/funding-round/9a01d05418af9f794eebff7ace91f638</td>\n",
       "      <td>venture</td>\n",
       "      <td>B</td>\n",
       "      <td>05-01-2015</td>\n",
       "      <td>10000000.0</td>\n",
       "    </tr>\n",
       "    <tr>\n",
       "      <th>1</th>\n",
       "      <td>/ORGANIZATION/-QOUNTER</td>\n",
       "      <td>/funding-round/22dacff496eb7acb2b901dec1dfe5633</td>\n",
       "      <td>venture</td>\n",
       "      <td>A</td>\n",
       "      <td>14-10-2014</td>\n",
       "      <td>NaN</td>\n",
       "    </tr>\n",
       "    <tr>\n",
       "      <th>2</th>\n",
       "      <td>/organization/-qounter</td>\n",
       "      <td>/funding-round/b44fbb94153f6cdef13083530bb48030</td>\n",
       "      <td>seed</td>\n",
       "      <td>NaN</td>\n",
       "      <td>01-03-2014</td>\n",
       "      <td>700000.0</td>\n",
       "    </tr>\n",
       "    <tr>\n",
       "      <th>3</th>\n",
       "      <td>/ORGANIZATION/-THE-ONE-OF-THEM-INC-</td>\n",
       "      <td>/funding-round/650b8f704416801069bb178a1418776b</td>\n",
       "      <td>venture</td>\n",
       "      <td>B</td>\n",
       "      <td>30-01-2014</td>\n",
       "      <td>3406878.0</td>\n",
       "    </tr>\n",
       "    <tr>\n",
       "      <th>4</th>\n",
       "      <td>/organization/0-6-com</td>\n",
       "      <td>/funding-round/5727accaeaa57461bd22a9bdd945382d</td>\n",
       "      <td>venture</td>\n",
       "      <td>A</td>\n",
       "      <td>19-03-2008</td>\n",
       "      <td>2000000.0</td>\n",
       "    </tr>\n",
       "  </tbody>\n",
       "</table>\n",
       "</div>"
      ],
      "text/plain": [
       "                     company_permalink  \\\n",
       "0                  /organization/-fame   \n",
       "1               /ORGANIZATION/-QOUNTER   \n",
       "2               /organization/-qounter   \n",
       "3  /ORGANIZATION/-THE-ONE-OF-THEM-INC-   \n",
       "4                /organization/0-6-com   \n",
       "\n",
       "                           funding_round_permalink funding_round_type  \\\n",
       "0  /funding-round/9a01d05418af9f794eebff7ace91f638            venture   \n",
       "1  /funding-round/22dacff496eb7acb2b901dec1dfe5633            venture   \n",
       "2  /funding-round/b44fbb94153f6cdef13083530bb48030               seed   \n",
       "3  /funding-round/650b8f704416801069bb178a1418776b            venture   \n",
       "4  /funding-round/5727accaeaa57461bd22a9bdd945382d            venture   \n",
       "\n",
       "  funding_round_code   funded_at  raised_amount_usd  \n",
       "0                  B  05-01-2015         10000000.0  \n",
       "1                  A  14-10-2014                NaN  \n",
       "2                NaN  01-03-2014           700000.0  \n",
       "3                  B  30-01-2014          3406878.0  \n",
       "4                  A  19-03-2008          2000000.0  "
      ]
     },
     "execution_count": 6,
     "metadata": {},
     "output_type": "execute_result"
    }
   ],
   "source": [
    "rounds2.head()"
   ]
  },
  {
   "cell_type": "code",
   "execution_count": 7,
   "metadata": {},
   "outputs": [
    {
     "name": "stdout",
     "output_type": "stream",
     "text": [
      "<class 'pandas.core.frame.DataFrame'>\n",
      "RangeIndex: 114949 entries, 0 to 114948\n",
      "Data columns (total 6 columns):\n",
      " #   Column                   Non-Null Count   Dtype  \n",
      "---  ------                   --------------   -----  \n",
      " 0   company_permalink        114949 non-null  object \n",
      " 1   funding_round_permalink  114949 non-null  object \n",
      " 2   funding_round_type       114949 non-null  object \n",
      " 3   funding_round_code       31140 non-null   object \n",
      " 4   funded_at                114949 non-null  object \n",
      " 5   raised_amount_usd        94959 non-null   float64\n",
      "dtypes: float64(1), object(5)\n",
      "memory usage: 5.3+ MB\n"
     ]
    }
   ],
   "source": [
    "# checking general info of rounds2 dataset\n",
    "\n",
    "rounds2.info()"
   ]
  },
  {
   "cell_type": "markdown",
   "metadata": {},
   "source": [
    "We can observe that some values are missing"
   ]
  },
  {
   "cell_type": "code",
   "execution_count": 8,
   "metadata": {},
   "outputs": [
    {
     "data": {
      "text/plain": [
       "66368"
      ]
     },
     "execution_count": 8,
     "metadata": {},
     "output_type": "execute_result"
    }
   ],
   "source": [
    "# Check unique entries in 'permalink' in companies dataset\n",
    "\n",
    "companies.nunique()[0]"
   ]
  },
  {
   "cell_type": "code",
   "execution_count": 9,
   "metadata": {},
   "outputs": [
    {
     "data": {
      "text/plain": [
       "(66368, 10)"
      ]
     },
     "execution_count": 9,
     "metadata": {},
     "output_type": "execute_result"
    }
   ],
   "source": [
    "# let's check shape of companies dataset\n",
    "\n",
    "companies.shape"
   ]
  },
  {
   "cell_type": "markdown",
   "metadata": {},
   "source": [
    "We can observe that Unique entries in 'permalink' column and total length of the dataset is same i.e. 66368\n",
    "\n",
    "So we can consider 'permalink' as unique key in companies dataframe."
   ]
  },
  {
   "cell_type": "code",
   "execution_count": 10,
   "metadata": {},
   "outputs": [],
   "source": [
    "# convert values in 'permalink' to lowercase\n",
    "\n",
    "companies['permalink'] = companies.permalink.str.lower()"
   ]
  },
  {
   "cell_type": "code",
   "execution_count": 11,
   "metadata": {},
   "outputs": [
    {
     "data": {
      "text/plain": [
       "0                    /organization/-fame\n",
       "1                 /organization/-qounter\n",
       "2    /organization/-the-one-of-them-inc-\n",
       "3                  /organization/0-6-com\n",
       "4         /organization/004-technologies\n",
       "5       /organization/01games-technology\n",
       "6    /organization/0ndine-biomedical-inc\n",
       "7                   /organization/0xdata\n",
       "8                        /organization/1\n",
       "9              /organization/1-2-3-listo\n",
       "Name: permalink, dtype: object"
      ]
     },
     "execution_count": 11,
     "metadata": {},
     "output_type": "execute_result"
    }
   ],
   "source": [
    "companies['permalink'].head(10)"
   ]
  },
  {
   "cell_type": "code",
   "execution_count": 12,
   "metadata": {},
   "outputs": [
    {
     "data": {
      "text/plain": [
       "66368"
      ]
     },
     "execution_count": 12,
     "metadata": {},
     "output_type": "execute_result"
    }
   ],
   "source": [
    "# check the unique values in 'permalink' column in companies dataset again\n",
    "\n",
    "companies.nunique()[0]"
   ]
  },
  {
   "cell_type": "markdown",
   "metadata": {},
   "source": [
    "This concludes that there are total 66368 unique companies present in companies dataset."
   ]
  },
  {
   "cell_type": "code",
   "execution_count": 13,
   "metadata": {},
   "outputs": [
    {
     "data": {
      "text/plain": [
       "90247"
      ]
     },
     "execution_count": 13,
     "metadata": {},
     "output_type": "execute_result"
    }
   ],
   "source": [
    "# check the unique values in 'company_permalink' column in rounds2 dataset\n",
    "\n",
    "rounds2.nunique()[0]"
   ]
  },
  {
   "cell_type": "code",
   "execution_count": 14,
   "metadata": {},
   "outputs": [],
   "source": [
    "# convert values in 'company_permalink' to lowercase\n",
    "\n",
    "rounds2['company_permalink'] = rounds2.company_permalink.str.lower()"
   ]
  },
  {
   "cell_type": "code",
   "execution_count": 15,
   "metadata": {},
   "outputs": [
    {
     "data": {
      "text/plain": [
       "0                    /organization/-fame\n",
       "1                 /organization/-qounter\n",
       "2                 /organization/-qounter\n",
       "3    /organization/-the-one-of-them-inc-\n",
       "4                  /organization/0-6-com\n",
       "5         /organization/004-technologies\n",
       "6       /organization/01games-technology\n",
       "7    /organization/0ndine-biomedical-inc\n",
       "8    /organization/0ndine-biomedical-inc\n",
       "9                   /organization/0xdata\n",
       "Name: company_permalink, dtype: object"
      ]
     },
     "execution_count": 15,
     "metadata": {},
     "output_type": "execute_result"
    }
   ],
   "source": [
    "rounds2['company_permalink'].head(10)"
   ]
  },
  {
   "cell_type": "code",
   "execution_count": 16,
   "metadata": {},
   "outputs": [
    {
     "data": {
      "text/plain": [
       "66368"
      ]
     },
     "execution_count": 16,
     "metadata": {},
     "output_type": "execute_result"
    }
   ],
   "source": [
    "# check the unique values in 'company_permalink' column in rounds2 dataset again\n",
    "\n",
    "rounds2.nunique()[0]"
   ]
  },
  {
   "cell_type": "markdown",
   "metadata": {},
   "source": [
    "We can see that after converting entries in lowercase, unique values changed from 90247 to 66368"
   ]
  },
  {
   "cell_type": "markdown",
   "metadata": {},
   "source": [
    "Both the datasets have 66368 Unique companies present in them.\n",
    "\n",
    "We can merge two both the datasets on `permalink`."
   ]
  },
  {
   "cell_type": "markdown",
   "metadata": {},
   "source": [
    "#### Creating master_frame"
   ]
  },
  {
   "cell_type": "code",
   "execution_count": 17,
   "metadata": {},
   "outputs": [],
   "source": [
    "master_frame = pd.merge(companies, rounds2, left_on='permalink', right_on='company_permalink')"
   ]
  },
  {
   "cell_type": "code",
   "execution_count": 18,
   "metadata": {},
   "outputs": [
    {
     "data": {
      "text/html": [
       "<div>\n",
       "<style scoped>\n",
       "    .dataframe tbody tr th:only-of-type {\n",
       "        vertical-align: middle;\n",
       "    }\n",
       "\n",
       "    .dataframe tbody tr th {\n",
       "        vertical-align: top;\n",
       "    }\n",
       "\n",
       "    .dataframe thead th {\n",
       "        text-align: right;\n",
       "    }\n",
       "</style>\n",
       "<table border=\"1\" class=\"dataframe\">\n",
       "  <thead>\n",
       "    <tr style=\"text-align: right;\">\n",
       "      <th></th>\n",
       "      <th>permalink</th>\n",
       "      <th>name</th>\n",
       "      <th>homepage_url</th>\n",
       "      <th>category_list</th>\n",
       "      <th>status</th>\n",
       "      <th>country_code</th>\n",
       "      <th>state_code</th>\n",
       "      <th>region</th>\n",
       "      <th>city</th>\n",
       "      <th>founded_at</th>\n",
       "      <th>company_permalink</th>\n",
       "      <th>funding_round_permalink</th>\n",
       "      <th>funding_round_type</th>\n",
       "      <th>funding_round_code</th>\n",
       "      <th>funded_at</th>\n",
       "      <th>raised_amount_usd</th>\n",
       "    </tr>\n",
       "  </thead>\n",
       "  <tbody>\n",
       "    <tr>\n",
       "      <th>0</th>\n",
       "      <td>/organization/-fame</td>\n",
       "      <td>#fame</td>\n",
       "      <td>http://livfame.com</td>\n",
       "      <td>Media</td>\n",
       "      <td>operating</td>\n",
       "      <td>IND</td>\n",
       "      <td>16</td>\n",
       "      <td>Mumbai</td>\n",
       "      <td>Mumbai</td>\n",
       "      <td>NaN</td>\n",
       "      <td>/organization/-fame</td>\n",
       "      <td>/funding-round/9a01d05418af9f794eebff7ace91f638</td>\n",
       "      <td>venture</td>\n",
       "      <td>B</td>\n",
       "      <td>05-01-2015</td>\n",
       "      <td>10000000.0</td>\n",
       "    </tr>\n",
       "    <tr>\n",
       "      <th>1</th>\n",
       "      <td>/organization/-qounter</td>\n",
       "      <td>:Qounter</td>\n",
       "      <td>http://www.qounter.com</td>\n",
       "      <td>Application Platforms|Real Time|Social Network...</td>\n",
       "      <td>operating</td>\n",
       "      <td>USA</td>\n",
       "      <td>DE</td>\n",
       "      <td>DE - Other</td>\n",
       "      <td>Delaware City</td>\n",
       "      <td>04-09-2014</td>\n",
       "      <td>/organization/-qounter</td>\n",
       "      <td>/funding-round/22dacff496eb7acb2b901dec1dfe5633</td>\n",
       "      <td>venture</td>\n",
       "      <td>A</td>\n",
       "      <td>14-10-2014</td>\n",
       "      <td>NaN</td>\n",
       "    </tr>\n",
       "    <tr>\n",
       "      <th>2</th>\n",
       "      <td>/organization/-qounter</td>\n",
       "      <td>:Qounter</td>\n",
       "      <td>http://www.qounter.com</td>\n",
       "      <td>Application Platforms|Real Time|Social Network...</td>\n",
       "      <td>operating</td>\n",
       "      <td>USA</td>\n",
       "      <td>DE</td>\n",
       "      <td>DE - Other</td>\n",
       "      <td>Delaware City</td>\n",
       "      <td>04-09-2014</td>\n",
       "      <td>/organization/-qounter</td>\n",
       "      <td>/funding-round/b44fbb94153f6cdef13083530bb48030</td>\n",
       "      <td>seed</td>\n",
       "      <td>NaN</td>\n",
       "      <td>01-03-2014</td>\n",
       "      <td>700000.0</td>\n",
       "    </tr>\n",
       "    <tr>\n",
       "      <th>3</th>\n",
       "      <td>/organization/-the-one-of-them-inc-</td>\n",
       "      <td>(THE) ONE of THEM,Inc.</td>\n",
       "      <td>http://oneofthem.jp</td>\n",
       "      <td>Apps|Games|Mobile</td>\n",
       "      <td>operating</td>\n",
       "      <td>NaN</td>\n",
       "      <td>NaN</td>\n",
       "      <td>NaN</td>\n",
       "      <td>NaN</td>\n",
       "      <td>NaN</td>\n",
       "      <td>/organization/-the-one-of-them-inc-</td>\n",
       "      <td>/funding-round/650b8f704416801069bb178a1418776b</td>\n",
       "      <td>venture</td>\n",
       "      <td>B</td>\n",
       "      <td>30-01-2014</td>\n",
       "      <td>3406878.0</td>\n",
       "    </tr>\n",
       "    <tr>\n",
       "      <th>4</th>\n",
       "      <td>/organization/0-6-com</td>\n",
       "      <td>0-6.com</td>\n",
       "      <td>http://www.0-6.com</td>\n",
       "      <td>Curated Web</td>\n",
       "      <td>operating</td>\n",
       "      <td>CHN</td>\n",
       "      <td>22</td>\n",
       "      <td>Beijing</td>\n",
       "      <td>Beijing</td>\n",
       "      <td>01-01-2007</td>\n",
       "      <td>/organization/0-6-com</td>\n",
       "      <td>/funding-round/5727accaeaa57461bd22a9bdd945382d</td>\n",
       "      <td>venture</td>\n",
       "      <td>A</td>\n",
       "      <td>19-03-2008</td>\n",
       "      <td>2000000.0</td>\n",
       "    </tr>\n",
       "    <tr>\n",
       "      <th>5</th>\n",
       "      <td>/organization/004-technologies</td>\n",
       "      <td>004 Technologies</td>\n",
       "      <td>http://004gmbh.de/en/004-interact</td>\n",
       "      <td>Software</td>\n",
       "      <td>operating</td>\n",
       "      <td>USA</td>\n",
       "      <td>IL</td>\n",
       "      <td>Springfield, Illinois</td>\n",
       "      <td>Champaign</td>\n",
       "      <td>01-01-2010</td>\n",
       "      <td>/organization/004-technologies</td>\n",
       "      <td>/funding-round/1278dd4e6a37fa4b7d7e06c21b3c1830</td>\n",
       "      <td>venture</td>\n",
       "      <td>NaN</td>\n",
       "      <td>24-07-2014</td>\n",
       "      <td>NaN</td>\n",
       "    </tr>\n",
       "    <tr>\n",
       "      <th>6</th>\n",
       "      <td>/organization/01games-technology</td>\n",
       "      <td>01Games Technology</td>\n",
       "      <td>http://www.01games.hk/</td>\n",
       "      <td>Games</td>\n",
       "      <td>operating</td>\n",
       "      <td>HKG</td>\n",
       "      <td>NaN</td>\n",
       "      <td>Hong Kong</td>\n",
       "      <td>Hong Kong</td>\n",
       "      <td>NaN</td>\n",
       "      <td>/organization/01games-technology</td>\n",
       "      <td>/funding-round/7d53696f2b4f607a2f2a8cbb83d01839</td>\n",
       "      <td>undisclosed</td>\n",
       "      <td>NaN</td>\n",
       "      <td>01-07-2014</td>\n",
       "      <td>41250.0</td>\n",
       "    </tr>\n",
       "    <tr>\n",
       "      <th>7</th>\n",
       "      <td>/organization/0ndine-biomedical-inc</td>\n",
       "      <td>Ondine Biomedical Inc.</td>\n",
       "      <td>http://ondinebio.com</td>\n",
       "      <td>Biotechnology</td>\n",
       "      <td>operating</td>\n",
       "      <td>CAN</td>\n",
       "      <td>BC</td>\n",
       "      <td>Vancouver</td>\n",
       "      <td>Vancouver</td>\n",
       "      <td>01-01-1997</td>\n",
       "      <td>/organization/0ndine-biomedical-inc</td>\n",
       "      <td>/funding-round/2b9d3ac293d5cdccbecff5c8cb0f327d</td>\n",
       "      <td>seed</td>\n",
       "      <td>NaN</td>\n",
       "      <td>11-09-2009</td>\n",
       "      <td>43360.0</td>\n",
       "    </tr>\n",
       "    <tr>\n",
       "      <th>8</th>\n",
       "      <td>/organization/0ndine-biomedical-inc</td>\n",
       "      <td>Ondine Biomedical Inc.</td>\n",
       "      <td>http://ondinebio.com</td>\n",
       "      <td>Biotechnology</td>\n",
       "      <td>operating</td>\n",
       "      <td>CAN</td>\n",
       "      <td>BC</td>\n",
       "      <td>Vancouver</td>\n",
       "      <td>Vancouver</td>\n",
       "      <td>01-01-1997</td>\n",
       "      <td>/organization/0ndine-biomedical-inc</td>\n",
       "      <td>/funding-round/954b9499724b946ad8c396a57a5f3b72</td>\n",
       "      <td>venture</td>\n",
       "      <td>NaN</td>\n",
       "      <td>21-12-2009</td>\n",
       "      <td>719491.0</td>\n",
       "    </tr>\n",
       "    <tr>\n",
       "      <th>9</th>\n",
       "      <td>/organization/0xdata</td>\n",
       "      <td>H2O.ai</td>\n",
       "      <td>http://h2o.ai/</td>\n",
       "      <td>Analytics</td>\n",
       "      <td>operating</td>\n",
       "      <td>USA</td>\n",
       "      <td>CA</td>\n",
       "      <td>SF Bay Area</td>\n",
       "      <td>Mountain View</td>\n",
       "      <td>01-01-2011</td>\n",
       "      <td>/organization/0xdata</td>\n",
       "      <td>/funding-round/383a9bd2c04f7038bb543ccef5ba3eae</td>\n",
       "      <td>seed</td>\n",
       "      <td>NaN</td>\n",
       "      <td>22-05-2013</td>\n",
       "      <td>3000000.0</td>\n",
       "    </tr>\n",
       "  </tbody>\n",
       "</table>\n",
       "</div>"
      ],
      "text/plain": [
       "                             permalink                    name  \\\n",
       "0                  /organization/-fame                   #fame   \n",
       "1               /organization/-qounter                :Qounter   \n",
       "2               /organization/-qounter                :Qounter   \n",
       "3  /organization/-the-one-of-them-inc-  (THE) ONE of THEM,Inc.   \n",
       "4                /organization/0-6-com                 0-6.com   \n",
       "5       /organization/004-technologies        004 Technologies   \n",
       "6     /organization/01games-technology      01Games Technology   \n",
       "7  /organization/0ndine-biomedical-inc  Ondine Biomedical Inc.   \n",
       "8  /organization/0ndine-biomedical-inc  Ondine Biomedical Inc.   \n",
       "9                 /organization/0xdata                  H2O.ai   \n",
       "\n",
       "                        homepage_url  \\\n",
       "0                 http://livfame.com   \n",
       "1             http://www.qounter.com   \n",
       "2             http://www.qounter.com   \n",
       "3                http://oneofthem.jp   \n",
       "4                 http://www.0-6.com   \n",
       "5  http://004gmbh.de/en/004-interact   \n",
       "6             http://www.01games.hk/   \n",
       "7               http://ondinebio.com   \n",
       "8               http://ondinebio.com   \n",
       "9                     http://h2o.ai/   \n",
       "\n",
       "                                       category_list     status country_code  \\\n",
       "0                                              Media  operating          IND   \n",
       "1  Application Platforms|Real Time|Social Network...  operating          USA   \n",
       "2  Application Platforms|Real Time|Social Network...  operating          USA   \n",
       "3                                  Apps|Games|Mobile  operating          NaN   \n",
       "4                                        Curated Web  operating          CHN   \n",
       "5                                           Software  operating          USA   \n",
       "6                                              Games  operating          HKG   \n",
       "7                                      Biotechnology  operating          CAN   \n",
       "8                                      Biotechnology  operating          CAN   \n",
       "9                                          Analytics  operating          USA   \n",
       "\n",
       "  state_code                 region           city  founded_at  \\\n",
       "0         16                 Mumbai         Mumbai         NaN   \n",
       "1         DE             DE - Other  Delaware City  04-09-2014   \n",
       "2         DE             DE - Other  Delaware City  04-09-2014   \n",
       "3        NaN                    NaN            NaN         NaN   \n",
       "4         22                Beijing        Beijing  01-01-2007   \n",
       "5         IL  Springfield, Illinois      Champaign  01-01-2010   \n",
       "6        NaN              Hong Kong      Hong Kong         NaN   \n",
       "7         BC              Vancouver      Vancouver  01-01-1997   \n",
       "8         BC              Vancouver      Vancouver  01-01-1997   \n",
       "9         CA            SF Bay Area  Mountain View  01-01-2011   \n",
       "\n",
       "                     company_permalink  \\\n",
       "0                  /organization/-fame   \n",
       "1               /organization/-qounter   \n",
       "2               /organization/-qounter   \n",
       "3  /organization/-the-one-of-them-inc-   \n",
       "4                /organization/0-6-com   \n",
       "5       /organization/004-technologies   \n",
       "6     /organization/01games-technology   \n",
       "7  /organization/0ndine-biomedical-inc   \n",
       "8  /organization/0ndine-biomedical-inc   \n",
       "9                 /organization/0xdata   \n",
       "\n",
       "                           funding_round_permalink funding_round_type  \\\n",
       "0  /funding-round/9a01d05418af9f794eebff7ace91f638            venture   \n",
       "1  /funding-round/22dacff496eb7acb2b901dec1dfe5633            venture   \n",
       "2  /funding-round/b44fbb94153f6cdef13083530bb48030               seed   \n",
       "3  /funding-round/650b8f704416801069bb178a1418776b            venture   \n",
       "4  /funding-round/5727accaeaa57461bd22a9bdd945382d            venture   \n",
       "5  /funding-round/1278dd4e6a37fa4b7d7e06c21b3c1830            venture   \n",
       "6  /funding-round/7d53696f2b4f607a2f2a8cbb83d01839        undisclosed   \n",
       "7  /funding-round/2b9d3ac293d5cdccbecff5c8cb0f327d               seed   \n",
       "8  /funding-round/954b9499724b946ad8c396a57a5f3b72            venture   \n",
       "9  /funding-round/383a9bd2c04f7038bb543ccef5ba3eae               seed   \n",
       "\n",
       "  funding_round_code   funded_at  raised_amount_usd  \n",
       "0                  B  05-01-2015         10000000.0  \n",
       "1                  A  14-10-2014                NaN  \n",
       "2                NaN  01-03-2014           700000.0  \n",
       "3                  B  30-01-2014          3406878.0  \n",
       "4                  A  19-03-2008          2000000.0  \n",
       "5                NaN  24-07-2014                NaN  \n",
       "6                NaN  01-07-2014            41250.0  \n",
       "7                NaN  11-09-2009            43360.0  \n",
       "8                NaN  21-12-2009           719491.0  \n",
       "9                NaN  22-05-2013          3000000.0  "
      ]
     },
     "execution_count": 18,
     "metadata": {},
     "output_type": "execute_result"
    }
   ],
   "source": [
    "master_frame.head(10)"
   ]
  },
  {
   "cell_type": "code",
   "execution_count": 19,
   "metadata": {},
   "outputs": [],
   "source": [
    "# removing 'company_permalink' column\n",
    "\n",
    "master_frame.drop(['company_permalink'], axis=1, inplace=True)"
   ]
  },
  {
   "cell_type": "code",
   "execution_count": 20,
   "metadata": {},
   "outputs": [
    {
     "data": {
      "text/html": [
       "<div>\n",
       "<style scoped>\n",
       "    .dataframe tbody tr th:only-of-type {\n",
       "        vertical-align: middle;\n",
       "    }\n",
       "\n",
       "    .dataframe tbody tr th {\n",
       "        vertical-align: top;\n",
       "    }\n",
       "\n",
       "    .dataframe thead th {\n",
       "        text-align: right;\n",
       "    }\n",
       "</style>\n",
       "<table border=\"1\" class=\"dataframe\">\n",
       "  <thead>\n",
       "    <tr style=\"text-align: right;\">\n",
       "      <th></th>\n",
       "      <th>permalink</th>\n",
       "      <th>name</th>\n",
       "      <th>homepage_url</th>\n",
       "      <th>category_list</th>\n",
       "      <th>status</th>\n",
       "      <th>country_code</th>\n",
       "      <th>state_code</th>\n",
       "      <th>region</th>\n",
       "      <th>city</th>\n",
       "      <th>founded_at</th>\n",
       "      <th>funding_round_permalink</th>\n",
       "      <th>funding_round_type</th>\n",
       "      <th>funding_round_code</th>\n",
       "      <th>funded_at</th>\n",
       "      <th>raised_amount_usd</th>\n",
       "    </tr>\n",
       "  </thead>\n",
       "  <tbody>\n",
       "    <tr>\n",
       "      <th>0</th>\n",
       "      <td>/organization/-fame</td>\n",
       "      <td>#fame</td>\n",
       "      <td>http://livfame.com</td>\n",
       "      <td>Media</td>\n",
       "      <td>operating</td>\n",
       "      <td>IND</td>\n",
       "      <td>16</td>\n",
       "      <td>Mumbai</td>\n",
       "      <td>Mumbai</td>\n",
       "      <td>NaN</td>\n",
       "      <td>/funding-round/9a01d05418af9f794eebff7ace91f638</td>\n",
       "      <td>venture</td>\n",
       "      <td>B</td>\n",
       "      <td>05-01-2015</td>\n",
       "      <td>10000000.0</td>\n",
       "    </tr>\n",
       "    <tr>\n",
       "      <th>1</th>\n",
       "      <td>/organization/-qounter</td>\n",
       "      <td>:Qounter</td>\n",
       "      <td>http://www.qounter.com</td>\n",
       "      <td>Application Platforms|Real Time|Social Network...</td>\n",
       "      <td>operating</td>\n",
       "      <td>USA</td>\n",
       "      <td>DE</td>\n",
       "      <td>DE - Other</td>\n",
       "      <td>Delaware City</td>\n",
       "      <td>04-09-2014</td>\n",
       "      <td>/funding-round/22dacff496eb7acb2b901dec1dfe5633</td>\n",
       "      <td>venture</td>\n",
       "      <td>A</td>\n",
       "      <td>14-10-2014</td>\n",
       "      <td>NaN</td>\n",
       "    </tr>\n",
       "    <tr>\n",
       "      <th>2</th>\n",
       "      <td>/organization/-qounter</td>\n",
       "      <td>:Qounter</td>\n",
       "      <td>http://www.qounter.com</td>\n",
       "      <td>Application Platforms|Real Time|Social Network...</td>\n",
       "      <td>operating</td>\n",
       "      <td>USA</td>\n",
       "      <td>DE</td>\n",
       "      <td>DE - Other</td>\n",
       "      <td>Delaware City</td>\n",
       "      <td>04-09-2014</td>\n",
       "      <td>/funding-round/b44fbb94153f6cdef13083530bb48030</td>\n",
       "      <td>seed</td>\n",
       "      <td>NaN</td>\n",
       "      <td>01-03-2014</td>\n",
       "      <td>700000.0</td>\n",
       "    </tr>\n",
       "    <tr>\n",
       "      <th>3</th>\n",
       "      <td>/organization/-the-one-of-them-inc-</td>\n",
       "      <td>(THE) ONE of THEM,Inc.</td>\n",
       "      <td>http://oneofthem.jp</td>\n",
       "      <td>Apps|Games|Mobile</td>\n",
       "      <td>operating</td>\n",
       "      <td>NaN</td>\n",
       "      <td>NaN</td>\n",
       "      <td>NaN</td>\n",
       "      <td>NaN</td>\n",
       "      <td>NaN</td>\n",
       "      <td>/funding-round/650b8f704416801069bb178a1418776b</td>\n",
       "      <td>venture</td>\n",
       "      <td>B</td>\n",
       "      <td>30-01-2014</td>\n",
       "      <td>3406878.0</td>\n",
       "    </tr>\n",
       "    <tr>\n",
       "      <th>4</th>\n",
       "      <td>/organization/0-6-com</td>\n",
       "      <td>0-6.com</td>\n",
       "      <td>http://www.0-6.com</td>\n",
       "      <td>Curated Web</td>\n",
       "      <td>operating</td>\n",
       "      <td>CHN</td>\n",
       "      <td>22</td>\n",
       "      <td>Beijing</td>\n",
       "      <td>Beijing</td>\n",
       "      <td>01-01-2007</td>\n",
       "      <td>/funding-round/5727accaeaa57461bd22a9bdd945382d</td>\n",
       "      <td>venture</td>\n",
       "      <td>A</td>\n",
       "      <td>19-03-2008</td>\n",
       "      <td>2000000.0</td>\n",
       "    </tr>\n",
       "    <tr>\n",
       "      <th>5</th>\n",
       "      <td>/organization/004-technologies</td>\n",
       "      <td>004 Technologies</td>\n",
       "      <td>http://004gmbh.de/en/004-interact</td>\n",
       "      <td>Software</td>\n",
       "      <td>operating</td>\n",
       "      <td>USA</td>\n",
       "      <td>IL</td>\n",
       "      <td>Springfield, Illinois</td>\n",
       "      <td>Champaign</td>\n",
       "      <td>01-01-2010</td>\n",
       "      <td>/funding-round/1278dd4e6a37fa4b7d7e06c21b3c1830</td>\n",
       "      <td>venture</td>\n",
       "      <td>NaN</td>\n",
       "      <td>24-07-2014</td>\n",
       "      <td>NaN</td>\n",
       "    </tr>\n",
       "    <tr>\n",
       "      <th>6</th>\n",
       "      <td>/organization/01games-technology</td>\n",
       "      <td>01Games Technology</td>\n",
       "      <td>http://www.01games.hk/</td>\n",
       "      <td>Games</td>\n",
       "      <td>operating</td>\n",
       "      <td>HKG</td>\n",
       "      <td>NaN</td>\n",
       "      <td>Hong Kong</td>\n",
       "      <td>Hong Kong</td>\n",
       "      <td>NaN</td>\n",
       "      <td>/funding-round/7d53696f2b4f607a2f2a8cbb83d01839</td>\n",
       "      <td>undisclosed</td>\n",
       "      <td>NaN</td>\n",
       "      <td>01-07-2014</td>\n",
       "      <td>41250.0</td>\n",
       "    </tr>\n",
       "    <tr>\n",
       "      <th>7</th>\n",
       "      <td>/organization/0ndine-biomedical-inc</td>\n",
       "      <td>Ondine Biomedical Inc.</td>\n",
       "      <td>http://ondinebio.com</td>\n",
       "      <td>Biotechnology</td>\n",
       "      <td>operating</td>\n",
       "      <td>CAN</td>\n",
       "      <td>BC</td>\n",
       "      <td>Vancouver</td>\n",
       "      <td>Vancouver</td>\n",
       "      <td>01-01-1997</td>\n",
       "      <td>/funding-round/2b9d3ac293d5cdccbecff5c8cb0f327d</td>\n",
       "      <td>seed</td>\n",
       "      <td>NaN</td>\n",
       "      <td>11-09-2009</td>\n",
       "      <td>43360.0</td>\n",
       "    </tr>\n",
       "    <tr>\n",
       "      <th>8</th>\n",
       "      <td>/organization/0ndine-biomedical-inc</td>\n",
       "      <td>Ondine Biomedical Inc.</td>\n",
       "      <td>http://ondinebio.com</td>\n",
       "      <td>Biotechnology</td>\n",
       "      <td>operating</td>\n",
       "      <td>CAN</td>\n",
       "      <td>BC</td>\n",
       "      <td>Vancouver</td>\n",
       "      <td>Vancouver</td>\n",
       "      <td>01-01-1997</td>\n",
       "      <td>/funding-round/954b9499724b946ad8c396a57a5f3b72</td>\n",
       "      <td>venture</td>\n",
       "      <td>NaN</td>\n",
       "      <td>21-12-2009</td>\n",
       "      <td>719491.0</td>\n",
       "    </tr>\n",
       "    <tr>\n",
       "      <th>9</th>\n",
       "      <td>/organization/0xdata</td>\n",
       "      <td>H2O.ai</td>\n",
       "      <td>http://h2o.ai/</td>\n",
       "      <td>Analytics</td>\n",
       "      <td>operating</td>\n",
       "      <td>USA</td>\n",
       "      <td>CA</td>\n",
       "      <td>SF Bay Area</td>\n",
       "      <td>Mountain View</td>\n",
       "      <td>01-01-2011</td>\n",
       "      <td>/funding-round/383a9bd2c04f7038bb543ccef5ba3eae</td>\n",
       "      <td>seed</td>\n",
       "      <td>NaN</td>\n",
       "      <td>22-05-2013</td>\n",
       "      <td>3000000.0</td>\n",
       "    </tr>\n",
       "  </tbody>\n",
       "</table>\n",
       "</div>"
      ],
      "text/plain": [
       "                             permalink                    name  \\\n",
       "0                  /organization/-fame                   #fame   \n",
       "1               /organization/-qounter                :Qounter   \n",
       "2               /organization/-qounter                :Qounter   \n",
       "3  /organization/-the-one-of-them-inc-  (THE) ONE of THEM,Inc.   \n",
       "4                /organization/0-6-com                 0-6.com   \n",
       "5       /organization/004-technologies        004 Technologies   \n",
       "6     /organization/01games-technology      01Games Technology   \n",
       "7  /organization/0ndine-biomedical-inc  Ondine Biomedical Inc.   \n",
       "8  /organization/0ndine-biomedical-inc  Ondine Biomedical Inc.   \n",
       "9                 /organization/0xdata                  H2O.ai   \n",
       "\n",
       "                        homepage_url  \\\n",
       "0                 http://livfame.com   \n",
       "1             http://www.qounter.com   \n",
       "2             http://www.qounter.com   \n",
       "3                http://oneofthem.jp   \n",
       "4                 http://www.0-6.com   \n",
       "5  http://004gmbh.de/en/004-interact   \n",
       "6             http://www.01games.hk/   \n",
       "7               http://ondinebio.com   \n",
       "8               http://ondinebio.com   \n",
       "9                     http://h2o.ai/   \n",
       "\n",
       "                                       category_list     status country_code  \\\n",
       "0                                              Media  operating          IND   \n",
       "1  Application Platforms|Real Time|Social Network...  operating          USA   \n",
       "2  Application Platforms|Real Time|Social Network...  operating          USA   \n",
       "3                                  Apps|Games|Mobile  operating          NaN   \n",
       "4                                        Curated Web  operating          CHN   \n",
       "5                                           Software  operating          USA   \n",
       "6                                              Games  operating          HKG   \n",
       "7                                      Biotechnology  operating          CAN   \n",
       "8                                      Biotechnology  operating          CAN   \n",
       "9                                          Analytics  operating          USA   \n",
       "\n",
       "  state_code                 region           city  founded_at  \\\n",
       "0         16                 Mumbai         Mumbai         NaN   \n",
       "1         DE             DE - Other  Delaware City  04-09-2014   \n",
       "2         DE             DE - Other  Delaware City  04-09-2014   \n",
       "3        NaN                    NaN            NaN         NaN   \n",
       "4         22                Beijing        Beijing  01-01-2007   \n",
       "5         IL  Springfield, Illinois      Champaign  01-01-2010   \n",
       "6        NaN              Hong Kong      Hong Kong         NaN   \n",
       "7         BC              Vancouver      Vancouver  01-01-1997   \n",
       "8         BC              Vancouver      Vancouver  01-01-1997   \n",
       "9         CA            SF Bay Area  Mountain View  01-01-2011   \n",
       "\n",
       "                           funding_round_permalink funding_round_type  \\\n",
       "0  /funding-round/9a01d05418af9f794eebff7ace91f638            venture   \n",
       "1  /funding-round/22dacff496eb7acb2b901dec1dfe5633            venture   \n",
       "2  /funding-round/b44fbb94153f6cdef13083530bb48030               seed   \n",
       "3  /funding-round/650b8f704416801069bb178a1418776b            venture   \n",
       "4  /funding-round/5727accaeaa57461bd22a9bdd945382d            venture   \n",
       "5  /funding-round/1278dd4e6a37fa4b7d7e06c21b3c1830            venture   \n",
       "6  /funding-round/7d53696f2b4f607a2f2a8cbb83d01839        undisclosed   \n",
       "7  /funding-round/2b9d3ac293d5cdccbecff5c8cb0f327d               seed   \n",
       "8  /funding-round/954b9499724b946ad8c396a57a5f3b72            venture   \n",
       "9  /funding-round/383a9bd2c04f7038bb543ccef5ba3eae               seed   \n",
       "\n",
       "  funding_round_code   funded_at  raised_amount_usd  \n",
       "0                  B  05-01-2015         10000000.0  \n",
       "1                  A  14-10-2014                NaN  \n",
       "2                NaN  01-03-2014           700000.0  \n",
       "3                  B  30-01-2014          3406878.0  \n",
       "4                  A  19-03-2008          2000000.0  \n",
       "5                NaN  24-07-2014                NaN  \n",
       "6                NaN  01-07-2014            41250.0  \n",
       "7                NaN  11-09-2009            43360.0  \n",
       "8                NaN  21-12-2009           719491.0  \n",
       "9                NaN  22-05-2013          3000000.0  "
      ]
     },
     "execution_count": 20,
     "metadata": {},
     "output_type": "execute_result"
    }
   ],
   "source": [
    "master_frame.head(10)"
   ]
  },
  {
   "cell_type": "code",
   "execution_count": 21,
   "metadata": {},
   "outputs": [
    {
     "name": "stdout",
     "output_type": "stream",
     "text": [
      "<class 'pandas.core.frame.DataFrame'>\n",
      "Int64Index: 114949 entries, 0 to 114948\n",
      "Data columns (total 15 columns):\n",
      " #   Column                   Non-Null Count   Dtype  \n",
      "---  ------                   --------------   -----  \n",
      " 0   permalink                114949 non-null  object \n",
      " 1   name                     114948 non-null  object \n",
      " 2   homepage_url             108815 non-null  object \n",
      " 3   category_list            111539 non-null  object \n",
      " 4   status                   114949 non-null  object \n",
      " 5   country_code             106271 non-null  object \n",
      " 6   state_code               104003 non-null  object \n",
      " 7   region                   104782 non-null  object \n",
      " 8   city                     104785 non-null  object \n",
      " 9   founded_at               94428 non-null   object \n",
      " 10  funding_round_permalink  114949 non-null  object \n",
      " 11  funding_round_type       114949 non-null  object \n",
      " 12  funding_round_code       31140 non-null   object \n",
      " 13  funded_at                114949 non-null  object \n",
      " 14  raised_amount_usd        94959 non-null   float64\n",
      "dtypes: float64(1), object(14)\n",
      "memory usage: 14.0+ MB\n"
     ]
    }
   ],
   "source": [
    "# let's check the genreral info of master dataset\n",
    "\n",
    "master_frame.info()"
   ]
  },
  {
   "cell_type": "code",
   "execution_count": 22,
   "metadata": {},
   "outputs": [
    {
     "data": {
      "text/plain": [
       "(114949, 15)"
      ]
     },
     "execution_count": 22,
     "metadata": {},
     "output_type": "execute_result"
    }
   ],
   "source": [
    "# also check shape of the master dataset\n",
    "\n",
    "master_frame.shape"
   ]
  },
  {
   "cell_type": "markdown",
   "metadata": {},
   "source": [
    "There are total 15 columns and 114949 entries in master_frame dataset."
   ]
  },
  {
   "cell_type": "code",
   "execution_count": 23,
   "metadata": {},
   "outputs": [
    {
     "data": {
      "text/plain": [
       "permalink                      0\n",
       "name                           1\n",
       "homepage_url                6134\n",
       "category_list               3410\n",
       "status                         0\n",
       "country_code                8678\n",
       "state_code                 10946\n",
       "region                     10167\n",
       "city                       10164\n",
       "founded_at                 20521\n",
       "funding_round_permalink        0\n",
       "funding_round_type             0\n",
       "funding_round_code         83809\n",
       "funded_at                      0\n",
       "raised_amount_usd          19990\n",
       "dtype: int64"
      ]
     },
     "execution_count": 23,
     "metadata": {},
     "output_type": "execute_result"
    }
   ],
   "source": [
    "#Let's check count of null values present in the dataset\n",
    "\n",
    "master_frame.isnull().sum()"
   ]
  },
  {
   "cell_type": "code",
   "execution_count": 24,
   "metadata": {},
   "outputs": [
    {
     "data": {
      "text/plain": [
       "permalink                   0.00\n",
       "name                        0.00\n",
       "homepage_url                5.34\n",
       "category_list               2.97\n",
       "status                      0.00\n",
       "country_code                7.55\n",
       "state_code                  9.52\n",
       "region                      8.84\n",
       "city                        8.84\n",
       "founded_at                 17.85\n",
       "funding_round_permalink     0.00\n",
       "funding_round_type          0.00\n",
       "funding_round_code         72.91\n",
       "funded_at                   0.00\n",
       "raised_amount_usd          17.39\n",
       "dtype: float64"
      ]
     },
     "execution_count": 24,
     "metadata": {},
     "output_type": "execute_result"
    }
   ],
   "source": [
    "# Let's also check the % of null values present in our dataset\n",
    "\n",
    "round((master_frame.isnull().sum()/len(master_frame.index))*100,2)"
   ]
  },
  {
   "cell_type": "markdown",
   "metadata": {},
   "source": [
    "We can see that `funding_round_code` has ~73% values missing. Also columns like `homepage_url`,`founded_at`,`state_code`,`region`,`city` are nit required for our anaylysis. So we can drop these columns. "
   ]
  },
  {
   "cell_type": "code",
   "execution_count": 25,
   "metadata": {},
   "outputs": [],
   "source": [
    "master_frame.drop(['funding_round_code','founded_at','homepage_url','state_code','city','region'], axis=1, inplace=True)"
   ]
  },
  {
   "cell_type": "code",
   "execution_count": 26,
   "metadata": {},
   "outputs": [
    {
     "data": {
      "text/plain": [
       "permalink                   0.00\n",
       "name                        0.00\n",
       "category_list               2.97\n",
       "status                      0.00\n",
       "country_code                7.55\n",
       "funding_round_permalink     0.00\n",
       "funding_round_type          0.00\n",
       "funded_at                   0.00\n",
       "raised_amount_usd          17.39\n",
       "dtype: float64"
      ]
     },
     "execution_count": 26,
     "metadata": {},
     "output_type": "execute_result"
    }
   ],
   "source": [
    "#Let's again check % of null values present in our dataset\n",
    "\n",
    "round((master_frame.isnull().sum()/len(master_frame.index))*100,2)"
   ]
  },
  {
   "cell_type": "code",
   "execution_count": 27,
   "metadata": {},
   "outputs": [
    {
     "data": {
      "text/plain": [
       "count         94959.00\n",
       "mean       10426869.33\n",
       "std       114821247.98\n",
       "min               0.00\n",
       "25%          322500.00\n",
       "50%         1680511.00\n",
       "75%         7000000.00\n",
       "max     21271935000.00\n",
       "Name: raised_amount_usd, dtype: float64"
      ]
     },
     "execution_count": 27,
     "metadata": {},
     "output_type": "execute_result"
    }
   ],
   "source": [
    "# Let's explore `raised_amount_usd` column further\n",
    "pd.set_option('float_format', '{:.2f}'.format)\n",
    "master_frame.raised_amount_usd.describe()"
   ]
  },
  {
   "cell_type": "code",
   "execution_count": 28,
   "metadata": {},
   "outputs": [
    {
     "data": {
      "text/plain": [
       "1        nan\n",
       "5        nan\n",
       "14       nan\n",
       "17       nan\n",
       "18       nan\n",
       "          ..\n",
       "114899   nan\n",
       "114905   nan\n",
       "114913   nan\n",
       "114927   nan\n",
       "114946   nan\n",
       "Name: raised_amount_usd, Length: 19990, dtype: float64"
      ]
     },
     "execution_count": 28,
     "metadata": {},
     "output_type": "execute_result"
    }
   ],
   "source": [
    "# Also check null values present in 'raised_amlunt_usd' column\n",
    "\n",
    "master_frame.raised_amount_usd[master_frame.raised_amount_usd.isnull()]"
   ]
  },
  {
   "cell_type": "code",
   "execution_count": 29,
   "metadata": {},
   "outputs": [],
   "source": [
    "# We can drop rows having null values from raised_amount _usd column\n",
    "\n",
    "master_frame.dropna(subset=['raised_amount_usd'],inplace=True)"
   ]
  },
  {
   "cell_type": "code",
   "execution_count": 30,
   "metadata": {},
   "outputs": [
    {
     "data": {
      "text/plain": [
       "permalink                 0.00\n",
       "name                      0.00\n",
       "category_list             1.10\n",
       "status                    0.00\n",
       "country_code              6.16\n",
       "funding_round_permalink   0.00\n",
       "funding_round_type        0.00\n",
       "funded_at                 0.00\n",
       "raised_amount_usd         0.00\n",
       "dtype: float64"
      ]
     },
     "execution_count": 30,
     "metadata": {},
     "output_type": "execute_result"
    }
   ],
   "source": [
    "#Let's again check % of null values present in our dataset\n",
    "\n",
    "round((master_frame.isnull().sum()/len(master_frame.index))*100,2)"
   ]
  },
  {
   "cell_type": "code",
   "execution_count": 31,
   "metadata": {},
   "outputs": [
    {
     "data": {
      "text/plain": [
       "USA   65.34\n",
       "GBR    5.29\n",
       "CAN    2.75\n",
       "CHN    2.03\n",
       "IND    1.74\n",
       "FRA    1.53\n",
       "ISR    1.44\n",
       "ESP    1.13\n",
       "DEU    1.10\n",
       "AUS    0.68\n",
       "RUS    0.62\n",
       "IRL    0.59\n",
       "SWE    0.59\n",
       "SGP    0.57\n",
       "NLD    0.56\n",
       "JPN    0.51\n",
       "ITA    0.51\n",
       "BRA    0.51\n",
       "CHE    0.46\n",
       "CHL    0.45\n",
       "KOR    0.45\n",
       "FIN    0.40\n",
       "DNK    0.33\n",
       "ARG    0.31\n",
       "BEL    0.31\n",
       "HKG    0.26\n",
       "TUR    0.21\n",
       "NOR    0.20\n",
       "BGR    0.20\n",
       "MEX    0.20\n",
       "AUT    0.16\n",
       "POL    0.15\n",
       "NZL    0.14\n",
       "EST    0.13\n",
       "PRT    0.11\n",
       "ARE    0.10\n",
       "MYS    0.10\n",
       "COL    0.10\n",
       "CZE    0.08\n",
       "PER    0.08\n",
       "ZAF    0.07\n",
       "IDN    0.07\n",
       "PHL    0.06\n",
       "THA    0.06\n",
       "UKR    0.06\n",
       "TWN    0.06\n",
       "LVA    0.06\n",
       "HUN    0.06\n",
       "NGA    0.05\n",
       "GRC    0.05\n",
       "LUX    0.05\n",
       "KEN    0.04\n",
       "LTU    0.04\n",
       "ROM    0.04\n",
       "EGY    0.04\n",
       "CYP    0.03\n",
       "SVK    0.03\n",
       "ISL    0.03\n",
       "VNM    0.03\n",
       "JOR    0.03\n",
       "PAK    0.03\n",
       "SVN    0.03\n",
       "LBN    0.03\n",
       "URY    0.02\n",
       "VEN    0.02\n",
       "SRB    0.02\n",
       "CYM    0.02\n",
       "BGD    0.02\n",
       "UGA    0.02\n",
       "TAN    0.01\n",
       "GHA    0.01\n",
       "SAU    0.01\n",
       "ECU    0.01\n",
       "PAN    0.01\n",
       "HRV    0.01\n",
       "MUS    0.01\n",
       "MLT    0.01\n",
       "BMU    0.01\n",
       "CRI    0.01\n",
       "GTM    0.01\n",
       "GIB    0.01\n",
       "BLR    0.01\n",
       "AZE    0.01\n",
       "TTO    0.01\n",
       "BHR    0.01\n",
       "MMR    0.00\n",
       "BWA    0.00\n",
       "SLV    0.00\n",
       "ARM    0.00\n",
       "NPL    0.00\n",
       "MDA    0.00\n",
       "GEO    0.00\n",
       "LKA    0.00\n",
       "PRI    0.00\n",
       "CMR    0.00\n",
       "RWA    0.00\n",
       "JAM    0.00\n",
       "LIE    0.00\n",
       "NIC    0.00\n",
       "KWT    0.00\n",
       "ZWE    0.00\n",
       "BLZ    0.00\n",
       "MCO    0.00\n",
       "TUN    0.00\n",
       "ALB    0.00\n",
       "ZMB    0.00\n",
       "DOM    0.00\n",
       "BAH    0.00\n",
       "CIV    0.00\n",
       "KAZ    0.00\n",
       "KHM    0.00\n",
       "MAR    0.00\n",
       "MAF    0.00\n",
       "GRD    0.00\n",
       "HND    0.00\n",
       "KNA    0.00\n",
       "LAO    0.00\n",
       "SOM    0.00\n",
       "BLM    0.00\n",
       "PRY    0.00\n",
       "OMN    0.00\n",
       "TGO    0.00\n",
       "MKD    0.00\n",
       "PSE    0.00\n",
       "DMA    0.00\n",
       "MNE    0.00\n",
       "SYC    0.00\n",
       "SEN    0.00\n",
       "BRB    0.00\n",
       "QAT    0.00\n",
       "IRN    0.00\n",
       "UZB    0.00\n",
       "DZA    0.00\n",
       "GGY    0.00\n",
       "Name: country_code, dtype: float64"
      ]
     },
     "execution_count": 31,
     "metadata": {},
     "output_type": "execute_result"
    }
   ],
   "source": [
    "# Let's eplore null values in 'country_code' column\n",
    "\n",
    "master_frame.country_code.value_counts()/len(master_frame.country_code)*100"
   ]
  },
  {
   "cell_type": "markdown",
   "metadata": {},
   "source": [
    "USA has ~65% share in total dataset. Also as we can see, theres only 6.16% of rows which are null. Rather than imputing null values, we can get rid of them"
   ]
  },
  {
   "cell_type": "code",
   "execution_count": 32,
   "metadata": {},
   "outputs": [],
   "source": [
    "master_frame.dropna(subset=['country_code'],inplace=True)"
   ]
  },
  {
   "cell_type": "code",
   "execution_count": 33,
   "metadata": {},
   "outputs": [
    {
     "data": {
      "text/plain": [
       "permalink                 0.00\n",
       "name                      0.00\n",
       "category_list             0.65\n",
       "status                    0.00\n",
       "country_code              0.00\n",
       "funding_round_permalink   0.00\n",
       "funding_round_type        0.00\n",
       "funded_at                 0.00\n",
       "raised_amount_usd         0.00\n",
       "dtype: float64"
      ]
     },
     "execution_count": 33,
     "metadata": {},
     "output_type": "execute_result"
    }
   ],
   "source": [
    "#Let's again check % of null values present in our dataset\n",
    "\n",
    "round((master_frame.isnull().sum()/len(master_frame.index))*100,2)"
   ]
  },
  {
   "cell_type": "code",
   "execution_count": 34,
   "metadata": {},
   "outputs": [
    {
     "data": {
      "text/plain": [
       "permalink                 0.00\n",
       "name                      0.00\n",
       "category_list             0.00\n",
       "status                    0.00\n",
       "country_code              0.00\n",
       "funding_round_permalink   0.00\n",
       "funding_round_type        0.00\n",
       "funded_at                 0.00\n",
       "raised_amount_usd         0.00\n",
       "dtype: float64"
      ]
     },
     "execution_count": 34,
     "metadata": {},
     "output_type": "execute_result"
    }
   ],
   "source": [
    "# Category_list column has 0.65% null values, we can get rid of these null values as well\n",
    "\n",
    "master_frame.dropna(subset=['category_list'],inplace=True)\n",
    "round((master_frame.isnull().sum()/len(master_frame.index))*100,2)"
   ]
  },
  {
   "cell_type": "markdown",
   "metadata": {},
   "source": [
    "Now our data seems cleaned, having no null values and having columns required for analysis. We can safely move ahead with this dataset for further analysis."
   ]
  },
  {
   "cell_type": "markdown",
   "metadata": {},
   "source": [
    "## Checkpoint 2: Funding Type Analysis"
   ]
  },
  {
   "cell_type": "markdown",
   "metadata": {},
   "source": [
    "#### Calculate the most representative value of the investment amount for each of the four funding types (venture, angel, seed, and private equity)"
   ]
  },
  {
   "cell_type": "code",
   "execution_count": 35,
   "metadata": {},
   "outputs": [
    {
     "data": {
      "text/plain": [
       "venture                  47809\n",
       "seed                     21095\n",
       "debt_financing            6506\n",
       "angel                     4400\n",
       "grant                     1939\n",
       "private_equity            1820\n",
       "undisclosed               1345\n",
       "convertible_note          1320\n",
       "equity_crowdfunding       1128\n",
       "post_ipo_equity            598\n",
       "product_crowdfunding       330\n",
       "post_ipo_debt              151\n",
       "non_equity_assistance       60\n",
       "secondary_market            28\n",
       "Name: funding_round_type, dtype: int64"
      ]
     },
     "execution_count": 35,
     "metadata": {},
     "output_type": "execute_result"
    }
   ],
   "source": [
    "# Let's check all types of fundings present in master_frame\n",
    "\n",
    "master_frame.funding_round_type.value_counts()"
   ]
  },
  {
   "cell_type": "code",
   "execution_count": 36,
   "metadata": {},
   "outputs": [
    {
     "data": {
      "text/plain": [
       "<matplotlib.axes._subplots.AxesSubplot at 0x183176bdf48>"
      ]
     },
     "execution_count": 36,
     "metadata": {},
     "output_type": "execute_result"
    },
    {
     "data": {
      "image/png": "[encoded data removed]",
      "text/plain": [
       "<Figure size 864x576 with 1 Axes>"
      ]
     },
     "metadata": {
      "needs_background": "light"
     },
     "output_type": "display_data"
    }
   ],
   "source": [
    "# Visualizing same data\n",
    "\n",
    "plt.figure(figsize=(12,8))\n",
    "master_frame['funding_round_type'].value_counts().plot.bar()"
   ]
  },
  {
   "cell_type": "code",
   "execution_count": 37,
   "metadata": {},
   "outputs": [
    {
     "data": {
      "text/plain": [
       "funding_round_type\n",
       "angel                      971573.89\n",
       "convertible_note          1337186.65\n",
       "debt_financing           17167653.47\n",
       "equity_crowdfunding        509897.97\n",
       "grant                     4512698.29\n",
       "non_equity_assistance      480753.38\n",
       "post_ipo_debt           169451789.77\n",
       "post_ipo_equity          66077058.57\n",
       "private_equity           73938486.28\n",
       "product_crowdfunding      1353226.91\n",
       "secondary_market         84438532.25\n",
       "seed                       747793.68\n",
       "undisclosed              15891661.39\n",
       "venture                  11724222.69\n",
       "Name: raised_amount_usd, dtype: float64"
      ]
     },
     "execution_count": 37,
     "metadata": {},
     "output_type": "execute_result"
    }
   ],
   "source": [
    "# Let's check average invested amount in each funding type\n",
    "\n",
    "pd.set_option('float_format', '{:.2f}'.format)\n",
    "master_frame.groupby('funding_round_type')['raised_amount_usd'].agg('mean')"
   ]
  },
  {
   "cell_type": "code",
   "execution_count": 38,
   "metadata": {},
   "outputs": [
    {
     "data": {
      "text/plain": [
       "<matplotlib.axes._subplots.AxesSubplot at 0x183179e22c8>"
      ]
     },
     "execution_count": 38,
     "metadata": {},
     "output_type": "execute_result"
    },
    {
     "data": {
      "image/png": "[encoded data removed]",
      "text/plain": [
       "<Figure size 864x576 with 1 Axes>"
      ]
     },
     "metadata": {
      "needs_background": "light"
     },
     "output_type": "display_data"
    }
   ],
   "source": [
    "# Visualising same data\n",
    "\n",
    "plt.figure(figsize=(12,8))\n",
    "master_frame.groupby('funding_round_type')['raised_amount_usd'].agg('mean').plot.bar()"
   ]
  },
  {
   "cell_type": "code",
   "execution_count": 39,
   "metadata": {},
   "outputs": [],
   "source": [
    "# Let's filter the data for four funding types which we want to consider (Venture, Angel, Seed, Private equity)\n",
    "\n",
    "master_frame_filtered = master_frame[master_frame.funding_round_type.isin(['venture','angel','seed','private_equity'])]"
   ]
  },
  {
   "cell_type": "code",
   "execution_count": 40,
   "metadata": {},
   "outputs": [
    {
     "data": {
      "text/plain": [
       "venture           47809\n",
       "seed              21095\n",
       "angel              4400\n",
       "private_equity     1820\n",
       "Name: funding_round_type, dtype: int64"
      ]
     },
     "execution_count": 40,
     "metadata": {},
     "output_type": "execute_result"
    }
   ],
   "source": [
    "master_frame_filtered.funding_round_type.value_counts()"
   ]
  },
  {
   "cell_type": "code",
   "execution_count": 41,
   "metadata": {},
   "outputs": [
    {
     "data": {
      "text/plain": [
       "<matplotlib.axes._subplots.AxesSubplot at 0x183177a7308>"
      ]
     },
     "execution_count": 41,
     "metadata": {},
     "output_type": "execute_result"
    },
    {
     "data": {
      "image/png": "[encoded data removed]",
      "text/plain": [
       "<Figure size 432x288 with 1 Axes>"
      ]
     },
     "metadata": {
      "needs_background": "light"
     },
     "output_type": "display_data"
    }
   ],
   "source": [
    "master_frame_filtered['funding_round_type'].value_counts().plot.bar()"
   ]
  },
  {
   "cell_type": "markdown",
   "metadata": {},
   "source": [
    "We can see that most numbers of fundings are done in 'Venture' type."
   ]
  },
  {
   "cell_type": "code",
   "execution_count": 42,
   "metadata": {},
   "outputs": [
    {
     "data": {
      "image/png": "[encoded data removed]",
      "text/plain": [
       "<Figure size 432x288 with 1 Axes>"
      ]
     },
     "metadata": {
      "needs_background": "light"
     },
     "output_type": "display_data"
    }
   ],
   "source": [
    "# Let's check distribution of these venture types based on raised_amount_usd\n",
    "\n",
    "sns.boxplot(y=master_frame_filtered['raised_amount_usd'])\n",
    "plt.yscale('log')"
   ]
  },
  {
   "cell_type": "code",
   "execution_count": 43,
   "metadata": {},
   "outputs": [
    {
     "data": {
      "text/plain": [
       "count         75124.00\n",
       "mean        9519475.01\n",
       "std        77927781.97\n",
       "min               0.00\n",
       "25%          470585.25\n",
       "50%         2000000.00\n",
       "75%         8000000.00\n",
       "max     17600000000.00\n",
       "Name: raised_amount_usd, dtype: float64"
      ]
     },
     "execution_count": 43,
     "metadata": {},
     "output_type": "execute_result"
    }
   ],
   "source": [
    "# Let's check summary of raised_amount_usd column\n",
    "pd.set_option('float_format', '{:.2f}'.format)\n",
    "master_frame_filtered['raised_amount_usd'].describe()"
   ]
  },
  {
   "cell_type": "markdown",
   "metadata": {},
   "source": [
    "We can see that theres significant amount of difference between mean (9.3 Million Dollars) and Median (2 Million dollars)"
   ]
  },
  {
   "cell_type": "code",
   "execution_count": 44,
   "metadata": {},
   "outputs": [
    {
     "data": {
      "image/png": "[encoded data removed]",
      "text/plain": [
       "<Figure size 864x576 with 1 Axes>"
      ]
     },
     "metadata": {
      "needs_background": "light"
     },
     "output_type": "display_data"
    }
   ],
   "source": [
    "# Let's check distribution amongst funding types\n",
    "plt.figure(figsize=(12,8))\n",
    "sns.boxplot(y=master_frame_filtered['raised_amount_usd'], x=master_frame_filtered['funding_round_type'])\n",
    "plt.yscale('log')"
   ]
  },
  {
   "cell_type": "code",
   "execution_count": 45,
   "metadata": {},
   "outputs": [
    {
     "data": {
      "text/html": [
       "<div>\n",
       "<style scoped>\n",
       "    .dataframe tbody tr th:only-of-type {\n",
       "        vertical-align: middle;\n",
       "    }\n",
       "\n",
       "    .dataframe tbody tr th {\n",
       "        vertical-align: top;\n",
       "    }\n",
       "\n",
       "    .dataframe thead th {\n",
       "        text-align: right;\n",
       "    }\n",
       "</style>\n",
       "<table border=\"1\" class=\"dataframe\">\n",
       "  <thead>\n",
       "    <tr style=\"text-align: right;\">\n",
       "      <th></th>\n",
       "      <th></th>\n",
       "      <th>mean</th>\n",
       "      <th>median</th>\n",
       "    </tr>\n",
       "    <tr>\n",
       "      <th></th>\n",
       "      <th>funding_round_type</th>\n",
       "      <th></th>\n",
       "      <th></th>\n",
       "    </tr>\n",
       "  </thead>\n",
       "  <tbody>\n",
       "    <tr>\n",
       "      <th rowspan=\"4\" valign=\"top\">raised_amount_usd</th>\n",
       "      <th>angel</th>\n",
       "      <td>971573.89</td>\n",
       "      <td>414906.00</td>\n",
       "    </tr>\n",
       "    <tr>\n",
       "      <th>private_equity</th>\n",
       "      <td>73938486.28</td>\n",
       "      <td>20000000.00</td>\n",
       "    </tr>\n",
       "    <tr>\n",
       "      <th>seed</th>\n",
       "      <td>747793.68</td>\n",
       "      <td>300000.00</td>\n",
       "    </tr>\n",
       "    <tr>\n",
       "      <th>venture</th>\n",
       "      <td>11724222.69</td>\n",
       "      <td>5000000.00</td>\n",
       "    </tr>\n",
       "  </tbody>\n",
       "</table>\n",
       "</div>"
      ],
      "text/plain": [
       "                                            mean      median\n",
       "                  funding_round_type                        \n",
       "raised_amount_usd angel                971573.89   414906.00\n",
       "                  private_equity     73938486.28 20000000.00\n",
       "                  seed                 747793.68   300000.00\n",
       "                  venture            11724222.69  5000000.00"
      ]
     },
     "execution_count": 45,
     "metadata": {},
     "output_type": "execute_result"
    }
   ],
   "source": [
    "master_frame_filtered.pivot_table(values='raised_amount_usd',columns='funding_round_type',aggfunc=[np.mean,np.median]).stack()"
   ]
  },
  {
   "cell_type": "markdown",
   "metadata": {},
   "source": [
    "The difference between mean and median can still be seen across all the funding types.\n",
    "\n",
    "Let's take median as a reference to find representative value as mean is influenced heavily by outliers.\n",
    "\n",
    "By comparing medians, we can see that 'venture' type is falling in between limits of 5 million dollars to 15 million dollars, all other values are either below or above this limit.\n",
    "\n",
    "So we can choose 'venture' as the representative value amongst 4 funding types."
   ]
  },
  {
   "cell_type": "markdown",
   "metadata": {},
   "source": [
    "##### Lets find average of all type of fundings"
   ]
  },
  {
   "cell_type": "code",
   "execution_count": 46,
   "metadata": {},
   "outputs": [
    {
     "name": "stdout",
     "output_type": "stream",
     "text": [
      "Average funding for 'Venture' type is: 11724223 USD\n"
     ]
    }
   ],
   "source": [
    "# Venture\n",
    "\n",
    "venture_mean = round(master_frame_filtered[master_frame_filtered['funding_round_type']=='venture'].raised_amount_usd.mean())\n",
    "print(\"Average funding for 'Venture' type is: {} USD\".format(venture_mean))"
   ]
  },
  {
   "cell_type": "code",
   "execution_count": 47,
   "metadata": {},
   "outputs": [
    {
     "name": "stdout",
     "output_type": "stream",
     "text": [
      "Average funding for 'Seed' type is: 747794 USD\n"
     ]
    }
   ],
   "source": [
    "# Seed\n",
    "\n",
    "seed_mean = round(master_frame_filtered[master_frame_filtered['funding_round_type']=='seed'].raised_amount_usd.mean())\n",
    "print(\"Average funding for 'Seed' type is: {} USD\".format(seed_mean))"
   ]
  },
  {
   "cell_type": "code",
   "execution_count": 48,
   "metadata": {},
   "outputs": [
    {
     "name": "stdout",
     "output_type": "stream",
     "text": [
      "Average funding for 'Angel' type is: 971574 USD\n"
     ]
    }
   ],
   "source": [
    "# Angel\n",
    "\n",
    "angel_mean = round(master_frame_filtered[master_frame_filtered['funding_round_type']=='angel'].raised_amount_usd.mean())\n",
    "print(\"Average funding for 'Angel' type is: {} USD\".format(angel_mean))"
   ]
  },
  {
   "cell_type": "code",
   "execution_count": 49,
   "metadata": {},
   "outputs": [
    {
     "name": "stdout",
     "output_type": "stream",
     "text": [
      "Average funding for 'Private Equity' type is: 73938486 USD\n"
     ]
    }
   ],
   "source": [
    "# Private equity\n",
    "\n",
    "private_equity_mean = round(master_frame_filtered[master_frame_filtered['funding_round_type']=='private_equity'].raised_amount_usd.mean())\n",
    "print(\"Average funding for 'Private Equity' type is: {} USD\".format(private_equity_mean))"
   ]
  },
  {
   "cell_type": "markdown",
   "metadata": {},
   "source": [
    "##### Considering that Spark Funds wants to invest between 5 to 15 million USD per investment round, which investment type is the most suitable for it?"
   ]
  },
  {
   "cell_type": "code",
   "execution_count": 50,
   "metadata": {},
   "outputs": [
    {
     "name": "stdout",
     "output_type": "stream",
     "text": [
      "The preferred investment type is venture.\n"
     ]
    }
   ],
   "source": [
    "min_limit = 5000000\n",
    "max_limit = 15000000\n",
    "investment_mean = {'venture':venture_mean, 'angel':angel_mean, 'seed':seed_mean, 'private_equity':private_equity_mean}\n",
    "\n",
    "for investment_type in investment_mean:\n",
    "    if investment_mean[investment_type] > min_limit and investment_mean[investment_type] < max_limit:\n",
    "        print('The preferred investment type is {}.'.format(investment_type))"
   ]
  },
  {
   "cell_type": "markdown",
   "metadata": {},
   "source": [
    "## Checkpoint 3: Country Analysis"
   ]
  },
  {
   "cell_type": "markdown",
   "metadata": {},
   "source": [
    "### Identify the top three English-speaking countries in the data frame top9."
   ]
  },
  {
   "cell_type": "code",
   "execution_count": 51,
   "metadata": {},
   "outputs": [
    {
     "data": {
      "text/plain": [
       "USA    51585\n",
       "GBR     4049\n",
       "CAN     2193\n",
       "CHN     1810\n",
       "IND     1556\n",
       "FRA     1386\n",
       "ISR     1226\n",
       "DEU      944\n",
       "ESP      882\n",
       "Name: country_code, dtype: int64"
      ]
     },
     "execution_count": 51,
     "metadata": {},
     "output_type": "execute_result"
    }
   ],
   "source": [
    "# Let's first identify top 9 contries present in master_frame\n",
    "\n",
    "master_frame_filtered.country_code.value_counts()[0:9]"
   ]
  },
  {
   "cell_type": "code",
   "execution_count": 52,
   "metadata": {},
   "outputs": [
    {
     "data": {
      "text/plain": [
       "USA    35943\n",
       "GBR     2041\n",
       "CHN     1548\n",
       "CAN     1246\n",
       "FRA      912\n",
       "IND      819\n",
       "ISR      786\n",
       "DEU      554\n",
       "ESP      316\n",
       "Name: country_code, dtype: int64"
      ]
     },
     "execution_count": 52,
     "metadata": {},
     "output_type": "execute_result"
    }
   ],
   "source": [
    "# Let's check if these are the same countries in terms of venture type funding\n",
    "\n",
    "master_frame_filtered[master_frame_filtered['funding_round_type']=='venture'].country_code.value_counts()[0:9]"
   ]
  },
  {
   "cell_type": "code",
   "execution_count": 53,
   "metadata": {},
   "outputs": [
    {
     "data": {
      "text/html": [
       "<div>\n",
       "<style scoped>\n",
       "    .dataframe tbody tr th:only-of-type {\n",
       "        vertical-align: middle;\n",
       "    }\n",
       "\n",
       "    .dataframe tbody tr th {\n",
       "        vertical-align: top;\n",
       "    }\n",
       "\n",
       "    .dataframe thead th {\n",
       "        text-align: right;\n",
       "    }\n",
       "</style>\n",
       "<table border=\"1\" class=\"dataframe\">\n",
       "  <thead>\n",
       "    <tr style=\"text-align: right;\">\n",
       "      <th></th>\n",
       "      <th>raised_amount_usd</th>\n",
       "    </tr>\n",
       "    <tr>\n",
       "      <th>country_code</th>\n",
       "      <th></th>\n",
       "    </tr>\n",
       "  </thead>\n",
       "  <tbody>\n",
       "    <tr>\n",
       "      <th>USA</th>\n",
       "      <td>420068029342.00</td>\n",
       "    </tr>\n",
       "    <tr>\n",
       "      <th>CHN</th>\n",
       "      <td>39338918773.00</td>\n",
       "    </tr>\n",
       "    <tr>\n",
       "      <th>GBR</th>\n",
       "      <td>20072813004.00</td>\n",
       "    </tr>\n",
       "    <tr>\n",
       "      <th>IND</th>\n",
       "      <td>14261508718.00</td>\n",
       "    </tr>\n",
       "    <tr>\n",
       "      <th>CAN</th>\n",
       "      <td>9482217668.00</td>\n",
       "    </tr>\n",
       "    <tr>\n",
       "      <th>FRA</th>\n",
       "      <td>7226851352.00</td>\n",
       "    </tr>\n",
       "    <tr>\n",
       "      <th>ISR</th>\n",
       "      <td>6854350477.00</td>\n",
       "    </tr>\n",
       "    <tr>\n",
       "      <th>DEU</th>\n",
       "      <td>6306921981.00</td>\n",
       "    </tr>\n",
       "    <tr>\n",
       "      <th>JPN</th>\n",
       "      <td>3167647127.00</td>\n",
       "    </tr>\n",
       "  </tbody>\n",
       "</table>\n",
       "</div>"
      ],
      "text/plain": [
       "              raised_amount_usd\n",
       "country_code                   \n",
       "USA             420068029342.00\n",
       "CHN              39338918773.00\n",
       "GBR              20072813004.00\n",
       "IND              14261508718.00\n",
       "CAN               9482217668.00\n",
       "FRA               7226851352.00\n",
       "ISR               6854350477.00\n",
       "DEU               6306921981.00\n",
       "JPN               3167647127.00"
      ]
     },
     "execution_count": 53,
     "metadata": {},
     "output_type": "execute_result"
    }
   ],
   "source": [
    "# Let's check countries based on total amount raised in usd for venture type funding \n",
    "\n",
    "master_frame_filtered[master_frame_filtered['funding_round_type']=='venture'].groupby('country_code').sum().sort_values('raised_amount_usd', ascending=False)[0:9]"
   ]
  },
  {
   "cell_type": "code",
   "execution_count": 54,
   "metadata": {},
   "outputs": [],
   "source": [
    "# let's save this as top9 dataframe\n",
    "\n",
    "top9 = master_frame_filtered[master_frame_filtered['funding_round_type']=='venture'].groupby('country_code').sum().sort_values('raised_amount_usd', ascending=False)[0:9]"
   ]
  },
  {
   "cell_type": "code",
   "execution_count": 55,
   "metadata": {},
   "outputs": [
    {
     "data": {
      "text/plain": [
       "<matplotlib.axes._subplots.AxesSubplot at 0x18317a72448>"
      ]
     },
     "execution_count": 55,
     "metadata": {},
     "output_type": "execute_result"
    },
    {
     "data": {
      "image/png": "[encoded data removed]",
      "text/plain": [
       "<Figure size 864x576 with 1 Axes>"
      ]
     },
     "metadata": {
      "needs_background": "light"
     },
     "output_type": "display_data"
    }
   ],
   "source": [
    "plt.figure(figsize=(12,8))\n",
    "sns.barplot(x=top9.index,y=top9.values.reshape(-1))"
   ]
  },
  {
   "cell_type": "markdown",
   "metadata": {},
   "source": [
    "###### USA, China, United Kingdom, India, Canada, France, Israel, Germany and Japan are top 9 english speaking countries where maximum funding has been done in 'venture' type.\n",
    "\n",
    "###### USA, United Kingdom and India are top 3 English-speaking countries"
   ]
  },
  {
   "cell_type": "markdown",
   "metadata": {},
   "source": [
    "## Checkpoint 4: Sector Analysis 1"
   ]
  },
  {
   "cell_type": "markdown",
   "metadata": {},
   "source": [
    "#### We will map primany sector of each company to the eight main sectors"
   ]
  },
  {
   "cell_type": "code",
   "execution_count": 56,
   "metadata": {},
   "outputs": [],
   "source": [
    "# Let's read mapping.csv file first\n",
    "\n",
    "mapping = pd.read_csv('mapping.csv')"
   ]
  },
  {
   "cell_type": "code",
   "execution_count": 57,
   "metadata": {},
   "outputs": [
    {
     "data": {
      "text/html": [
       "<div>\n",
       "<style scoped>\n",
       "    .dataframe tbody tr th:only-of-type {\n",
       "        vertical-align: middle;\n",
       "    }\n",
       "\n",
       "    .dataframe tbody tr th {\n",
       "        vertical-align: top;\n",
       "    }\n",
       "\n",
       "    .dataframe thead th {\n",
       "        text-align: right;\n",
       "    }\n",
       "</style>\n",
       "<table border=\"1\" class=\"dataframe\">\n",
       "  <thead>\n",
       "    <tr style=\"text-align: right;\">\n",
       "      <th></th>\n",
       "      <th>category_list</th>\n",
       "      <th>Automotive &amp; Sports</th>\n",
       "      <th>Blanks</th>\n",
       "      <th>Cleantech / Semiconductors</th>\n",
       "      <th>Entertainment</th>\n",
       "      <th>Health</th>\n",
       "      <th>Manufacturing</th>\n",
       "      <th>News, Search and Messaging</th>\n",
       "      <th>Others</th>\n",
       "      <th>Social, Finance, Analytics, Advertising</th>\n",
       "    </tr>\n",
       "  </thead>\n",
       "  <tbody>\n",
       "    <tr>\n",
       "      <th>0</th>\n",
       "      <td>NaN</td>\n",
       "      <td>0</td>\n",
       "      <td>1</td>\n",
       "      <td>0</td>\n",
       "      <td>0</td>\n",
       "      <td>0</td>\n",
       "      <td>0</td>\n",
       "      <td>0</td>\n",
       "      <td>0</td>\n",
       "      <td>0</td>\n",
       "    </tr>\n",
       "    <tr>\n",
       "      <th>1</th>\n",
       "      <td>3D</td>\n",
       "      <td>0</td>\n",
       "      <td>0</td>\n",
       "      <td>0</td>\n",
       "      <td>0</td>\n",
       "      <td>0</td>\n",
       "      <td>1</td>\n",
       "      <td>0</td>\n",
       "      <td>0</td>\n",
       "      <td>0</td>\n",
       "    </tr>\n",
       "    <tr>\n",
       "      <th>2</th>\n",
       "      <td>3D Printing</td>\n",
       "      <td>0</td>\n",
       "      <td>0</td>\n",
       "      <td>0</td>\n",
       "      <td>0</td>\n",
       "      <td>0</td>\n",
       "      <td>1</td>\n",
       "      <td>0</td>\n",
       "      <td>0</td>\n",
       "      <td>0</td>\n",
       "    </tr>\n",
       "    <tr>\n",
       "      <th>3</th>\n",
       "      <td>3D Technology</td>\n",
       "      <td>0</td>\n",
       "      <td>0</td>\n",
       "      <td>0</td>\n",
       "      <td>0</td>\n",
       "      <td>0</td>\n",
       "      <td>1</td>\n",
       "      <td>0</td>\n",
       "      <td>0</td>\n",
       "      <td>0</td>\n",
       "    </tr>\n",
       "    <tr>\n",
       "      <th>4</th>\n",
       "      <td>Accounting</td>\n",
       "      <td>0</td>\n",
       "      <td>0</td>\n",
       "      <td>0</td>\n",
       "      <td>0</td>\n",
       "      <td>0</td>\n",
       "      <td>0</td>\n",
       "      <td>0</td>\n",
       "      <td>0</td>\n",
       "      <td>1</td>\n",
       "    </tr>\n",
       "  </tbody>\n",
       "</table>\n",
       "</div>"
      ],
      "text/plain": [
       "   category_list  Automotive & Sports  Blanks  Cleantech / Semiconductors  \\\n",
       "0            NaN                    0       1                           0   \n",
       "1             3D                    0       0                           0   \n",
       "2    3D Printing                    0       0                           0   \n",
       "3  3D Technology                    0       0                           0   \n",
       "4     Accounting                    0       0                           0   \n",
       "\n",
       "   Entertainment  Health  Manufacturing  News, Search and Messaging  Others  \\\n",
       "0              0       0              0                           0       0   \n",
       "1              0       0              1                           0       0   \n",
       "2              0       0              1                           0       0   \n",
       "3              0       0              1                           0       0   \n",
       "4              0       0              0                           0       0   \n",
       "\n",
       "   Social, Finance, Analytics, Advertising  \n",
       "0                                        0  \n",
       "1                                        0  \n",
       "2                                        0  \n",
       "3                                        0  \n",
       "4                                        1  "
      ]
     },
     "execution_count": 57,
     "metadata": {},
     "output_type": "execute_result"
    }
   ],
   "source": [
    "mapping.head()"
   ]
  },
  {
   "cell_type": "code",
   "execution_count": 58,
   "metadata": {},
   "outputs": [],
   "source": [
    "# Drop first row as it has NaN value\n",
    "\n",
    "mapping.drop([0], inplace=True)"
   ]
  },
  {
   "cell_type": "markdown",
   "metadata": {},
   "source": [
    "As we can see, all the sectors are one hot encoded to its main sector."
   ]
  },
  {
   "cell_type": "code",
   "execution_count": 59,
   "metadata": {},
   "outputs": [
    {
     "name": "stdout",
     "output_type": "stream",
     "text": [
      "<class 'pandas.core.frame.DataFrame'>\n",
      "Int64Index: 687 entries, 1 to 687\n",
      "Data columns (total 10 columns):\n",
      " #   Column                                   Non-Null Count  Dtype \n",
      "---  ------                                   --------------  ----- \n",
      " 0   category_list                            687 non-null    object\n",
      " 1   Automotive & Sports                      687 non-null    int64 \n",
      " 2   Blanks                                   687 non-null    int64 \n",
      " 3   Cleantech / Semiconductors               687 non-null    int64 \n",
      " 4   Entertainment                            687 non-null    int64 \n",
      " 5   Health                                   687 non-null    int64 \n",
      " 6   Manufacturing                            687 non-null    int64 \n",
      " 7   News, Search and Messaging               687 non-null    int64 \n",
      " 8   Others                                   687 non-null    int64 \n",
      " 9   Social, Finance, Analytics, Advertising  687 non-null    int64 \n",
      "dtypes: int64(9), object(1)\n",
      "memory usage: 59.0+ KB\n"
     ]
    }
   ],
   "source": [
    "mapping.info()"
   ]
  },
  {
   "cell_type": "code",
   "execution_count": 60,
   "metadata": {},
   "outputs": [
    {
     "data": {
      "text/html": [
       "<div>\n",
       "<style scoped>\n",
       "    .dataframe tbody tr th:only-of-type {\n",
       "        vertical-align: middle;\n",
       "    }\n",
       "\n",
       "    .dataframe tbody tr th {\n",
       "        vertical-align: top;\n",
       "    }\n",
       "\n",
       "    .dataframe thead th {\n",
       "        text-align: right;\n",
       "    }\n",
       "</style>\n",
       "<table border=\"1\" class=\"dataframe\">\n",
       "  <thead>\n",
       "    <tr style=\"text-align: right;\">\n",
       "      <th></th>\n",
       "      <th>permalink</th>\n",
       "      <th>name</th>\n",
       "      <th>category_list</th>\n",
       "      <th>status</th>\n",
       "      <th>country_code</th>\n",
       "      <th>funding_round_permalink</th>\n",
       "      <th>funding_round_type</th>\n",
       "      <th>funded_at</th>\n",
       "      <th>raised_amount_usd</th>\n",
       "    </tr>\n",
       "  </thead>\n",
       "  <tbody>\n",
       "    <tr>\n",
       "      <th>0</th>\n",
       "      <td>/organization/-fame</td>\n",
       "      <td>#fame</td>\n",
       "      <td>Media</td>\n",
       "      <td>operating</td>\n",
       "      <td>IND</td>\n",
       "      <td>/funding-round/9a01d05418af9f794eebff7ace91f638</td>\n",
       "      <td>venture</td>\n",
       "      <td>05-01-2015</td>\n",
       "      <td>10000000.00</td>\n",
       "    </tr>\n",
       "    <tr>\n",
       "      <th>2</th>\n",
       "      <td>/organization/-qounter</td>\n",
       "      <td>:Qounter</td>\n",
       "      <td>Application Platforms|Real Time|Social Network...</td>\n",
       "      <td>operating</td>\n",
       "      <td>USA</td>\n",
       "      <td>/funding-round/b44fbb94153f6cdef13083530bb48030</td>\n",
       "      <td>seed</td>\n",
       "      <td>01-03-2014</td>\n",
       "      <td>700000.00</td>\n",
       "    </tr>\n",
       "    <tr>\n",
       "      <th>4</th>\n",
       "      <td>/organization/0-6-com</td>\n",
       "      <td>0-6.com</td>\n",
       "      <td>Curated Web</td>\n",
       "      <td>operating</td>\n",
       "      <td>CHN</td>\n",
       "      <td>/funding-round/5727accaeaa57461bd22a9bdd945382d</td>\n",
       "      <td>venture</td>\n",
       "      <td>19-03-2008</td>\n",
       "      <td>2000000.00</td>\n",
       "    </tr>\n",
       "    <tr>\n",
       "      <th>7</th>\n",
       "      <td>/organization/0ndine-biomedical-inc</td>\n",
       "      <td>Ondine Biomedical Inc.</td>\n",
       "      <td>Biotechnology</td>\n",
       "      <td>operating</td>\n",
       "      <td>CAN</td>\n",
       "      <td>/funding-round/2b9d3ac293d5cdccbecff5c8cb0f327d</td>\n",
       "      <td>seed</td>\n",
       "      <td>11-09-2009</td>\n",
       "      <td>43360.00</td>\n",
       "    </tr>\n",
       "    <tr>\n",
       "      <th>8</th>\n",
       "      <td>/organization/0ndine-biomedical-inc</td>\n",
       "      <td>Ondine Biomedical Inc.</td>\n",
       "      <td>Biotechnology</td>\n",
       "      <td>operating</td>\n",
       "      <td>CAN</td>\n",
       "      <td>/funding-round/954b9499724b946ad8c396a57a5f3b72</td>\n",
       "      <td>venture</td>\n",
       "      <td>21-12-2009</td>\n",
       "      <td>719491.00</td>\n",
       "    </tr>\n",
       "  </tbody>\n",
       "</table>\n",
       "</div>"
      ],
      "text/plain": [
       "                             permalink                    name  \\\n",
       "0                  /organization/-fame                   #fame   \n",
       "2               /organization/-qounter                :Qounter   \n",
       "4                /organization/0-6-com                 0-6.com   \n",
       "7  /organization/0ndine-biomedical-inc  Ondine Biomedical Inc.   \n",
       "8  /organization/0ndine-biomedical-inc  Ondine Biomedical Inc.   \n",
       "\n",
       "                                       category_list     status country_code  \\\n",
       "0                                              Media  operating          IND   \n",
       "2  Application Platforms|Real Time|Social Network...  operating          USA   \n",
       "4                                        Curated Web  operating          CHN   \n",
       "7                                      Biotechnology  operating          CAN   \n",
       "8                                      Biotechnology  operating          CAN   \n",
       "\n",
       "                           funding_round_permalink funding_round_type  \\\n",
       "0  /funding-round/9a01d05418af9f794eebff7ace91f638            venture   \n",
       "2  /funding-round/b44fbb94153f6cdef13083530bb48030               seed   \n",
       "4  /funding-round/5727accaeaa57461bd22a9bdd945382d            venture   \n",
       "7  /funding-round/2b9d3ac293d5cdccbecff5c8cb0f327d               seed   \n",
       "8  /funding-round/954b9499724b946ad8c396a57a5f3b72            venture   \n",
       "\n",
       "    funded_at  raised_amount_usd  \n",
       "0  05-01-2015        10000000.00  \n",
       "2  01-03-2014          700000.00  \n",
       "4  19-03-2008         2000000.00  \n",
       "7  11-09-2009           43360.00  \n",
       "8  21-12-2009          719491.00  "
      ]
     },
     "execution_count": 60,
     "metadata": {},
     "output_type": "execute_result"
    }
   ],
   "source": [
    "# Let's check our master_frame dataset again\n",
    "\n",
    "master_frame_filtered.head()"
   ]
  },
  {
   "cell_type": "code",
   "execution_count": 61,
   "metadata": {},
   "outputs": [
    {
     "data": {
      "text/plain": [
       "permalink                  0\n",
       "name                       1\n",
       "category_list              0\n",
       "status                     0\n",
       "country_code               0\n",
       "funding_round_permalink    0\n",
       "funding_round_type         0\n",
       "funded_at                  0\n",
       "raised_amount_usd          0\n",
       "dtype: int64"
      ]
     },
     "execution_count": 61,
     "metadata": {},
     "output_type": "execute_result"
    }
   ],
   "source": [
    "master_frame_filtered.isnull().sum()"
   ]
  },
  {
   "cell_type": "markdown",
   "metadata": {},
   "source": [
    "We can see that few rows have multiple sectors in category_list column. As per our discussion with CEO, The first category in the category list column can be considered as primary category"
   ]
  },
  {
   "cell_type": "code",
   "execution_count": 62,
   "metadata": {},
   "outputs": [],
   "source": [
    "# Let's extract primary sector from category_list in a new column\n",
    "\n",
    "master_frame_filtered['primary_sector'] = master_frame_filtered['category_list'].str.split('|').str[0]"
   ]
  },
  {
   "cell_type": "code",
   "execution_count": 63,
   "metadata": {},
   "outputs": [
    {
     "data": {
      "text/html": [
       "<div>\n",
       "<style scoped>\n",
       "    .dataframe tbody tr th:only-of-type {\n",
       "        vertical-align: middle;\n",
       "    }\n",
       "\n",
       "    .dataframe tbody tr th {\n",
       "        vertical-align: top;\n",
       "    }\n",
       "\n",
       "    .dataframe thead th {\n",
       "        text-align: right;\n",
       "    }\n",
       "</style>\n",
       "<table border=\"1\" class=\"dataframe\">\n",
       "  <thead>\n",
       "    <tr style=\"text-align: right;\">\n",
       "      <th></th>\n",
       "      <th>permalink</th>\n",
       "      <th>name</th>\n",
       "      <th>category_list</th>\n",
       "      <th>status</th>\n",
       "      <th>country_code</th>\n",
       "      <th>funding_round_permalink</th>\n",
       "      <th>funding_round_type</th>\n",
       "      <th>funded_at</th>\n",
       "      <th>raised_amount_usd</th>\n",
       "      <th>primary_sector</th>\n",
       "    </tr>\n",
       "  </thead>\n",
       "  <tbody>\n",
       "    <tr>\n",
       "      <th>0</th>\n",
       "      <td>/organization/-fame</td>\n",
       "      <td>#fame</td>\n",
       "      <td>Media</td>\n",
       "      <td>operating</td>\n",
       "      <td>IND</td>\n",
       "      <td>/funding-round/9a01d05418af9f794eebff7ace91f638</td>\n",
       "      <td>venture</td>\n",
       "      <td>05-01-2015</td>\n",
       "      <td>10000000.00</td>\n",
       "      <td>Media</td>\n",
       "    </tr>\n",
       "    <tr>\n",
       "      <th>2</th>\n",
       "      <td>/organization/-qounter</td>\n",
       "      <td>:Qounter</td>\n",
       "      <td>Application Platforms|Real Time|Social Network...</td>\n",
       "      <td>operating</td>\n",
       "      <td>USA</td>\n",
       "      <td>/funding-round/b44fbb94153f6cdef13083530bb48030</td>\n",
       "      <td>seed</td>\n",
       "      <td>01-03-2014</td>\n",
       "      <td>700000.00</td>\n",
       "      <td>Application Platforms</td>\n",
       "    </tr>\n",
       "    <tr>\n",
       "      <th>4</th>\n",
       "      <td>/organization/0-6-com</td>\n",
       "      <td>0-6.com</td>\n",
       "      <td>Curated Web</td>\n",
       "      <td>operating</td>\n",
       "      <td>CHN</td>\n",
       "      <td>/funding-round/5727accaeaa57461bd22a9bdd945382d</td>\n",
       "      <td>venture</td>\n",
       "      <td>19-03-2008</td>\n",
       "      <td>2000000.00</td>\n",
       "      <td>Curated Web</td>\n",
       "    </tr>\n",
       "    <tr>\n",
       "      <th>7</th>\n",
       "      <td>/organization/0ndine-biomedical-inc</td>\n",
       "      <td>Ondine Biomedical Inc.</td>\n",
       "      <td>Biotechnology</td>\n",
       "      <td>operating</td>\n",
       "      <td>CAN</td>\n",
       "      <td>/funding-round/2b9d3ac293d5cdccbecff5c8cb0f327d</td>\n",
       "      <td>seed</td>\n",
       "      <td>11-09-2009</td>\n",
       "      <td>43360.00</td>\n",
       "      <td>Biotechnology</td>\n",
       "    </tr>\n",
       "    <tr>\n",
       "      <th>8</th>\n",
       "      <td>/organization/0ndine-biomedical-inc</td>\n",
       "      <td>Ondine Biomedical Inc.</td>\n",
       "      <td>Biotechnology</td>\n",
       "      <td>operating</td>\n",
       "      <td>CAN</td>\n",
       "      <td>/funding-round/954b9499724b946ad8c396a57a5f3b72</td>\n",
       "      <td>venture</td>\n",
       "      <td>21-12-2009</td>\n",
       "      <td>719491.00</td>\n",
       "      <td>Biotechnology</td>\n",
       "    </tr>\n",
       "    <tr>\n",
       "      <th>9</th>\n",
       "      <td>/organization/0xdata</td>\n",
       "      <td>H2O.ai</td>\n",
       "      <td>Analytics</td>\n",
       "      <td>operating</td>\n",
       "      <td>USA</td>\n",
       "      <td>/funding-round/383a9bd2c04f7038bb543ccef5ba3eae</td>\n",
       "      <td>seed</td>\n",
       "      <td>22-05-2013</td>\n",
       "      <td>3000000.00</td>\n",
       "      <td>Analytics</td>\n",
       "    </tr>\n",
       "    <tr>\n",
       "      <th>10</th>\n",
       "      <td>/organization/0xdata</td>\n",
       "      <td>H2O.ai</td>\n",
       "      <td>Analytics</td>\n",
       "      <td>operating</td>\n",
       "      <td>USA</td>\n",
       "      <td>/funding-round/3bb2ee4a2d89251a10aaa735b1180e44</td>\n",
       "      <td>venture</td>\n",
       "      <td>09-11-2015</td>\n",
       "      <td>20000000.00</td>\n",
       "      <td>Analytics</td>\n",
       "    </tr>\n",
       "    <tr>\n",
       "      <th>11</th>\n",
       "      <td>/organization/0xdata</td>\n",
       "      <td>H2O.ai</td>\n",
       "      <td>Analytics</td>\n",
       "      <td>operating</td>\n",
       "      <td>USA</td>\n",
       "      <td>/funding-round/ae2a174c06517c2394aed45006322a7e</td>\n",
       "      <td>venture</td>\n",
       "      <td>03-01-2013</td>\n",
       "      <td>1700000.00</td>\n",
       "      <td>Analytics</td>\n",
       "    </tr>\n",
       "    <tr>\n",
       "      <th>12</th>\n",
       "      <td>/organization/0xdata</td>\n",
       "      <td>H2O.ai</td>\n",
       "      <td>Analytics</td>\n",
       "      <td>operating</td>\n",
       "      <td>USA</td>\n",
       "      <td>/funding-round/e1cfcbe1bdf4c70277c5f29a3482f24e</td>\n",
       "      <td>venture</td>\n",
       "      <td>19-07-2014</td>\n",
       "      <td>8900000.00</td>\n",
       "      <td>Analytics</td>\n",
       "    </tr>\n",
       "    <tr>\n",
       "      <th>13</th>\n",
       "      <td>/organization/1</td>\n",
       "      <td>One Inc.</td>\n",
       "      <td>Mobile</td>\n",
       "      <td>operating</td>\n",
       "      <td>USA</td>\n",
       "      <td>/funding-round/03b975068632eba5bfdb937ec8c07a68</td>\n",
       "      <td>seed</td>\n",
       "      <td>05-02-2014</td>\n",
       "      <td>150000.00</td>\n",
       "      <td>Mobile</td>\n",
       "    </tr>\n",
       "    <tr>\n",
       "      <th>15</th>\n",
       "      <td>/organization/1</td>\n",
       "      <td>One Inc.</td>\n",
       "      <td>Mobile</td>\n",
       "      <td>operating</td>\n",
       "      <td>USA</td>\n",
       "      <td>/funding-round/e82464f22241715dd1a6c77241055ed1</td>\n",
       "      <td>seed</td>\n",
       "      <td>20-07-2011</td>\n",
       "      <td>1000050.00</td>\n",
       "      <td>Mobile</td>\n",
       "    </tr>\n",
       "    <tr>\n",
       "      <th>16</th>\n",
       "      <td>/organization/1-2-3-listo</td>\n",
       "      <td>1,2,3 Listo</td>\n",
       "      <td>E-Commerce</td>\n",
       "      <td>operating</td>\n",
       "      <td>CHL</td>\n",
       "      <td>/funding-round/6de4609e894495105bc791ed64361288</td>\n",
       "      <td>seed</td>\n",
       "      <td>18-02-2013</td>\n",
       "      <td>40000.00</td>\n",
       "      <td>E-Commerce</td>\n",
       "    </tr>\n",
       "    <tr>\n",
       "      <th>21</th>\n",
       "      <td>/organization/1-800-publicrelations-inc-</td>\n",
       "      <td>1-800-PublicRelations, Inc.</td>\n",
       "      <td>Internet Marketing|Media|Public Relations</td>\n",
       "      <td>operating</td>\n",
       "      <td>USA</td>\n",
       "      <td>/funding-round/11c228f58831bc7ed337ef69ecc560c2</td>\n",
       "      <td>private_equity</td>\n",
       "      <td>01-02-2015</td>\n",
       "      <td>6000000.00</td>\n",
       "      <td>Internet Marketing</td>\n",
       "    </tr>\n",
       "    <tr>\n",
       "      <th>22</th>\n",
       "      <td>/organization/1-mainstream</td>\n",
       "      <td>1 Mainstream</td>\n",
       "      <td>Apps|Cable|Distribution|Software</td>\n",
       "      <td>acquired</td>\n",
       "      <td>USA</td>\n",
       "      <td>/funding-round/b952cbaf401f310927430c97b68162ea</td>\n",
       "      <td>venture</td>\n",
       "      <td>17-03-2015</td>\n",
       "      <td>5000000.00</td>\n",
       "      <td>Apps</td>\n",
       "    </tr>\n",
       "    <tr>\n",
       "      <th>28</th>\n",
       "      <td>/organization/10-minutes-with</td>\n",
       "      <td>10 Minutes With</td>\n",
       "      <td>Education</td>\n",
       "      <td>operating</td>\n",
       "      <td>GBR</td>\n",
       "      <td>/funding-round/0faccbbcc5818dc5326469f13f5a8ac8</td>\n",
       "      <td>venture</td>\n",
       "      <td>09-10-2014</td>\n",
       "      <td>4000000.00</td>\n",
       "      <td>Education</td>\n",
       "    </tr>\n",
       "    <tr>\n",
       "      <th>29</th>\n",
       "      <td>/organization/10-minutes-with</td>\n",
       "      <td>10 Minutes With</td>\n",
       "      <td>Education</td>\n",
       "      <td>operating</td>\n",
       "      <td>GBR</td>\n",
       "      <td>/funding-round/f245a74b4c54610ae843e17bdf4d1113</td>\n",
       "      <td>seed</td>\n",
       "      <td>01-01-2013</td>\n",
       "      <td>400000.00</td>\n",
       "      <td>Education</td>\n",
       "    </tr>\n",
       "    <tr>\n",
       "      <th>30</th>\n",
       "      <td>/organization/1000-corks</td>\n",
       "      <td>1000 Corks</td>\n",
       "      <td>Search</td>\n",
       "      <td>operating</td>\n",
       "      <td>USA</td>\n",
       "      <td>/funding-round/8f4fa70e24269ddd8bdf6658906b356b</td>\n",
       "      <td>seed</td>\n",
       "      <td>23-08-2011</td>\n",
       "      <td>40000.00</td>\n",
       "      <td>Search</td>\n",
       "    </tr>\n",
       "    <tr>\n",
       "      <th>31</th>\n",
       "      <td>/organization/1000-markets</td>\n",
       "      <td>1000 Markets</td>\n",
       "      <td>Art|E-Commerce|Marketplaces</td>\n",
       "      <td>acquired</td>\n",
       "      <td>USA</td>\n",
       "      <td>/funding-round/ce6749b6441f52ccaf38b6d5578779fd</td>\n",
       "      <td>seed</td>\n",
       "      <td>15-05-2009</td>\n",
       "      <td>500000.00</td>\n",
       "      <td>Art</td>\n",
       "    </tr>\n",
       "    <tr>\n",
       "      <th>34</th>\n",
       "      <td>/organization/1000memories</td>\n",
       "      <td>1000memories</td>\n",
       "      <td>Curated Web</td>\n",
       "      <td>acquired</td>\n",
       "      <td>USA</td>\n",
       "      <td>/funding-round/502bd0e50c27616995e4bdad24605ef8</td>\n",
       "      <td>venture</td>\n",
       "      <td>16-02-2011</td>\n",
       "      <td>2520000.00</td>\n",
       "      <td>Curated Web</td>\n",
       "    </tr>\n",
       "    <tr>\n",
       "      <th>35</th>\n",
       "      <td>/organization/1000memories</td>\n",
       "      <td>1000memories</td>\n",
       "      <td>Curated Web</td>\n",
       "      <td>acquired</td>\n",
       "      <td>USA</td>\n",
       "      <td>/funding-round/f5fb428ed1e63321f88b3e646ba85f00</td>\n",
       "      <td>seed</td>\n",
       "      <td>01-01-2010</td>\n",
       "      <td>15000.00</td>\n",
       "      <td>Curated Web</td>\n",
       "    </tr>\n",
       "  </tbody>\n",
       "</table>\n",
       "</div>"
      ],
      "text/plain": [
       "                                   permalink                         name  \\\n",
       "0                        /organization/-fame                        #fame   \n",
       "2                     /organization/-qounter                     :Qounter   \n",
       "4                      /organization/0-6-com                      0-6.com   \n",
       "7        /organization/0ndine-biomedical-inc       Ondine Biomedical Inc.   \n",
       "8        /organization/0ndine-biomedical-inc       Ondine Biomedical Inc.   \n",
       "9                       /organization/0xdata                       H2O.ai   \n",
       "10                      /organization/0xdata                       H2O.ai   \n",
       "11                      /organization/0xdata                       H2O.ai   \n",
       "12                      /organization/0xdata                       H2O.ai   \n",
       "13                           /organization/1                     One Inc.   \n",
       "15                           /organization/1                     One Inc.   \n",
       "16                 /organization/1-2-3-listo                  1,2,3 Listo   \n",
       "21  /organization/1-800-publicrelations-inc-  1-800-PublicRelations, Inc.   \n",
       "22                /organization/1-mainstream                 1 Mainstream   \n",
       "28             /organization/10-minutes-with              10 Minutes With   \n",
       "29             /organization/10-minutes-with              10 Minutes With   \n",
       "30                  /organization/1000-corks                   1000 Corks   \n",
       "31                /organization/1000-markets                 1000 Markets   \n",
       "34                /organization/1000memories                 1000memories   \n",
       "35                /organization/1000memories                 1000memories   \n",
       "\n",
       "                                        category_list     status country_code  \\\n",
       "0                                               Media  operating          IND   \n",
       "2   Application Platforms|Real Time|Social Network...  operating          USA   \n",
       "4                                         Curated Web  operating          CHN   \n",
       "7                                       Biotechnology  operating          CAN   \n",
       "8                                       Biotechnology  operating          CAN   \n",
       "9                                           Analytics  operating          USA   \n",
       "10                                          Analytics  operating          USA   \n",
       "11                                          Analytics  operating          USA   \n",
       "12                                          Analytics  operating          USA   \n",
       "13                                             Mobile  operating          USA   \n",
       "15                                             Mobile  operating          USA   \n",
       "16                                         E-Commerce  operating          CHL   \n",
       "21          Internet Marketing|Media|Public Relations  operating          USA   \n",
       "22                   Apps|Cable|Distribution|Software   acquired          USA   \n",
       "28                                          Education  operating          GBR   \n",
       "29                                          Education  operating          GBR   \n",
       "30                                             Search  operating          USA   \n",
       "31                        Art|E-Commerce|Marketplaces   acquired          USA   \n",
       "34                                        Curated Web   acquired          USA   \n",
       "35                                        Curated Web   acquired          USA   \n",
       "\n",
       "                            funding_round_permalink funding_round_type  \\\n",
       "0   /funding-round/9a01d05418af9f794eebff7ace91f638            venture   \n",
       "2   /funding-round/b44fbb94153f6cdef13083530bb48030               seed   \n",
       "4   /funding-round/5727accaeaa57461bd22a9bdd945382d            venture   \n",
       "7   /funding-round/2b9d3ac293d5cdccbecff5c8cb0f327d               seed   \n",
       "8   /funding-round/954b9499724b946ad8c396a57a5f3b72            venture   \n",
       "9   /funding-round/383a9bd2c04f7038bb543ccef5ba3eae               seed   \n",
       "10  /funding-round/3bb2ee4a2d89251a10aaa735b1180e44            venture   \n",
       "11  /funding-round/ae2a174c06517c2394aed45006322a7e            venture   \n",
       "12  /funding-round/e1cfcbe1bdf4c70277c5f29a3482f24e            venture   \n",
       "13  /funding-round/03b975068632eba5bfdb937ec8c07a68               seed   \n",
       "15  /funding-round/e82464f22241715dd1a6c77241055ed1               seed   \n",
       "16  /funding-round/6de4609e894495105bc791ed64361288               seed   \n",
       "21  /funding-round/11c228f58831bc7ed337ef69ecc560c2     private_equity   \n",
       "22  /funding-round/b952cbaf401f310927430c97b68162ea            venture   \n",
       "28  /funding-round/0faccbbcc5818dc5326469f13f5a8ac8            venture   \n",
       "29  /funding-round/f245a74b4c54610ae843e17bdf4d1113               seed   \n",
       "30  /funding-round/8f4fa70e24269ddd8bdf6658906b356b               seed   \n",
       "31  /funding-round/ce6749b6441f52ccaf38b6d5578779fd               seed   \n",
       "34  /funding-round/502bd0e50c27616995e4bdad24605ef8            venture   \n",
       "35  /funding-round/f5fb428ed1e63321f88b3e646ba85f00               seed   \n",
       "\n",
       "     funded_at  raised_amount_usd         primary_sector  \n",
       "0   05-01-2015        10000000.00                  Media  \n",
       "2   01-03-2014          700000.00  Application Platforms  \n",
       "4   19-03-2008         2000000.00            Curated Web  \n",
       "7   11-09-2009           43360.00          Biotechnology  \n",
       "8   21-12-2009          719491.00          Biotechnology  \n",
       "9   22-05-2013         3000000.00              Analytics  \n",
       "10  09-11-2015        20000000.00              Analytics  \n",
       "11  03-01-2013         1700000.00              Analytics  \n",
       "12  19-07-2014         8900000.00              Analytics  \n",
       "13  05-02-2014          150000.00                 Mobile  \n",
       "15  20-07-2011         1000050.00                 Mobile  \n",
       "16  18-02-2013           40000.00             E-Commerce  \n",
       "21  01-02-2015         6000000.00     Internet Marketing  \n",
       "22  17-03-2015         5000000.00                   Apps  \n",
       "28  09-10-2014         4000000.00              Education  \n",
       "29  01-01-2013          400000.00              Education  \n",
       "30  23-08-2011           40000.00                 Search  \n",
       "31  15-05-2009          500000.00                    Art  \n",
       "34  16-02-2011         2520000.00            Curated Web  \n",
       "35  01-01-2010           15000.00            Curated Web  "
      ]
     },
     "execution_count": 63,
     "metadata": {},
     "output_type": "execute_result"
    }
   ],
   "source": [
    "master_frame_filtered.head(20)"
   ]
  },
  {
   "cell_type": "code",
   "execution_count": 64,
   "metadata": {},
   "outputs": [
    {
     "data": {
      "text/plain": [
       "20              Alter0tive Medicine\n",
       "22                         A0lytics\n",
       "59                Big Data A0lytics\n",
       "79                Business A0lytics\n",
       "89                          Can0bis\n",
       "91                 Career Ma0gement\n",
       "103                   Chi0 Internet\n",
       "114                 Cloud Ma0gement\n",
       "145               Contact Ma0gement\n",
       "198        Digital Rights Ma0gement\n",
       "199                  Digital Sig0ge\n",
       "210              Document Ma0gement\n",
       "223                Educatio0l Games\n",
       "240                Energy Ma0gement\n",
       "241                  Energy Storage\n",
       "256                 Event Ma0gement\n",
       "271               Film Distribution\n",
       "273                          Fi0nce\n",
       "274               Fi0nce Technology\n",
       "275              Fi0ncial Exchanges\n",
       "276               Fi0ncial Services\n",
       "281                 Fleet Ma0gement\n",
       "282                         Flowers\n",
       "283                            Fmcg\n",
       "310                       Gover0nce\n",
       "353              Identity Ma0gement\n",
       "370            Innovation Ma0gement\n",
       "372    Intellectual Asset Ma0gement\n",
       "384            Investment Ma0gement\n",
       "389                    IT Ma0gement\n",
       "391                       Jour0lism\n",
       "394             Knowledge Ma0gement\n",
       "400                  Lead Ma0gement\n",
       "420                       Lotteries\n",
       "421                Low Bid Auctions\n",
       "437            Medical Professio0ls\n",
       "448                 Mobile A0lytics\n",
       "464           Multi-level Marketing\n",
       "471                   0notechnology\n",
       "472      0tural Language Processing\n",
       "473                0tural Resources\n",
       "474                       0vigation\n",
       "513           Performance Marketing\n",
       "514                Perso0l Branding\n",
       "515                    Perso0l Data\n",
       "516                  Perso0l Fi0nce\n",
       "517                  Perso0l Health\n",
       "518                  Perso0lization\n",
       "519             Pervasive Computing\n",
       "527                        Plumbers\n",
       "534             Predictive A0lytics\n",
       "546          Professio0l Networking\n",
       "547            Professio0l Services\n",
       "548               Project Ma0gement\n",
       "549                      Promotio0l\n",
       "550              Property Ma0gement\n",
       "565                  Renewable Tech\n",
       "575                  Risk Ma0gement\n",
       "600                      Smart Grid\n",
       "605                 Social Business\n",
       "612          Social Media Ma0gement\n",
       "617               Social Recruiting\n",
       "633          Supply Chain Ma0gement\n",
       "637                  Task Ma0gement\n",
       "638                           Taxis\n",
       "664                       Veteri0ry\n",
       "670              Virtual Workforces\n",
       "672                 Waste Ma0gement\n",
       "686                           Women\n",
       "Name: category_list, dtype: object"
      ]
     },
     "execution_count": 64,
     "metadata": {},
     "output_type": "execute_result"
    }
   ],
   "source": [
    "# We need to merge the both datasets\n",
    "\n",
    "# First let's check if all the sectors present primary_sector column of master_frame_filtered are also present in mapping dataset\n",
    "\n",
    "mapping.category_list[(~mapping['category_list'].isin(master_frame_filtered['primary_sector']))]"
   ]
  },
  {
   "cell_type": "markdown",
   "metadata": {},
   "source": [
    "We can see that at many places '0' is present. After observing we understand that 'na' has been replaced by '0'"
   ]
  },
  {
   "cell_type": "code",
   "execution_count": 65,
   "metadata": {},
   "outputs": [],
   "source": [
    "# Let's replace '0' back to 'na'\n",
    "\n",
    "mapping.category_list = mapping.category_list.str.lower()"
   ]
  },
  {
   "cell_type": "code",
   "execution_count": 66,
   "metadata": {},
   "outputs": [],
   "source": [
    "mapping['category_list'] = mapping['category_list'].apply(lambda x:x.replace('0','na'))"
   ]
  },
  {
   "cell_type": "code",
   "execution_count": 67,
   "metadata": {},
   "outputs": [
    {
     "data": {
      "text/plain": [
       "'alternative medicine'"
      ]
     },
     "execution_count": 67,
     "metadata": {},
     "output_type": "execute_result"
    }
   ],
   "source": [
    "# Let's check again if it's in correct format now\n",
    "\n",
    "mapping.category_list[20]"
   ]
  },
  {
   "cell_type": "code",
   "execution_count": 68,
   "metadata": {},
   "outputs": [
    {
     "data": {
      "text/plain": [
       "1                    3d\n",
       "2           3d printing\n",
       "3         3d technology\n",
       "4            accounting\n",
       "5      active lifestyle\n",
       "             ...       \n",
       "683           wholesale\n",
       "684    wine and spirits\n",
       "685            wireless\n",
       "686               women\n",
       "687        young adults\n",
       "Name: category_list, Length: 687, dtype: object"
      ]
     },
     "execution_count": 68,
     "metadata": {},
     "output_type": "execute_result"
    }
   ],
   "source": [
    "# Let's check again if there any missing sectors in the mapping dataset\n",
    "\n",
    "mapping.category_list[~(mapping['category_list'].isin(master_frame_filtered['primary_sector']))]"
   ]
  },
  {
   "cell_type": "code",
   "execution_count": 69,
   "metadata": {},
   "outputs": [
    {
     "data": {
      "text/plain": [
       "0                         Media\n",
       "2         Application Platforms\n",
       "4                   Curated Web\n",
       "7                 Biotechnology\n",
       "8                 Biotechnology\n",
       "                  ...          \n",
       "114941      Enterprise Software\n",
       "114942              Advertising\n",
       "114943              Advertising\n",
       "114945              Advertising\n",
       "114947     Consumer Electronics\n",
       "Name: primary_sector, Length: 75124, dtype: object"
      ]
     },
     "execution_count": 69,
     "metadata": {},
     "output_type": "execute_result"
    }
   ],
   "source": [
    "master_frame_filtered.primary_sector[~(master_frame_filtered['primary_sector'].isin(mapping['category_list']))]"
   ]
  },
  {
   "cell_type": "code",
   "execution_count": 70,
   "metadata": {},
   "outputs": [
    {
     "name": "stdout",
     "output_type": "stream",
     "text": [
      "<class 'pandas.core.frame.DataFrame'>\n",
      "Int64Index: 75124 entries, 0 to 114947\n",
      "Data columns (total 10 columns):\n",
      " #   Column                   Non-Null Count  Dtype  \n",
      "---  ------                   --------------  -----  \n",
      " 0   permalink                75124 non-null  object \n",
      " 1   name                     75123 non-null  object \n",
      " 2   category_list            75124 non-null  object \n",
      " 3   status                   75124 non-null  object \n",
      " 4   country_code             75124 non-null  object \n",
      " 5   funding_round_permalink  75124 non-null  object \n",
      " 6   funding_round_type       75124 non-null  object \n",
      " 7   funded_at                75124 non-null  object \n",
      " 8   raised_amount_usd        75124 non-null  float64\n",
      " 9   primary_sector           75124 non-null  object \n",
      "dtypes: float64(1), object(9)\n",
      "memory usage: 8.8+ MB\n"
     ]
    }
   ],
   "source": [
    "master_frame_filtered.info()"
   ]
  },
  {
   "cell_type": "code",
   "execution_count": 71,
   "metadata": {},
   "outputs": [],
   "source": [
    "# Let's merge both the datasets on 'primary_sector'\n",
    "\n",
    "master_frame_filtered.primary_sector = master_frame_filtered.primary_sector.str.lower()"
   ]
  },
  {
   "cell_type": "code",
   "execution_count": 72,
   "metadata": {},
   "outputs": [],
   "source": [
    "merged_frame_filtered = pd.merge(master_frame_filtered, mapping, left_on='primary_sector', right_on='category_list', how='inner')"
   ]
  },
  {
   "cell_type": "code",
   "execution_count": 73,
   "metadata": {},
   "outputs": [
    {
     "data": {
      "text/html": [
       "<div>\n",
       "<style scoped>\n",
       "    .dataframe tbody tr th:only-of-type {\n",
       "        vertical-align: middle;\n",
       "    }\n",
       "\n",
       "    .dataframe tbody tr th {\n",
       "        vertical-align: top;\n",
       "    }\n",
       "\n",
       "    .dataframe thead th {\n",
       "        text-align: right;\n",
       "    }\n",
       "</style>\n",
       "<table border=\"1\" class=\"dataframe\">\n",
       "  <thead>\n",
       "    <tr style=\"text-align: right;\">\n",
       "      <th></th>\n",
       "      <th>permalink</th>\n",
       "      <th>name</th>\n",
       "      <th>category_list_x</th>\n",
       "      <th>status</th>\n",
       "      <th>country_code</th>\n",
       "      <th>funding_round_permalink</th>\n",
       "      <th>funding_round_type</th>\n",
       "      <th>funded_at</th>\n",
       "      <th>raised_amount_usd</th>\n",
       "      <th>primary_sector</th>\n",
       "      <th>category_list_y</th>\n",
       "      <th>Automotive &amp; Sports</th>\n",
       "      <th>Blanks</th>\n",
       "      <th>Cleantech / Semiconductors</th>\n",
       "      <th>Entertainment</th>\n",
       "      <th>Health</th>\n",
       "      <th>Manufacturing</th>\n",
       "      <th>News, Search and Messaging</th>\n",
       "      <th>Others</th>\n",
       "      <th>Social, Finance, Analytics, Advertising</th>\n",
       "    </tr>\n",
       "  </thead>\n",
       "  <tbody>\n",
       "    <tr>\n",
       "      <th>0</th>\n",
       "      <td>/organization/-fame</td>\n",
       "      <td>#fame</td>\n",
       "      <td>Media</td>\n",
       "      <td>operating</td>\n",
       "      <td>IND</td>\n",
       "      <td>/funding-round/9a01d05418af9f794eebff7ace91f638</td>\n",
       "      <td>venture</td>\n",
       "      <td>05-01-2015</td>\n",
       "      <td>10000000.00</td>\n",
       "      <td>media</td>\n",
       "      <td>media</td>\n",
       "      <td>0</td>\n",
       "      <td>0</td>\n",
       "      <td>0</td>\n",
       "      <td>1</td>\n",
       "      <td>0</td>\n",
       "      <td>0</td>\n",
       "      <td>0</td>\n",
       "      <td>0</td>\n",
       "      <td>0</td>\n",
       "    </tr>\n",
       "    <tr>\n",
       "      <th>1</th>\n",
       "      <td>/organization/90min</td>\n",
       "      <td>90min</td>\n",
       "      <td>Media|News|Publishing|Soccer|Sports</td>\n",
       "      <td>operating</td>\n",
       "      <td>GBR</td>\n",
       "      <td>/funding-round/21a2cbf6f2fb2a1c2a61e04bf930dfe6</td>\n",
       "      <td>venture</td>\n",
       "      <td>06-10-2015</td>\n",
       "      <td>15000000.00</td>\n",
       "      <td>media</td>\n",
       "      <td>media</td>\n",
       "      <td>0</td>\n",
       "      <td>0</td>\n",
       "      <td>0</td>\n",
       "      <td>1</td>\n",
       "      <td>0</td>\n",
       "      <td>0</td>\n",
       "      <td>0</td>\n",
       "      <td>0</td>\n",
       "      <td>0</td>\n",
       "    </tr>\n",
       "    <tr>\n",
       "      <th>2</th>\n",
       "      <td>/organization/90min</td>\n",
       "      <td>90min</td>\n",
       "      <td>Media|News|Publishing|Soccer|Sports</td>\n",
       "      <td>operating</td>\n",
       "      <td>GBR</td>\n",
       "      <td>/funding-round/bd626ed022f5c66574b1afe234f3c90d</td>\n",
       "      <td>venture</td>\n",
       "      <td>07-05-2013</td>\n",
       "      <td>5800000.00</td>\n",
       "      <td>media</td>\n",
       "      <td>media</td>\n",
       "      <td>0</td>\n",
       "      <td>0</td>\n",
       "      <td>0</td>\n",
       "      <td>1</td>\n",
       "      <td>0</td>\n",
       "      <td>0</td>\n",
       "      <td>0</td>\n",
       "      <td>0</td>\n",
       "      <td>0</td>\n",
       "    </tr>\n",
       "    <tr>\n",
       "      <th>3</th>\n",
       "      <td>/organization/90min</td>\n",
       "      <td>90min</td>\n",
       "      <td>Media|News|Publishing|Soccer|Sports</td>\n",
       "      <td>operating</td>\n",
       "      <td>GBR</td>\n",
       "      <td>/funding-round/fd4b15e8c97ee2ffc0acccdbe1a98810</td>\n",
       "      <td>venture</td>\n",
       "      <td>26-03-2014</td>\n",
       "      <td>18000000.00</td>\n",
       "      <td>media</td>\n",
       "      <td>media</td>\n",
       "      <td>0</td>\n",
       "      <td>0</td>\n",
       "      <td>0</td>\n",
       "      <td>1</td>\n",
       "      <td>0</td>\n",
       "      <td>0</td>\n",
       "      <td>0</td>\n",
       "      <td>0</td>\n",
       "      <td>0</td>\n",
       "    </tr>\n",
       "    <tr>\n",
       "      <th>4</th>\n",
       "      <td>/organization/akira-mobile</td>\n",
       "      <td>Akira Mobile</td>\n",
       "      <td>Media|Mobile|SMS|Telecommunications</td>\n",
       "      <td>operating</td>\n",
       "      <td>LTU</td>\n",
       "      <td>/funding-round/bfb170aea580e381e5b1810c87855c9e</td>\n",
       "      <td>seed</td>\n",
       "      <td>01-08-2012</td>\n",
       "      <td>18410.00</td>\n",
       "      <td>media</td>\n",
       "      <td>media</td>\n",
       "      <td>0</td>\n",
       "      <td>0</td>\n",
       "      <td>0</td>\n",
       "      <td>1</td>\n",
       "      <td>0</td>\n",
       "      <td>0</td>\n",
       "      <td>0</td>\n",
       "      <td>0</td>\n",
       "      <td>0</td>\n",
       "    </tr>\n",
       "    <tr>\n",
       "      <th>5</th>\n",
       "      <td>/organization/all-day-media</td>\n",
       "      <td>ALL DAY MEDIA</td>\n",
       "      <td>Media|Social Media</td>\n",
       "      <td>operating</td>\n",
       "      <td>USA</td>\n",
       "      <td>/funding-round/2760c0426a124b84c540bd4fd2dfe6e5</td>\n",
       "      <td>seed</td>\n",
       "      <td>16-12-2014</td>\n",
       "      <td>2000000.00</td>\n",
       "      <td>media</td>\n",
       "      <td>media</td>\n",
       "      <td>0</td>\n",
       "      <td>0</td>\n",
       "      <td>0</td>\n",
       "      <td>1</td>\n",
       "      <td>0</td>\n",
       "      <td>0</td>\n",
       "      <td>0</td>\n",
       "      <td>0</td>\n",
       "      <td>0</td>\n",
       "    </tr>\n",
       "    <tr>\n",
       "      <th>6</th>\n",
       "      <td>/organization/all-def-digital</td>\n",
       "      <td>All Def Digital</td>\n",
       "      <td>Media</td>\n",
       "      <td>operating</td>\n",
       "      <td>USA</td>\n",
       "      <td>/funding-round/452a2342fe720285c3b92e9bd927d9ba</td>\n",
       "      <td>venture</td>\n",
       "      <td>06-08-2014</td>\n",
       "      <td>5000000.00</td>\n",
       "      <td>media</td>\n",
       "      <td>media</td>\n",
       "      <td>0</td>\n",
       "      <td>0</td>\n",
       "      <td>0</td>\n",
       "      <td>1</td>\n",
       "      <td>0</td>\n",
       "      <td>0</td>\n",
       "      <td>0</td>\n",
       "      <td>0</td>\n",
       "      <td>0</td>\n",
       "    </tr>\n",
       "    <tr>\n",
       "      <th>7</th>\n",
       "      <td>/organization/anthill-magazine</td>\n",
       "      <td>Anthill Magazine</td>\n",
       "      <td>Media</td>\n",
       "      <td>operating</td>\n",
       "      <td>AUS</td>\n",
       "      <td>/funding-round/52128cd405b88f36a85d6cded8359f1c</td>\n",
       "      <td>seed</td>\n",
       "      <td>09-04-2015</td>\n",
       "      <td>600000.00</td>\n",
       "      <td>media</td>\n",
       "      <td>media</td>\n",
       "      <td>0</td>\n",
       "      <td>0</td>\n",
       "      <td>0</td>\n",
       "      <td>1</td>\n",
       "      <td>0</td>\n",
       "      <td>0</td>\n",
       "      <td>0</td>\n",
       "      <td>0</td>\n",
       "      <td>0</td>\n",
       "    </tr>\n",
       "    <tr>\n",
       "      <th>8</th>\n",
       "      <td>/organization/audiosocket</td>\n",
       "      <td>Audiosocket</td>\n",
       "      <td>Media|Music|Technology</td>\n",
       "      <td>operating</td>\n",
       "      <td>USA</td>\n",
       "      <td>/funding-round/0959f59e3a89bc8db8c6ed9c646349fd</td>\n",
       "      <td>venture</td>\n",
       "      <td>02-05-2013</td>\n",
       "      <td>650000.00</td>\n",
       "      <td>media</td>\n",
       "      <td>media</td>\n",
       "      <td>0</td>\n",
       "      <td>0</td>\n",
       "      <td>0</td>\n",
       "      <td>1</td>\n",
       "      <td>0</td>\n",
       "      <td>0</td>\n",
       "      <td>0</td>\n",
       "      <td>0</td>\n",
       "      <td>0</td>\n",
       "    </tr>\n",
       "    <tr>\n",
       "      <th>9</th>\n",
       "      <td>/organization/audiosocket</td>\n",
       "      <td>Audiosocket</td>\n",
       "      <td>Media|Music|Technology</td>\n",
       "      <td>operating</td>\n",
       "      <td>USA</td>\n",
       "      <td>/funding-round/4e3a53eec6c609943df752206070b23f</td>\n",
       "      <td>venture</td>\n",
       "      <td>02-09-2009</td>\n",
       "      <td>750000.00</td>\n",
       "      <td>media</td>\n",
       "      <td>media</td>\n",
       "      <td>0</td>\n",
       "      <td>0</td>\n",
       "      <td>0</td>\n",
       "      <td>1</td>\n",
       "      <td>0</td>\n",
       "      <td>0</td>\n",
       "      <td>0</td>\n",
       "      <td>0</td>\n",
       "      <td>0</td>\n",
       "    </tr>\n",
       "  </tbody>\n",
       "</table>\n",
       "</div>"
      ],
      "text/plain": [
       "                        permalink              name  \\\n",
       "0             /organization/-fame             #fame   \n",
       "1             /organization/90min             90min   \n",
       "2             /organization/90min             90min   \n",
       "3             /organization/90min             90min   \n",
       "4      /organization/akira-mobile      Akira Mobile   \n",
       "5     /organization/all-day-media     ALL DAY MEDIA   \n",
       "6   /organization/all-def-digital   All Def Digital   \n",
       "7  /organization/anthill-magazine  Anthill Magazine   \n",
       "8       /organization/audiosocket       Audiosocket   \n",
       "9       /organization/audiosocket       Audiosocket   \n",
       "\n",
       "                       category_list_x     status country_code  \\\n",
       "0                                Media  operating          IND   \n",
       "1  Media|News|Publishing|Soccer|Sports  operating          GBR   \n",
       "2  Media|News|Publishing|Soccer|Sports  operating          GBR   \n",
       "3  Media|News|Publishing|Soccer|Sports  operating          GBR   \n",
       "4  Media|Mobile|SMS|Telecommunications  operating          LTU   \n",
       "5                   Media|Social Media  operating          USA   \n",
       "6                                Media  operating          USA   \n",
       "7                                Media  operating          AUS   \n",
       "8               Media|Music|Technology  operating          USA   \n",
       "9               Media|Music|Technology  operating          USA   \n",
       "\n",
       "                           funding_round_permalink funding_round_type  \\\n",
       "0  /funding-round/9a01d05418af9f794eebff7ace91f638            venture   \n",
       "1  /funding-round/21a2cbf6f2fb2a1c2a61e04bf930dfe6            venture   \n",
       "2  /funding-round/bd626ed022f5c66574b1afe234f3c90d            venture   \n",
       "3  /funding-round/fd4b15e8c97ee2ffc0acccdbe1a98810            venture   \n",
       "4  /funding-round/bfb170aea580e381e5b1810c87855c9e               seed   \n",
       "5  /funding-round/2760c0426a124b84c540bd4fd2dfe6e5               seed   \n",
       "6  /funding-round/452a2342fe720285c3b92e9bd927d9ba            venture   \n",
       "7  /funding-round/52128cd405b88f36a85d6cded8359f1c               seed   \n",
       "8  /funding-round/0959f59e3a89bc8db8c6ed9c646349fd            venture   \n",
       "9  /funding-round/4e3a53eec6c609943df752206070b23f            venture   \n",
       "\n",
       "    funded_at  raised_amount_usd primary_sector category_list_y  \\\n",
       "0  05-01-2015        10000000.00          media           media   \n",
       "1  06-10-2015        15000000.00          media           media   \n",
       "2  07-05-2013         5800000.00          media           media   \n",
       "3  26-03-2014        18000000.00          media           media   \n",
       "4  01-08-2012           18410.00          media           media   \n",
       "5  16-12-2014         2000000.00          media           media   \n",
       "6  06-08-2014         5000000.00          media           media   \n",
       "7  09-04-2015          600000.00          media           media   \n",
       "8  02-05-2013          650000.00          media           media   \n",
       "9  02-09-2009          750000.00          media           media   \n",
       "\n",
       "   Automotive & Sports  Blanks  Cleantech / Semiconductors  Entertainment  \\\n",
       "0                    0       0                           0              1   \n",
       "1                    0       0                           0              1   \n",
       "2                    0       0                           0              1   \n",
       "3                    0       0                           0              1   \n",
       "4                    0       0                           0              1   \n",
       "5                    0       0                           0              1   \n",
       "6                    0       0                           0              1   \n",
       "7                    0       0                           0              1   \n",
       "8                    0       0                           0              1   \n",
       "9                    0       0                           0              1   \n",
       "\n",
       "   Health  Manufacturing  News, Search and Messaging  Others  \\\n",
       "0       0              0                           0       0   \n",
       "1       0              0                           0       0   \n",
       "2       0              0                           0       0   \n",
       "3       0              0                           0       0   \n",
       "4       0              0                           0       0   \n",
       "5       0              0                           0       0   \n",
       "6       0              0                           0       0   \n",
       "7       0              0                           0       0   \n",
       "8       0              0                           0       0   \n",
       "9       0              0                           0       0   \n",
       "\n",
       "   Social, Finance, Analytics, Advertising  \n",
       "0                                        0  \n",
       "1                                        0  \n",
       "2                                        0  \n",
       "3                                        0  \n",
       "4                                        0  \n",
       "5                                        0  \n",
       "6                                        0  \n",
       "7                                        0  \n",
       "8                                        0  \n",
       "9                                        0  "
      ]
     },
     "execution_count": 73,
     "metadata": {},
     "output_type": "execute_result"
    }
   ],
   "source": [
    "merged_frame_filtered.head(10)"
   ]
  },
  {
   "cell_type": "code",
   "execution_count": 74,
   "metadata": {},
   "outputs": [],
   "source": [
    "# Let's frop category_list_y as it has same values as primary_sector\n",
    "\n",
    "merged_frame_filtered.drop(['category_list_y'], axis=1, inplace=True)"
   ]
  },
  {
   "cell_type": "code",
   "execution_count": 75,
   "metadata": {},
   "outputs": [
    {
     "data": {
      "text/html": [
       "<div>\n",
       "<style scoped>\n",
       "    .dataframe tbody tr th:only-of-type {\n",
       "        vertical-align: middle;\n",
       "    }\n",
       "\n",
       "    .dataframe tbody tr th {\n",
       "        vertical-align: top;\n",
       "    }\n",
       "\n",
       "    .dataframe thead th {\n",
       "        text-align: right;\n",
       "    }\n",
       "</style>\n",
       "<table border=\"1\" class=\"dataframe\">\n",
       "  <thead>\n",
       "    <tr style=\"text-align: right;\">\n",
       "      <th></th>\n",
       "      <th>permalink</th>\n",
       "      <th>name</th>\n",
       "      <th>category_list_x</th>\n",
       "      <th>status</th>\n",
       "      <th>country_code</th>\n",
       "      <th>funding_round_permalink</th>\n",
       "      <th>funding_round_type</th>\n",
       "      <th>funded_at</th>\n",
       "      <th>raised_amount_usd</th>\n",
       "      <th>primary_sector</th>\n",
       "      <th>Automotive &amp; Sports</th>\n",
       "      <th>Blanks</th>\n",
       "      <th>Cleantech / Semiconductors</th>\n",
       "      <th>Entertainment</th>\n",
       "      <th>Health</th>\n",
       "      <th>Manufacturing</th>\n",
       "      <th>News, Search and Messaging</th>\n",
       "      <th>Others</th>\n",
       "      <th>Social, Finance, Analytics, Advertising</th>\n",
       "    </tr>\n",
       "  </thead>\n",
       "  <tbody>\n",
       "    <tr>\n",
       "      <th>0</th>\n",
       "      <td>/organization/-fame</td>\n",
       "      <td>#fame</td>\n",
       "      <td>Media</td>\n",
       "      <td>operating</td>\n",
       "      <td>IND</td>\n",
       "      <td>/funding-round/9a01d05418af9f794eebff7ace91f638</td>\n",
       "      <td>venture</td>\n",
       "      <td>05-01-2015</td>\n",
       "      <td>10000000.00</td>\n",
       "      <td>media</td>\n",
       "      <td>0</td>\n",
       "      <td>0</td>\n",
       "      <td>0</td>\n",
       "      <td>1</td>\n",
       "      <td>0</td>\n",
       "      <td>0</td>\n",
       "      <td>0</td>\n",
       "      <td>0</td>\n",
       "      <td>0</td>\n",
       "    </tr>\n",
       "    <tr>\n",
       "      <th>1</th>\n",
       "      <td>/organization/90min</td>\n",
       "      <td>90min</td>\n",
       "      <td>Media|News|Publishing|Soccer|Sports</td>\n",
       "      <td>operating</td>\n",
       "      <td>GBR</td>\n",
       "      <td>/funding-round/21a2cbf6f2fb2a1c2a61e04bf930dfe6</td>\n",
       "      <td>venture</td>\n",
       "      <td>06-10-2015</td>\n",
       "      <td>15000000.00</td>\n",
       "      <td>media</td>\n",
       "      <td>0</td>\n",
       "      <td>0</td>\n",
       "      <td>0</td>\n",
       "      <td>1</td>\n",
       "      <td>0</td>\n",
       "      <td>0</td>\n",
       "      <td>0</td>\n",
       "      <td>0</td>\n",
       "      <td>0</td>\n",
       "    </tr>\n",
       "    <tr>\n",
       "      <th>2</th>\n",
       "      <td>/organization/90min</td>\n",
       "      <td>90min</td>\n",
       "      <td>Media|News|Publishing|Soccer|Sports</td>\n",
       "      <td>operating</td>\n",
       "      <td>GBR</td>\n",
       "      <td>/funding-round/bd626ed022f5c66574b1afe234f3c90d</td>\n",
       "      <td>venture</td>\n",
       "      <td>07-05-2013</td>\n",
       "      <td>5800000.00</td>\n",
       "      <td>media</td>\n",
       "      <td>0</td>\n",
       "      <td>0</td>\n",
       "      <td>0</td>\n",
       "      <td>1</td>\n",
       "      <td>0</td>\n",
       "      <td>0</td>\n",
       "      <td>0</td>\n",
       "      <td>0</td>\n",
       "      <td>0</td>\n",
       "    </tr>\n",
       "    <tr>\n",
       "      <th>3</th>\n",
       "      <td>/organization/90min</td>\n",
       "      <td>90min</td>\n",
       "      <td>Media|News|Publishing|Soccer|Sports</td>\n",
       "      <td>operating</td>\n",
       "      <td>GBR</td>\n",
       "      <td>/funding-round/fd4b15e8c97ee2ffc0acccdbe1a98810</td>\n",
       "      <td>venture</td>\n",
       "      <td>26-03-2014</td>\n",
       "      <td>18000000.00</td>\n",
       "      <td>media</td>\n",
       "      <td>0</td>\n",
       "      <td>0</td>\n",
       "      <td>0</td>\n",
       "      <td>1</td>\n",
       "      <td>0</td>\n",
       "      <td>0</td>\n",
       "      <td>0</td>\n",
       "      <td>0</td>\n",
       "      <td>0</td>\n",
       "    </tr>\n",
       "    <tr>\n",
       "      <th>4</th>\n",
       "      <td>/organization/akira-mobile</td>\n",
       "      <td>Akira Mobile</td>\n",
       "      <td>Media|Mobile|SMS|Telecommunications</td>\n",
       "      <td>operating</td>\n",
       "      <td>LTU</td>\n",
       "      <td>/funding-round/bfb170aea580e381e5b1810c87855c9e</td>\n",
       "      <td>seed</td>\n",
       "      <td>01-08-2012</td>\n",
       "      <td>18410.00</td>\n",
       "      <td>media</td>\n",
       "      <td>0</td>\n",
       "      <td>0</td>\n",
       "      <td>0</td>\n",
       "      <td>1</td>\n",
       "      <td>0</td>\n",
       "      <td>0</td>\n",
       "      <td>0</td>\n",
       "      <td>0</td>\n",
       "      <td>0</td>\n",
       "    </tr>\n",
       "    <tr>\n",
       "      <th>5</th>\n",
       "      <td>/organization/all-day-media</td>\n",
       "      <td>ALL DAY MEDIA</td>\n",
       "      <td>Media|Social Media</td>\n",
       "      <td>operating</td>\n",
       "      <td>USA</td>\n",
       "      <td>/funding-round/2760c0426a124b84c540bd4fd2dfe6e5</td>\n",
       "      <td>seed</td>\n",
       "      <td>16-12-2014</td>\n",
       "      <td>2000000.00</td>\n",
       "      <td>media</td>\n",
       "      <td>0</td>\n",
       "      <td>0</td>\n",
       "      <td>0</td>\n",
       "      <td>1</td>\n",
       "      <td>0</td>\n",
       "      <td>0</td>\n",
       "      <td>0</td>\n",
       "      <td>0</td>\n",
       "      <td>0</td>\n",
       "    </tr>\n",
       "    <tr>\n",
       "      <th>6</th>\n",
       "      <td>/organization/all-def-digital</td>\n",
       "      <td>All Def Digital</td>\n",
       "      <td>Media</td>\n",
       "      <td>operating</td>\n",
       "      <td>USA</td>\n",
       "      <td>/funding-round/452a2342fe720285c3b92e9bd927d9ba</td>\n",
       "      <td>venture</td>\n",
       "      <td>06-08-2014</td>\n",
       "      <td>5000000.00</td>\n",
       "      <td>media</td>\n",
       "      <td>0</td>\n",
       "      <td>0</td>\n",
       "      <td>0</td>\n",
       "      <td>1</td>\n",
       "      <td>0</td>\n",
       "      <td>0</td>\n",
       "      <td>0</td>\n",
       "      <td>0</td>\n",
       "      <td>0</td>\n",
       "    </tr>\n",
       "    <tr>\n",
       "      <th>7</th>\n",
       "      <td>/organization/anthill-magazine</td>\n",
       "      <td>Anthill Magazine</td>\n",
       "      <td>Media</td>\n",
       "      <td>operating</td>\n",
       "      <td>AUS</td>\n",
       "      <td>/funding-round/52128cd405b88f36a85d6cded8359f1c</td>\n",
       "      <td>seed</td>\n",
       "      <td>09-04-2015</td>\n",
       "      <td>600000.00</td>\n",
       "      <td>media</td>\n",
       "      <td>0</td>\n",
       "      <td>0</td>\n",
       "      <td>0</td>\n",
       "      <td>1</td>\n",
       "      <td>0</td>\n",
       "      <td>0</td>\n",
       "      <td>0</td>\n",
       "      <td>0</td>\n",
       "      <td>0</td>\n",
       "    </tr>\n",
       "    <tr>\n",
       "      <th>8</th>\n",
       "      <td>/organization/audiosocket</td>\n",
       "      <td>Audiosocket</td>\n",
       "      <td>Media|Music|Technology</td>\n",
       "      <td>operating</td>\n",
       "      <td>USA</td>\n",
       "      <td>/funding-round/0959f59e3a89bc8db8c6ed9c646349fd</td>\n",
       "      <td>venture</td>\n",
       "      <td>02-05-2013</td>\n",
       "      <td>650000.00</td>\n",
       "      <td>media</td>\n",
       "      <td>0</td>\n",
       "      <td>0</td>\n",
       "      <td>0</td>\n",
       "      <td>1</td>\n",
       "      <td>0</td>\n",
       "      <td>0</td>\n",
       "      <td>0</td>\n",
       "      <td>0</td>\n",
       "      <td>0</td>\n",
       "    </tr>\n",
       "    <tr>\n",
       "      <th>9</th>\n",
       "      <td>/organization/audiosocket</td>\n",
       "      <td>Audiosocket</td>\n",
       "      <td>Media|Music|Technology</td>\n",
       "      <td>operating</td>\n",
       "      <td>USA</td>\n",
       "      <td>/funding-round/4e3a53eec6c609943df752206070b23f</td>\n",
       "      <td>venture</td>\n",
       "      <td>02-09-2009</td>\n",
       "      <td>750000.00</td>\n",
       "      <td>media</td>\n",
       "      <td>0</td>\n",
       "      <td>0</td>\n",
       "      <td>0</td>\n",
       "      <td>1</td>\n",
       "      <td>0</td>\n",
       "      <td>0</td>\n",
       "      <td>0</td>\n",
       "      <td>0</td>\n",
       "      <td>0</td>\n",
       "    </tr>\n",
       "  </tbody>\n",
       "</table>\n",
       "</div>"
      ],
      "text/plain": [
       "                        permalink              name  \\\n",
       "0             /organization/-fame             #fame   \n",
       "1             /organization/90min             90min   \n",
       "2             /organization/90min             90min   \n",
       "3             /organization/90min             90min   \n",
       "4      /organization/akira-mobile      Akira Mobile   \n",
       "5     /organization/all-day-media     ALL DAY MEDIA   \n",
       "6   /organization/all-def-digital   All Def Digital   \n",
       "7  /organization/anthill-magazine  Anthill Magazine   \n",
       "8       /organization/audiosocket       Audiosocket   \n",
       "9       /organization/audiosocket       Audiosocket   \n",
       "\n",
       "                       category_list_x     status country_code  \\\n",
       "0                                Media  operating          IND   \n",
       "1  Media|News|Publishing|Soccer|Sports  operating          GBR   \n",
       "2  Media|News|Publishing|Soccer|Sports  operating          GBR   \n",
       "3  Media|News|Publishing|Soccer|Sports  operating          GBR   \n",
       "4  Media|Mobile|SMS|Telecommunications  operating          LTU   \n",
       "5                   Media|Social Media  operating          USA   \n",
       "6                                Media  operating          USA   \n",
       "7                                Media  operating          AUS   \n",
       "8               Media|Music|Technology  operating          USA   \n",
       "9               Media|Music|Technology  operating          USA   \n",
       "\n",
       "                           funding_round_permalink funding_round_type  \\\n",
       "0  /funding-round/9a01d05418af9f794eebff7ace91f638            venture   \n",
       "1  /funding-round/21a2cbf6f2fb2a1c2a61e04bf930dfe6            venture   \n",
       "2  /funding-round/bd626ed022f5c66574b1afe234f3c90d            venture   \n",
       "3  /funding-round/fd4b15e8c97ee2ffc0acccdbe1a98810            venture   \n",
       "4  /funding-round/bfb170aea580e381e5b1810c87855c9e               seed   \n",
       "5  /funding-round/2760c0426a124b84c540bd4fd2dfe6e5               seed   \n",
       "6  /funding-round/452a2342fe720285c3b92e9bd927d9ba            venture   \n",
       "7  /funding-round/52128cd405b88f36a85d6cded8359f1c               seed   \n",
       "8  /funding-round/0959f59e3a89bc8db8c6ed9c646349fd            venture   \n",
       "9  /funding-round/4e3a53eec6c609943df752206070b23f            venture   \n",
       "\n",
       "    funded_at  raised_amount_usd primary_sector  Automotive & Sports  Blanks  \\\n",
       "0  05-01-2015        10000000.00          media                    0       0   \n",
       "1  06-10-2015        15000000.00          media                    0       0   \n",
       "2  07-05-2013         5800000.00          media                    0       0   \n",
       "3  26-03-2014        18000000.00          media                    0       0   \n",
       "4  01-08-2012           18410.00          media                    0       0   \n",
       "5  16-12-2014         2000000.00          media                    0       0   \n",
       "6  06-08-2014         5000000.00          media                    0       0   \n",
       "7  09-04-2015          600000.00          media                    0       0   \n",
       "8  02-05-2013          650000.00          media                    0       0   \n",
       "9  02-09-2009          750000.00          media                    0       0   \n",
       "\n",
       "   Cleantech / Semiconductors  Entertainment  Health  Manufacturing  \\\n",
       "0                           0              1       0              0   \n",
       "1                           0              1       0              0   \n",
       "2                           0              1       0              0   \n",
       "3                           0              1       0              0   \n",
       "4                           0              1       0              0   \n",
       "5                           0              1       0              0   \n",
       "6                           0              1       0              0   \n",
       "7                           0              1       0              0   \n",
       "8                           0              1       0              0   \n",
       "9                           0              1       0              0   \n",
       "\n",
       "   News, Search and Messaging  Others  Social, Finance, Analytics, Advertising  \n",
       "0                           0       0                                        0  \n",
       "1                           0       0                                        0  \n",
       "2                           0       0                                        0  \n",
       "3                           0       0                                        0  \n",
       "4                           0       0                                        0  \n",
       "5                           0       0                                        0  \n",
       "6                           0       0                                        0  \n",
       "7                           0       0                                        0  \n",
       "8                           0       0                                        0  \n",
       "9                           0       0                                        0  "
      ]
     },
     "execution_count": 75,
     "metadata": {},
     "output_type": "execute_result"
    }
   ],
   "source": [
    "merged_frame_filtered.head(10)"
   ]
  },
  {
   "cell_type": "code",
   "execution_count": 76,
   "metadata": {},
   "outputs": [
    {
     "data": {
      "text/html": [
       "<div>\n",
       "<style scoped>\n",
       "    .dataframe tbody tr th:only-of-type {\n",
       "        vertical-align: middle;\n",
       "    }\n",
       "\n",
       "    .dataframe tbody tr th {\n",
       "        vertical-align: top;\n",
       "    }\n",
       "\n",
       "    .dataframe thead th {\n",
       "        text-align: right;\n",
       "    }\n",
       "</style>\n",
       "<table border=\"1\" class=\"dataframe\">\n",
       "  <thead>\n",
       "    <tr style=\"text-align: right;\">\n",
       "      <th></th>\n",
       "      <th>permalink</th>\n",
       "      <th>name</th>\n",
       "      <th>category_list_x</th>\n",
       "      <th>status</th>\n",
       "      <th>country_code</th>\n",
       "      <th>funding_round_permalink</th>\n",
       "      <th>funding_round_type</th>\n",
       "      <th>funded_at</th>\n",
       "      <th>raised_amount_usd</th>\n",
       "      <th>primary_sector</th>\n",
       "      <th>Automotive &amp; Sports</th>\n",
       "      <th>Blanks</th>\n",
       "      <th>Cleantech / Semiconductors</th>\n",
       "      <th>Entertainment</th>\n",
       "      <th>Health</th>\n",
       "      <th>Manufacturing</th>\n",
       "      <th>News, Search and Messaging</th>\n",
       "      <th>Others</th>\n",
       "      <th>Social, Finance, Analytics, Advertising</th>\n",
       "    </tr>\n",
       "  </thead>\n",
       "  <tbody>\n",
       "    <tr>\n",
       "      <th>0</th>\n",
       "      <td>/organization/-fame</td>\n",
       "      <td>#fame</td>\n",
       "      <td>Media</td>\n",
       "      <td>operating</td>\n",
       "      <td>IND</td>\n",
       "      <td>/funding-round/9a01d05418af9f794eebff7ace91f638</td>\n",
       "      <td>venture</td>\n",
       "      <td>05-01-2015</td>\n",
       "      <td>10000000.00</td>\n",
       "      <td>media</td>\n",
       "      <td>0</td>\n",
       "      <td>0</td>\n",
       "      <td>0</td>\n",
       "      <td>1</td>\n",
       "      <td>0</td>\n",
       "      <td>0</td>\n",
       "      <td>0</td>\n",
       "      <td>0</td>\n",
       "      <td>0</td>\n",
       "    </tr>\n",
       "    <tr>\n",
       "      <th>1</th>\n",
       "      <td>/organization/90min</td>\n",
       "      <td>90min</td>\n",
       "      <td>Media|News|Publishing|Soccer|Sports</td>\n",
       "      <td>operating</td>\n",
       "      <td>GBR</td>\n",
       "      <td>/funding-round/21a2cbf6f2fb2a1c2a61e04bf930dfe6</td>\n",
       "      <td>venture</td>\n",
       "      <td>06-10-2015</td>\n",
       "      <td>15000000.00</td>\n",
       "      <td>media</td>\n",
       "      <td>0</td>\n",
       "      <td>0</td>\n",
       "      <td>0</td>\n",
       "      <td>1</td>\n",
       "      <td>0</td>\n",
       "      <td>0</td>\n",
       "      <td>0</td>\n",
       "      <td>0</td>\n",
       "      <td>0</td>\n",
       "    </tr>\n",
       "    <tr>\n",
       "      <th>2</th>\n",
       "      <td>/organization/90min</td>\n",
       "      <td>90min</td>\n",
       "      <td>Media|News|Publishing|Soccer|Sports</td>\n",
       "      <td>operating</td>\n",
       "      <td>GBR</td>\n",
       "      <td>/funding-round/bd626ed022f5c66574b1afe234f3c90d</td>\n",
       "      <td>venture</td>\n",
       "      <td>07-05-2013</td>\n",
       "      <td>5800000.00</td>\n",
       "      <td>media</td>\n",
       "      <td>0</td>\n",
       "      <td>0</td>\n",
       "      <td>0</td>\n",
       "      <td>1</td>\n",
       "      <td>0</td>\n",
       "      <td>0</td>\n",
       "      <td>0</td>\n",
       "      <td>0</td>\n",
       "      <td>0</td>\n",
       "    </tr>\n",
       "    <tr>\n",
       "      <th>3</th>\n",
       "      <td>/organization/90min</td>\n",
       "      <td>90min</td>\n",
       "      <td>Media|News|Publishing|Soccer|Sports</td>\n",
       "      <td>operating</td>\n",
       "      <td>GBR</td>\n",
       "      <td>/funding-round/fd4b15e8c97ee2ffc0acccdbe1a98810</td>\n",
       "      <td>venture</td>\n",
       "      <td>26-03-2014</td>\n",
       "      <td>18000000.00</td>\n",
       "      <td>media</td>\n",
       "      <td>0</td>\n",
       "      <td>0</td>\n",
       "      <td>0</td>\n",
       "      <td>1</td>\n",
       "      <td>0</td>\n",
       "      <td>0</td>\n",
       "      <td>0</td>\n",
       "      <td>0</td>\n",
       "      <td>0</td>\n",
       "    </tr>\n",
       "    <tr>\n",
       "      <th>6</th>\n",
       "      <td>/organization/all-def-digital</td>\n",
       "      <td>All Def Digital</td>\n",
       "      <td>Media</td>\n",
       "      <td>operating</td>\n",
       "      <td>USA</td>\n",
       "      <td>/funding-round/452a2342fe720285c3b92e9bd927d9ba</td>\n",
       "      <td>venture</td>\n",
       "      <td>06-08-2014</td>\n",
       "      <td>5000000.00</td>\n",
       "      <td>media</td>\n",
       "      <td>0</td>\n",
       "      <td>0</td>\n",
       "      <td>0</td>\n",
       "      <td>1</td>\n",
       "      <td>0</td>\n",
       "      <td>0</td>\n",
       "      <td>0</td>\n",
       "      <td>0</td>\n",
       "      <td>0</td>\n",
       "    </tr>\n",
       "  </tbody>\n",
       "</table>\n",
       "</div>"
      ],
      "text/plain": [
       "                       permalink             name  \\\n",
       "0            /organization/-fame            #fame   \n",
       "1            /organization/90min            90min   \n",
       "2            /organization/90min            90min   \n",
       "3            /organization/90min            90min   \n",
       "6  /organization/all-def-digital  All Def Digital   \n",
       "\n",
       "                       category_list_x     status country_code  \\\n",
       "0                                Media  operating          IND   \n",
       "1  Media|News|Publishing|Soccer|Sports  operating          GBR   \n",
       "2  Media|News|Publishing|Soccer|Sports  operating          GBR   \n",
       "3  Media|News|Publishing|Soccer|Sports  operating          GBR   \n",
       "6                                Media  operating          USA   \n",
       "\n",
       "                           funding_round_permalink funding_round_type  \\\n",
       "0  /funding-round/9a01d05418af9f794eebff7ace91f638            venture   \n",
       "1  /funding-round/21a2cbf6f2fb2a1c2a61e04bf930dfe6            venture   \n",
       "2  /funding-round/bd626ed022f5c66574b1afe234f3c90d            venture   \n",
       "3  /funding-round/fd4b15e8c97ee2ffc0acccdbe1a98810            venture   \n",
       "6  /funding-round/452a2342fe720285c3b92e9bd927d9ba            venture   \n",
       "\n",
       "    funded_at  raised_amount_usd primary_sector  Automotive & Sports  Blanks  \\\n",
       "0  05-01-2015        10000000.00          media                    0       0   \n",
       "1  06-10-2015        15000000.00          media                    0       0   \n",
       "2  07-05-2013         5800000.00          media                    0       0   \n",
       "3  26-03-2014        18000000.00          media                    0       0   \n",
       "6  06-08-2014         5000000.00          media                    0       0   \n",
       "\n",
       "   Cleantech / Semiconductors  Entertainment  Health  Manufacturing  \\\n",
       "0                           0              1       0              0   \n",
       "1                           0              1       0              0   \n",
       "2                           0              1       0              0   \n",
       "3                           0              1       0              0   \n",
       "6                           0              1       0              0   \n",
       "\n",
       "   News, Search and Messaging  Others  Social, Finance, Analytics, Advertising  \n",
       "0                           0       0                                        0  \n",
       "1                           0       0                                        0  \n",
       "2                           0       0                                        0  \n",
       "3                           0       0                                        0  \n",
       "6                           0       0                                        0  "
      ]
     },
     "execution_count": 76,
     "metadata": {},
     "output_type": "execute_result"
    }
   ],
   "source": [
    "# Let's filter this dataframe further for veture type funding and top 3 countries we are intersted in\n",
    "\n",
    "merged_frame_filtered = merged_frame_filtered[(merged_frame_filtered.funding_round_type=='venture')]\n",
    "merged_frame_filtered.head()"
   ]
  },
  {
   "cell_type": "code",
   "execution_count": 77,
   "metadata": {},
   "outputs": [
    {
     "data": {
      "text/html": [
       "<div>\n",
       "<style scoped>\n",
       "    .dataframe tbody tr th:only-of-type {\n",
       "        vertical-align: middle;\n",
       "    }\n",
       "\n",
       "    .dataframe tbody tr th {\n",
       "        vertical-align: top;\n",
       "    }\n",
       "\n",
       "    .dataframe thead th {\n",
       "        text-align: right;\n",
       "    }\n",
       "</style>\n",
       "<table border=\"1\" class=\"dataframe\">\n",
       "  <thead>\n",
       "    <tr style=\"text-align: right;\">\n",
       "      <th></th>\n",
       "      <th>permalink</th>\n",
       "      <th>name</th>\n",
       "      <th>category_list_x</th>\n",
       "      <th>status</th>\n",
       "      <th>country_code</th>\n",
       "      <th>funding_round_permalink</th>\n",
       "      <th>funding_round_type</th>\n",
       "      <th>funded_at</th>\n",
       "      <th>raised_amount_usd</th>\n",
       "      <th>primary_sector</th>\n",
       "      <th>Automotive &amp; Sports</th>\n",
       "      <th>Blanks</th>\n",
       "      <th>Cleantech / Semiconductors</th>\n",
       "      <th>Entertainment</th>\n",
       "      <th>Health</th>\n",
       "      <th>Manufacturing</th>\n",
       "      <th>News, Search and Messaging</th>\n",
       "      <th>Others</th>\n",
       "      <th>Social, Finance, Analytics, Advertising</th>\n",
       "    </tr>\n",
       "  </thead>\n",
       "  <tbody>\n",
       "    <tr>\n",
       "      <th>0</th>\n",
       "      <td>/organization/-fame</td>\n",
       "      <td>#fame</td>\n",
       "      <td>Media</td>\n",
       "      <td>operating</td>\n",
       "      <td>IND</td>\n",
       "      <td>/funding-round/9a01d05418af9f794eebff7ace91f638</td>\n",
       "      <td>venture</td>\n",
       "      <td>05-01-2015</td>\n",
       "      <td>10000000.00</td>\n",
       "      <td>media</td>\n",
       "      <td>0</td>\n",
       "      <td>0</td>\n",
       "      <td>0</td>\n",
       "      <td>1</td>\n",
       "      <td>0</td>\n",
       "      <td>0</td>\n",
       "      <td>0</td>\n",
       "      <td>0</td>\n",
       "      <td>0</td>\n",
       "    </tr>\n",
       "    <tr>\n",
       "      <th>1</th>\n",
       "      <td>/organization/90min</td>\n",
       "      <td>90min</td>\n",
       "      <td>Media|News|Publishing|Soccer|Sports</td>\n",
       "      <td>operating</td>\n",
       "      <td>GBR</td>\n",
       "      <td>/funding-round/21a2cbf6f2fb2a1c2a61e04bf930dfe6</td>\n",
       "      <td>venture</td>\n",
       "      <td>06-10-2015</td>\n",
       "      <td>15000000.00</td>\n",
       "      <td>media</td>\n",
       "      <td>0</td>\n",
       "      <td>0</td>\n",
       "      <td>0</td>\n",
       "      <td>1</td>\n",
       "      <td>0</td>\n",
       "      <td>0</td>\n",
       "      <td>0</td>\n",
       "      <td>0</td>\n",
       "      <td>0</td>\n",
       "    </tr>\n",
       "    <tr>\n",
       "      <th>2</th>\n",
       "      <td>/organization/90min</td>\n",
       "      <td>90min</td>\n",
       "      <td>Media|News|Publishing|Soccer|Sports</td>\n",
       "      <td>operating</td>\n",
       "      <td>GBR</td>\n",
       "      <td>/funding-round/bd626ed022f5c66574b1afe234f3c90d</td>\n",
       "      <td>venture</td>\n",
       "      <td>07-05-2013</td>\n",
       "      <td>5800000.00</td>\n",
       "      <td>media</td>\n",
       "      <td>0</td>\n",
       "      <td>0</td>\n",
       "      <td>0</td>\n",
       "      <td>1</td>\n",
       "      <td>0</td>\n",
       "      <td>0</td>\n",
       "      <td>0</td>\n",
       "      <td>0</td>\n",
       "      <td>0</td>\n",
       "    </tr>\n",
       "    <tr>\n",
       "      <th>3</th>\n",
       "      <td>/organization/90min</td>\n",
       "      <td>90min</td>\n",
       "      <td>Media|News|Publishing|Soccer|Sports</td>\n",
       "      <td>operating</td>\n",
       "      <td>GBR</td>\n",
       "      <td>/funding-round/fd4b15e8c97ee2ffc0acccdbe1a98810</td>\n",
       "      <td>venture</td>\n",
       "      <td>26-03-2014</td>\n",
       "      <td>18000000.00</td>\n",
       "      <td>media</td>\n",
       "      <td>0</td>\n",
       "      <td>0</td>\n",
       "      <td>0</td>\n",
       "      <td>1</td>\n",
       "      <td>0</td>\n",
       "      <td>0</td>\n",
       "      <td>0</td>\n",
       "      <td>0</td>\n",
       "      <td>0</td>\n",
       "    </tr>\n",
       "    <tr>\n",
       "      <th>6</th>\n",
       "      <td>/organization/all-def-digital</td>\n",
       "      <td>All Def Digital</td>\n",
       "      <td>Media</td>\n",
       "      <td>operating</td>\n",
       "      <td>USA</td>\n",
       "      <td>/funding-round/452a2342fe720285c3b92e9bd927d9ba</td>\n",
       "      <td>venture</td>\n",
       "      <td>06-08-2014</td>\n",
       "      <td>5000000.00</td>\n",
       "      <td>media</td>\n",
       "      <td>0</td>\n",
       "      <td>0</td>\n",
       "      <td>0</td>\n",
       "      <td>1</td>\n",
       "      <td>0</td>\n",
       "      <td>0</td>\n",
       "      <td>0</td>\n",
       "      <td>0</td>\n",
       "      <td>0</td>\n",
       "    </tr>\n",
       "  </tbody>\n",
       "</table>\n",
       "</div>"
      ],
      "text/plain": [
       "                       permalink             name  \\\n",
       "0            /organization/-fame            #fame   \n",
       "1            /organization/90min            90min   \n",
       "2            /organization/90min            90min   \n",
       "3            /organization/90min            90min   \n",
       "6  /organization/all-def-digital  All Def Digital   \n",
       "\n",
       "                       category_list_x     status country_code  \\\n",
       "0                                Media  operating          IND   \n",
       "1  Media|News|Publishing|Soccer|Sports  operating          GBR   \n",
       "2  Media|News|Publishing|Soccer|Sports  operating          GBR   \n",
       "3  Media|News|Publishing|Soccer|Sports  operating          GBR   \n",
       "6                                Media  operating          USA   \n",
       "\n",
       "                           funding_round_permalink funding_round_type  \\\n",
       "0  /funding-round/9a01d05418af9f794eebff7ace91f638            venture   \n",
       "1  /funding-round/21a2cbf6f2fb2a1c2a61e04bf930dfe6            venture   \n",
       "2  /funding-round/bd626ed022f5c66574b1afe234f3c90d            venture   \n",
       "3  /funding-round/fd4b15e8c97ee2ffc0acccdbe1a98810            venture   \n",
       "6  /funding-round/452a2342fe720285c3b92e9bd927d9ba            venture   \n",
       "\n",
       "    funded_at  raised_amount_usd primary_sector  Automotive & Sports  Blanks  \\\n",
       "0  05-01-2015        10000000.00          media                    0       0   \n",
       "1  06-10-2015        15000000.00          media                    0       0   \n",
       "2  07-05-2013         5800000.00          media                    0       0   \n",
       "3  26-03-2014        18000000.00          media                    0       0   \n",
       "6  06-08-2014         5000000.00          media                    0       0   \n",
       "\n",
       "   Cleantech / Semiconductors  Entertainment  Health  Manufacturing  \\\n",
       "0                           0              1       0              0   \n",
       "1                           0              1       0              0   \n",
       "2                           0              1       0              0   \n",
       "3                           0              1       0              0   \n",
       "6                           0              1       0              0   \n",
       "\n",
       "   News, Search and Messaging  Others  Social, Finance, Analytics, Advertising  \n",
       "0                           0       0                                        0  \n",
       "1                           0       0                                        0  \n",
       "2                           0       0                                        0  \n",
       "3                           0       0                                        0  \n",
       "6                           0       0                                        0  "
      ]
     },
     "execution_count": 77,
     "metadata": {},
     "output_type": "execute_result"
    }
   ],
   "source": [
    "merged_frame_filtered = merged_frame_filtered[(merged_frame_filtered.country_code=='USA')|(merged_frame_filtered.country_code=='IND')|(merged_frame_filtered.country_code=='GBR')]\n",
    "\n",
    "merged_frame_filtered.head()"
   ]
  },
  {
   "cell_type": "code",
   "execution_count": 78,
   "metadata": {},
   "outputs": [
    {
     "name": "stdout",
     "output_type": "stream",
     "text": [
      "<class 'pandas.core.frame.DataFrame'>\n",
      "Int64Index: 38788 entries, 0 to 75068\n",
      "Data columns (total 19 columns):\n",
      " #   Column                                   Non-Null Count  Dtype  \n",
      "---  ------                                   --------------  -----  \n",
      " 0   permalink                                38788 non-null  object \n",
      " 1   name                                     38788 non-null  object \n",
      " 2   category_list_x                          38788 non-null  object \n",
      " 3   status                                   38788 non-null  object \n",
      " 4   country_code                             38788 non-null  object \n",
      " 5   funding_round_permalink                  38788 non-null  object \n",
      " 6   funding_round_type                       38788 non-null  object \n",
      " 7   funded_at                                38788 non-null  object \n",
      " 8   raised_amount_usd                        38788 non-null  float64\n",
      " 9   primary_sector                           38788 non-null  object \n",
      " 10  Automotive & Sports                      38788 non-null  int64  \n",
      " 11  Blanks                                   38788 non-null  int64  \n",
      " 12  Cleantech / Semiconductors               38788 non-null  int64  \n",
      " 13  Entertainment                            38788 non-null  int64  \n",
      " 14  Health                                   38788 non-null  int64  \n",
      " 15  Manufacturing                            38788 non-null  int64  \n",
      " 16  News, Search and Messaging               38788 non-null  int64  \n",
      " 17  Others                                   38788 non-null  int64  \n",
      " 18  Social, Finance, Analytics, Advertising  38788 non-null  int64  \n",
      "dtypes: float64(1), int64(9), object(9)\n",
      "memory usage: 5.9+ MB\n"
     ]
    }
   ],
   "source": [
    "merged_frame_filtered.info()"
   ]
  },
  {
   "cell_type": "markdown",
   "metadata": {},
   "source": [
    "Our Merged Dataset has the column of primary sector and all the 8 main sectors. Primary sector is marked under one of the 8 sectors as 1. This creates lots of unnecessary columns in our dataset. We can combine all the main sectors in one column along with their values in next column. This can be done with the function pd.melt() in pandas. \n",
    "\n",
    "\n",
    "From Pandas.melt Documentation - \n",
    "This function is useful to massage a DataFrame into a format where one or more columns are identifier variables (id_vars), while all other columns, considered measured variables (value_vars), are “unpivoted” to the row axis, leaving just two non-identifier columns, ‘variable’ and ‘value’."
   ]
  },
  {
   "cell_type": "code",
   "execution_count": 79,
   "metadata": {},
   "outputs": [
    {
     "name": "stdout",
     "output_type": "stream",
     "text": [
      "Index(['primary_sector', 'Automotive & Sports', 'Blanks',\n",
      "       'Cleantech / Semiconductors', 'Entertainment', 'Health',\n",
      "       'Manufacturing', 'News, Search and Messaging', 'Others',\n",
      "       'Social, Finance, Analytics, Advertising'],\n",
      "      dtype='object')\n"
     ]
    }
   ],
   "source": [
    "# Let's identify measured variables (value_vars) from our dataset\n",
    "\n",
    "value_vars = merged_frame_filtered.columns[9:]\n",
    "\n",
    "print(value_vars)"
   ]
  },
  {
   "cell_type": "code",
   "execution_count": 80,
   "metadata": {},
   "outputs": [
    {
     "name": "stdout",
     "output_type": "stream",
     "text": [
      "Index(['permalink', 'name', 'category_list_x', 'status', 'country_code',\n",
      "       'funding_round_permalink', 'funding_round_type', 'funded_at',\n",
      "       'raised_amount_usd'],\n",
      "      dtype='object')\n"
     ]
    }
   ],
   "source": [
    "# Also identify identifier variables (id_vars) from our dataset\n",
    "\n",
    "id_vars = merged_frame_filtered.columns[0:9]\n",
    "\n",
    "print(id_vars)"
   ]
  },
  {
   "cell_type": "code",
   "execution_count": 81,
   "metadata": {},
   "outputs": [],
   "source": [
    "# Let's create melted dataframe with the help of pd.melt()\n",
    "\n",
    "melted_master_frame = pd.melt(merged_frame_filtered,\n",
    "                              id_vars=list(id_vars),\n",
    "                              value_vars=list(value_vars),\n",
    "                              var_name='main_sector',\n",
    "                              value_name='value')"
   ]
  },
  {
   "cell_type": "code",
   "execution_count": 82,
   "metadata": {},
   "outputs": [
    {
     "data": {
      "text/html": [
       "<div>\n",
       "<style scoped>\n",
       "    .dataframe tbody tr th:only-of-type {\n",
       "        vertical-align: middle;\n",
       "    }\n",
       "\n",
       "    .dataframe tbody tr th {\n",
       "        vertical-align: top;\n",
       "    }\n",
       "\n",
       "    .dataframe thead th {\n",
       "        text-align: right;\n",
       "    }\n",
       "</style>\n",
       "<table border=\"1\" class=\"dataframe\">\n",
       "  <thead>\n",
       "    <tr style=\"text-align: right;\">\n",
       "      <th></th>\n",
       "      <th>permalink</th>\n",
       "      <th>name</th>\n",
       "      <th>category_list_x</th>\n",
       "      <th>status</th>\n",
       "      <th>country_code</th>\n",
       "      <th>funding_round_permalink</th>\n",
       "      <th>funding_round_type</th>\n",
       "      <th>funded_at</th>\n",
       "      <th>raised_amount_usd</th>\n",
       "      <th>main_sector</th>\n",
       "      <th>value</th>\n",
       "    </tr>\n",
       "  </thead>\n",
       "  <tbody>\n",
       "    <tr>\n",
       "      <th>0</th>\n",
       "      <td>/organization/-fame</td>\n",
       "      <td>#fame</td>\n",
       "      <td>Media</td>\n",
       "      <td>operating</td>\n",
       "      <td>IND</td>\n",
       "      <td>/funding-round/9a01d05418af9f794eebff7ace91f638</td>\n",
       "      <td>venture</td>\n",
       "      <td>05-01-2015</td>\n",
       "      <td>10000000.00</td>\n",
       "      <td>primary_sector</td>\n",
       "      <td>media</td>\n",
       "    </tr>\n",
       "    <tr>\n",
       "      <th>1</th>\n",
       "      <td>/organization/90min</td>\n",
       "      <td>90min</td>\n",
       "      <td>Media|News|Publishing|Soccer|Sports</td>\n",
       "      <td>operating</td>\n",
       "      <td>GBR</td>\n",
       "      <td>/funding-round/21a2cbf6f2fb2a1c2a61e04bf930dfe6</td>\n",
       "      <td>venture</td>\n",
       "      <td>06-10-2015</td>\n",
       "      <td>15000000.00</td>\n",
       "      <td>primary_sector</td>\n",
       "      <td>media</td>\n",
       "    </tr>\n",
       "    <tr>\n",
       "      <th>2</th>\n",
       "      <td>/organization/90min</td>\n",
       "      <td>90min</td>\n",
       "      <td>Media|News|Publishing|Soccer|Sports</td>\n",
       "      <td>operating</td>\n",
       "      <td>GBR</td>\n",
       "      <td>/funding-round/bd626ed022f5c66574b1afe234f3c90d</td>\n",
       "      <td>venture</td>\n",
       "      <td>07-05-2013</td>\n",
       "      <td>5800000.00</td>\n",
       "      <td>primary_sector</td>\n",
       "      <td>media</td>\n",
       "    </tr>\n",
       "    <tr>\n",
       "      <th>3</th>\n",
       "      <td>/organization/90min</td>\n",
       "      <td>90min</td>\n",
       "      <td>Media|News|Publishing|Soccer|Sports</td>\n",
       "      <td>operating</td>\n",
       "      <td>GBR</td>\n",
       "      <td>/funding-round/fd4b15e8c97ee2ffc0acccdbe1a98810</td>\n",
       "      <td>venture</td>\n",
       "      <td>26-03-2014</td>\n",
       "      <td>18000000.00</td>\n",
       "      <td>primary_sector</td>\n",
       "      <td>media</td>\n",
       "    </tr>\n",
       "    <tr>\n",
       "      <th>4</th>\n",
       "      <td>/organization/all-def-digital</td>\n",
       "      <td>All Def Digital</td>\n",
       "      <td>Media</td>\n",
       "      <td>operating</td>\n",
       "      <td>USA</td>\n",
       "      <td>/funding-round/452a2342fe720285c3b92e9bd927d9ba</td>\n",
       "      <td>venture</td>\n",
       "      <td>06-08-2014</td>\n",
       "      <td>5000000.00</td>\n",
       "      <td>primary_sector</td>\n",
       "      <td>media</td>\n",
       "    </tr>\n",
       "    <tr>\n",
       "      <th>5</th>\n",
       "      <td>/organization/audiosocket</td>\n",
       "      <td>Audiosocket</td>\n",
       "      <td>Media|Music|Technology</td>\n",
       "      <td>operating</td>\n",
       "      <td>USA</td>\n",
       "      <td>/funding-round/0959f59e3a89bc8db8c6ed9c646349fd</td>\n",
       "      <td>venture</td>\n",
       "      <td>02-05-2013</td>\n",
       "      <td>650000.00</td>\n",
       "      <td>primary_sector</td>\n",
       "      <td>media</td>\n",
       "    </tr>\n",
       "    <tr>\n",
       "      <th>6</th>\n",
       "      <td>/organization/audiosocket</td>\n",
       "      <td>Audiosocket</td>\n",
       "      <td>Media|Music|Technology</td>\n",
       "      <td>operating</td>\n",
       "      <td>USA</td>\n",
       "      <td>/funding-round/4e3a53eec6c609943df752206070b23f</td>\n",
       "      <td>venture</td>\n",
       "      <td>02-09-2009</td>\n",
       "      <td>750000.00</td>\n",
       "      <td>primary_sector</td>\n",
       "      <td>media</td>\n",
       "    </tr>\n",
       "    <tr>\n",
       "      <th>7</th>\n",
       "      <td>/organization/audiosocket</td>\n",
       "      <td>Audiosocket</td>\n",
       "      <td>Media|Music|Technology</td>\n",
       "      <td>operating</td>\n",
       "      <td>USA</td>\n",
       "      <td>/funding-round/bc0b412cf2fa7b739e4105ad756b47a4</td>\n",
       "      <td>venture</td>\n",
       "      <td>15-02-2012</td>\n",
       "      <td>1582300.00</td>\n",
       "      <td>primary_sector</td>\n",
       "      <td>media</td>\n",
       "    </tr>\n",
       "    <tr>\n",
       "      <th>8</th>\n",
       "      <td>/organization/babble</td>\n",
       "      <td>Babble</td>\n",
       "      <td>Media|News|Parenting</td>\n",
       "      <td>acquired</td>\n",
       "      <td>USA</td>\n",
       "      <td>/funding-round/43cc678b39be3e684bb88501af05ff9b</td>\n",
       "      <td>venture</td>\n",
       "      <td>05-02-2009</td>\n",
       "      <td>2000000.00</td>\n",
       "      <td>primary_sector</td>\n",
       "      <td>media</td>\n",
       "    </tr>\n",
       "    <tr>\n",
       "      <th>9</th>\n",
       "      <td>/organization/babble</td>\n",
       "      <td>Babble</td>\n",
       "      <td>Media|News|Parenting</td>\n",
       "      <td>acquired</td>\n",
       "      <td>USA</td>\n",
       "      <td>/funding-round/5fdb3dbeeb6eea0243702adc372130f3</td>\n",
       "      <td>venture</td>\n",
       "      <td>12-05-2009</td>\n",
       "      <td>1250000.00</td>\n",
       "      <td>primary_sector</td>\n",
       "      <td>media</td>\n",
       "    </tr>\n",
       "  </tbody>\n",
       "</table>\n",
       "</div>"
      ],
      "text/plain": [
       "                       permalink             name  \\\n",
       "0            /organization/-fame            #fame   \n",
       "1            /organization/90min            90min   \n",
       "2            /organization/90min            90min   \n",
       "3            /organization/90min            90min   \n",
       "4  /organization/all-def-digital  All Def Digital   \n",
       "5      /organization/audiosocket      Audiosocket   \n",
       "6      /organization/audiosocket      Audiosocket   \n",
       "7      /organization/audiosocket      Audiosocket   \n",
       "8           /organization/babble           Babble   \n",
       "9           /organization/babble           Babble   \n",
       "\n",
       "                       category_list_x     status country_code  \\\n",
       "0                                Media  operating          IND   \n",
       "1  Media|News|Publishing|Soccer|Sports  operating          GBR   \n",
       "2  Media|News|Publishing|Soccer|Sports  operating          GBR   \n",
       "3  Media|News|Publishing|Soccer|Sports  operating          GBR   \n",
       "4                                Media  operating          USA   \n",
       "5               Media|Music|Technology  operating          USA   \n",
       "6               Media|Music|Technology  operating          USA   \n",
       "7               Media|Music|Technology  operating          USA   \n",
       "8                 Media|News|Parenting   acquired          USA   \n",
       "9                 Media|News|Parenting   acquired          USA   \n",
       "\n",
       "                           funding_round_permalink funding_round_type  \\\n",
       "0  /funding-round/9a01d05418af9f794eebff7ace91f638            venture   \n",
       "1  /funding-round/21a2cbf6f2fb2a1c2a61e04bf930dfe6            venture   \n",
       "2  /funding-round/bd626ed022f5c66574b1afe234f3c90d            venture   \n",
       "3  /funding-round/fd4b15e8c97ee2ffc0acccdbe1a98810            venture   \n",
       "4  /funding-round/452a2342fe720285c3b92e9bd927d9ba            venture   \n",
       "5  /funding-round/0959f59e3a89bc8db8c6ed9c646349fd            venture   \n",
       "6  /funding-round/4e3a53eec6c609943df752206070b23f            venture   \n",
       "7  /funding-round/bc0b412cf2fa7b739e4105ad756b47a4            venture   \n",
       "8  /funding-round/43cc678b39be3e684bb88501af05ff9b            venture   \n",
       "9  /funding-round/5fdb3dbeeb6eea0243702adc372130f3            venture   \n",
       "\n",
       "    funded_at  raised_amount_usd     main_sector  value  \n",
       "0  05-01-2015        10000000.00  primary_sector  media  \n",
       "1  06-10-2015        15000000.00  primary_sector  media  \n",
       "2  07-05-2013         5800000.00  primary_sector  media  \n",
       "3  26-03-2014        18000000.00  primary_sector  media  \n",
       "4  06-08-2014         5000000.00  primary_sector  media  \n",
       "5  02-05-2013          650000.00  primary_sector  media  \n",
       "6  02-09-2009          750000.00  primary_sector  media  \n",
       "7  15-02-2012         1582300.00  primary_sector  media  \n",
       "8  05-02-2009         2000000.00  primary_sector  media  \n",
       "9  12-05-2009         1250000.00  primary_sector  media  "
      ]
     },
     "execution_count": 82,
     "metadata": {},
     "output_type": "execute_result"
    }
   ],
   "source": [
    "melted_master_frame.head(10)"
   ]
  },
  {
   "cell_type": "markdown",
   "metadata": {},
   "source": [
    "It looks like we have lot's of rows with 0 value, let's get rid of those rows"
   ]
  },
  {
   "cell_type": "code",
   "execution_count": 83,
   "metadata": {},
   "outputs": [],
   "source": [
    "melted_master_frame = melted_master_frame[melted_master_frame.value==1]"
   ]
  },
  {
   "cell_type": "code",
   "execution_count": 84,
   "metadata": {},
   "outputs": [
    {
     "data": {
      "text/html": [
       "<div>\n",
       "<style scoped>\n",
       "    .dataframe tbody tr th:only-of-type {\n",
       "        vertical-align: middle;\n",
       "    }\n",
       "\n",
       "    .dataframe tbody tr th {\n",
       "        vertical-align: top;\n",
       "    }\n",
       "\n",
       "    .dataframe thead th {\n",
       "        text-align: right;\n",
       "    }\n",
       "</style>\n",
       "<table border=\"1\" class=\"dataframe\">\n",
       "  <thead>\n",
       "    <tr style=\"text-align: right;\">\n",
       "      <th></th>\n",
       "      <th>permalink</th>\n",
       "      <th>name</th>\n",
       "      <th>category_list_x</th>\n",
       "      <th>status</th>\n",
       "      <th>country_code</th>\n",
       "      <th>funding_round_permalink</th>\n",
       "      <th>funding_round_type</th>\n",
       "      <th>funded_at</th>\n",
       "      <th>raised_amount_usd</th>\n",
       "      <th>main_sector</th>\n",
       "      <th>value</th>\n",
       "    </tr>\n",
       "  </thead>\n",
       "  <tbody>\n",
       "    <tr>\n",
       "      <th>63790</th>\n",
       "      <td>/organization/allasso-industries</td>\n",
       "      <td>Allasso Industries</td>\n",
       "      <td>Design</td>\n",
       "      <td>operating</td>\n",
       "      <td>USA</td>\n",
       "      <td>/funding-round/1af4cb5a75d03188d2d3c4f221106710</td>\n",
       "      <td>venture</td>\n",
       "      <td>17-11-2009</td>\n",
       "      <td>443000.00</td>\n",
       "      <td>Automotive &amp; Sports</td>\n",
       "      <td>1</td>\n",
       "    </tr>\n",
       "    <tr>\n",
       "      <th>63791</th>\n",
       "      <td>/organization/angaza-design</td>\n",
       "      <td>Angaza</td>\n",
       "      <td>Design|Energy|Social Entrepreneurship</td>\n",
       "      <td>operating</td>\n",
       "      <td>USA</td>\n",
       "      <td>/funding-round/187e39f2c4ac54bd476425f2d94cc4b4</td>\n",
       "      <td>venture</td>\n",
       "      <td>23-10-2015</td>\n",
       "      <td>4000000.00</td>\n",
       "      <td>Automotive &amp; Sports</td>\n",
       "      <td>1</td>\n",
       "    </tr>\n",
       "    <tr>\n",
       "      <th>63792</th>\n",
       "      <td>/organization/archpro-design-automation</td>\n",
       "      <td>ArchPro Design Automation</td>\n",
       "      <td>Design|EDA Tools|Manufacturing</td>\n",
       "      <td>operating</td>\n",
       "      <td>USA</td>\n",
       "      <td>/funding-round/ad6e2f94da8594ceb31a6499ae85ba2b</td>\n",
       "      <td>venture</td>\n",
       "      <td>23-05-2006</td>\n",
       "      <td>4500000.00</td>\n",
       "      <td>Automotive &amp; Sports</td>\n",
       "      <td>1</td>\n",
       "    </tr>\n",
       "    <tr>\n",
       "      <th>63793</th>\n",
       "      <td>/organization/bloo-solar</td>\n",
       "      <td>Bloo Solar</td>\n",
       "      <td>Design|Electronics|Energy|Solar</td>\n",
       "      <td>operating</td>\n",
       "      <td>USA</td>\n",
       "      <td>/funding-round/281338ea198970928b7f7fba60bcfd05</td>\n",
       "      <td>venture</td>\n",
       "      <td>29-12-2014</td>\n",
       "      <td>10000000.00</td>\n",
       "      <td>Automotive &amp; Sports</td>\n",
       "      <td>1</td>\n",
       "    </tr>\n",
       "    <tr>\n",
       "      <th>63794</th>\n",
       "      <td>/organization/california-arts-council</td>\n",
       "      <td>California Arts Council</td>\n",
       "      <td>Design</td>\n",
       "      <td>operating</td>\n",
       "      <td>USA</td>\n",
       "      <td>/funding-round/5079cf2e228dd3bf11df01862c0682a5</td>\n",
       "      <td>venture</td>\n",
       "      <td>17-07-2013</td>\n",
       "      <td>2000000.00</td>\n",
       "      <td>Automotive &amp; Sports</td>\n",
       "      <td>1</td>\n",
       "    </tr>\n",
       "  </tbody>\n",
       "</table>\n",
       "</div>"
      ],
      "text/plain": [
       "                                     permalink                       name  \\\n",
       "63790         /organization/allasso-industries         Allasso Industries   \n",
       "63791              /organization/angaza-design                     Angaza   \n",
       "63792  /organization/archpro-design-automation  ArchPro Design Automation   \n",
       "63793                 /organization/bloo-solar                 Bloo Solar   \n",
       "63794    /organization/california-arts-council    California Arts Council   \n",
       "\n",
       "                             category_list_x     status country_code  \\\n",
       "63790                                 Design  operating          USA   \n",
       "63791  Design|Energy|Social Entrepreneurship  operating          USA   \n",
       "63792         Design|EDA Tools|Manufacturing  operating          USA   \n",
       "63793        Design|Electronics|Energy|Solar  operating          USA   \n",
       "63794                                 Design  operating          USA   \n",
       "\n",
       "                               funding_round_permalink funding_round_type  \\\n",
       "63790  /funding-round/1af4cb5a75d03188d2d3c4f221106710            venture   \n",
       "63791  /funding-round/187e39f2c4ac54bd476425f2d94cc4b4            venture   \n",
       "63792  /funding-round/ad6e2f94da8594ceb31a6499ae85ba2b            venture   \n",
       "63793  /funding-round/281338ea198970928b7f7fba60bcfd05            venture   \n",
       "63794  /funding-round/5079cf2e228dd3bf11df01862c0682a5            venture   \n",
       "\n",
       "        funded_at  raised_amount_usd          main_sector value  \n",
       "63790  17-11-2009          443000.00  Automotive & Sports     1  \n",
       "63791  23-10-2015         4000000.00  Automotive & Sports     1  \n",
       "63792  23-05-2006         4500000.00  Automotive & Sports     1  \n",
       "63793  29-12-2014        10000000.00  Automotive & Sports     1  \n",
       "63794  17-07-2013         2000000.00  Automotive & Sports     1  "
      ]
     },
     "execution_count": 84,
     "metadata": {},
     "output_type": "execute_result"
    }
   ],
   "source": [
    "melted_master_frame.head()"
   ]
  },
  {
   "cell_type": "code",
   "execution_count": 85,
   "metadata": {},
   "outputs": [],
   "source": [
    "# Let's drop value column as its not of any use for analysis\n",
    "\n",
    "melted_master_frame.drop(['value'], axis=1, inplace=True)"
   ]
  },
  {
   "cell_type": "code",
   "execution_count": 86,
   "metadata": {},
   "outputs": [
    {
     "data": {
      "text/html": [
       "<div>\n",
       "<style scoped>\n",
       "    .dataframe tbody tr th:only-of-type {\n",
       "        vertical-align: middle;\n",
       "    }\n",
       "\n",
       "    .dataframe tbody tr th {\n",
       "        vertical-align: top;\n",
       "    }\n",
       "\n",
       "    .dataframe thead th {\n",
       "        text-align: right;\n",
       "    }\n",
       "</style>\n",
       "<table border=\"1\" class=\"dataframe\">\n",
       "  <thead>\n",
       "    <tr style=\"text-align: right;\">\n",
       "      <th></th>\n",
       "      <th>permalink</th>\n",
       "      <th>name</th>\n",
       "      <th>category_list_x</th>\n",
       "      <th>status</th>\n",
       "      <th>country_code</th>\n",
       "      <th>funding_round_permalink</th>\n",
       "      <th>funding_round_type</th>\n",
       "      <th>funded_at</th>\n",
       "      <th>raised_amount_usd</th>\n",
       "      <th>main_sector</th>\n",
       "    </tr>\n",
       "  </thead>\n",
       "  <tbody>\n",
       "    <tr>\n",
       "      <th>63790</th>\n",
       "      <td>/organization/allasso-industries</td>\n",
       "      <td>Allasso Industries</td>\n",
       "      <td>Design</td>\n",
       "      <td>operating</td>\n",
       "      <td>USA</td>\n",
       "      <td>/funding-round/1af4cb5a75d03188d2d3c4f221106710</td>\n",
       "      <td>venture</td>\n",
       "      <td>17-11-2009</td>\n",
       "      <td>443000.00</td>\n",
       "      <td>Automotive &amp; Sports</td>\n",
       "    </tr>\n",
       "    <tr>\n",
       "      <th>63791</th>\n",
       "      <td>/organization/angaza-design</td>\n",
       "      <td>Angaza</td>\n",
       "      <td>Design|Energy|Social Entrepreneurship</td>\n",
       "      <td>operating</td>\n",
       "      <td>USA</td>\n",
       "      <td>/funding-round/187e39f2c4ac54bd476425f2d94cc4b4</td>\n",
       "      <td>venture</td>\n",
       "      <td>23-10-2015</td>\n",
       "      <td>4000000.00</td>\n",
       "      <td>Automotive &amp; Sports</td>\n",
       "    </tr>\n",
       "    <tr>\n",
       "      <th>63792</th>\n",
       "      <td>/organization/archpro-design-automation</td>\n",
       "      <td>ArchPro Design Automation</td>\n",
       "      <td>Design|EDA Tools|Manufacturing</td>\n",
       "      <td>operating</td>\n",
       "      <td>USA</td>\n",
       "      <td>/funding-round/ad6e2f94da8594ceb31a6499ae85ba2b</td>\n",
       "      <td>venture</td>\n",
       "      <td>23-05-2006</td>\n",
       "      <td>4500000.00</td>\n",
       "      <td>Automotive &amp; Sports</td>\n",
       "    </tr>\n",
       "    <tr>\n",
       "      <th>63793</th>\n",
       "      <td>/organization/bloo-solar</td>\n",
       "      <td>Bloo Solar</td>\n",
       "      <td>Design|Electronics|Energy|Solar</td>\n",
       "      <td>operating</td>\n",
       "      <td>USA</td>\n",
       "      <td>/funding-round/281338ea198970928b7f7fba60bcfd05</td>\n",
       "      <td>venture</td>\n",
       "      <td>29-12-2014</td>\n",
       "      <td>10000000.00</td>\n",
       "      <td>Automotive &amp; Sports</td>\n",
       "    </tr>\n",
       "    <tr>\n",
       "      <th>63794</th>\n",
       "      <td>/organization/california-arts-council</td>\n",
       "      <td>California Arts Council</td>\n",
       "      <td>Design</td>\n",
       "      <td>operating</td>\n",
       "      <td>USA</td>\n",
       "      <td>/funding-round/5079cf2e228dd3bf11df01862c0682a5</td>\n",
       "      <td>venture</td>\n",
       "      <td>17-07-2013</td>\n",
       "      <td>2000000.00</td>\n",
       "      <td>Automotive &amp; Sports</td>\n",
       "    </tr>\n",
       "  </tbody>\n",
       "</table>\n",
       "</div>"
      ],
      "text/plain": [
       "                                     permalink                       name  \\\n",
       "63790         /organization/allasso-industries         Allasso Industries   \n",
       "63791              /organization/angaza-design                     Angaza   \n",
       "63792  /organization/archpro-design-automation  ArchPro Design Automation   \n",
       "63793                 /organization/bloo-solar                 Bloo Solar   \n",
       "63794    /organization/california-arts-council    California Arts Council   \n",
       "\n",
       "                             category_list_x     status country_code  \\\n",
       "63790                                 Design  operating          USA   \n",
       "63791  Design|Energy|Social Entrepreneurship  operating          USA   \n",
       "63792         Design|EDA Tools|Manufacturing  operating          USA   \n",
       "63793        Design|Electronics|Energy|Solar  operating          USA   \n",
       "63794                                 Design  operating          USA   \n",
       "\n",
       "                               funding_round_permalink funding_round_type  \\\n",
       "63790  /funding-round/1af4cb5a75d03188d2d3c4f221106710            venture   \n",
       "63791  /funding-round/187e39f2c4ac54bd476425f2d94cc4b4            venture   \n",
       "63792  /funding-round/ad6e2f94da8594ceb31a6499ae85ba2b            venture   \n",
       "63793  /funding-round/281338ea198970928b7f7fba60bcfd05            venture   \n",
       "63794  /funding-round/5079cf2e228dd3bf11df01862c0682a5            venture   \n",
       "\n",
       "        funded_at  raised_amount_usd          main_sector  \n",
       "63790  17-11-2009          443000.00  Automotive & Sports  \n",
       "63791  23-10-2015         4000000.00  Automotive & Sports  \n",
       "63792  23-05-2006         4500000.00  Automotive & Sports  \n",
       "63793  29-12-2014        10000000.00  Automotive & Sports  \n",
       "63794  17-07-2013         2000000.00  Automotive & Sports  "
      ]
     },
     "execution_count": 86,
     "metadata": {},
     "output_type": "execute_result"
    }
   ],
   "source": [
    "melted_master_frame.head()"
   ]
  },
  {
   "cell_type": "code",
   "execution_count": 87,
   "metadata": {},
   "outputs": [
    {
     "name": "stdout",
     "output_type": "stream",
     "text": [
      "<class 'pandas.core.frame.DataFrame'>\n",
      "Int64Index: 38788 entries, 63790 to 387876\n",
      "Data columns (total 10 columns):\n",
      " #   Column                   Non-Null Count  Dtype  \n",
      "---  ------                   --------------  -----  \n",
      " 0   permalink                38788 non-null  object \n",
      " 1   name                     38788 non-null  object \n",
      " 2   category_list_x          38788 non-null  object \n",
      " 3   status                   38788 non-null  object \n",
      " 4   country_code             38788 non-null  object \n",
      " 5   funding_round_permalink  38788 non-null  object \n",
      " 6   funding_round_type       38788 non-null  object \n",
      " 7   funded_at                38788 non-null  object \n",
      " 8   raised_amount_usd        38788 non-null  float64\n",
      " 9   main_sector              38788 non-null  object \n",
      "dtypes: float64(1), object(9)\n",
      "memory usage: 3.3+ MB\n"
     ]
    }
   ],
   "source": [
    "melted_master_frame.info()"
   ]
  },
  {
   "cell_type": "markdown",
   "metadata": {},
   "source": [
    "## Checkpoint 5: Sector Analysis 2"
   ]
  },
  {
   "cell_type": "markdown",
   "metadata": {},
   "source": [
    "#### Till now we have observed that,\n",
    "\n",
    "- Preferred Funding Type - Venture\n",
    "- Top 3 English Speaking Countries - United States of America, United Kingdom, India\n",
    "- Minimum Limit - USD 5,000,000\n",
    "- Maximum Limit - USD 15,000,000"
   ]
  },
  {
   "cell_type": "code",
   "execution_count": 88,
   "metadata": {},
   "outputs": [
    {
     "data": {
      "image/png": "[encoded data removed]",
      "text/plain": [
       "<Figure size 576x432 with 1 Axes>"
      ]
     },
     "metadata": {
      "needs_background": "light"
     },
     "output_type": "display_data"
    },
    {
     "name": "stdout",
     "output_type": "stream",
     "text": [
      "Others                                     9110\n",
      "Cleantech / Semiconductors                 8492\n",
      "Social, Finance, Analytics, Advertising    7814\n",
      "News, Search and Messaging                 4727\n",
      "Health                                     3429\n",
      "Manufacturing                              2630\n",
      "Entertainment                              2006\n",
      "Automotive & Sports                         580\n",
      "Name: main_sector, dtype: int64\n"
     ]
    }
   ],
   "source": [
    "sector_count = melted_master_frame['main_sector'].value_counts()\n",
    "\n",
    "plt.figure(figsize=(8, 6))\n",
    "sns.barplot(x=sector_count.values, y=sector_count.index)\n",
    "plt.show()\n",
    "\n",
    "print(sector_count)"
   ]
  },
  {
   "cell_type": "code",
   "execution_count": 89,
   "metadata": {},
   "outputs": [],
   "source": [
    "# Let's create 3 dataframes for 3 countries\n",
    "\n",
    "#USA\n",
    "D1 = melted_master_frame[(melted_master_frame.raised_amount_usd >= 5000000) & (melted_master_frame.raised_amount_usd <= 15000000) & (melted_master_frame.country_code == 'USA')]\n",
    "\n",
    "#GBR\n",
    "D2 = melted_master_frame[(melted_master_frame.raised_amount_usd >= 5000000) & (melted_master_frame.raised_amount_usd <= 15000000) & (melted_master_frame.country_code == 'GBR')]\n",
    "\n",
    "#IND\n",
    "D3 = melted_master_frame[(melted_master_frame.raised_amount_usd >= 5000000) & (melted_master_frame.raised_amount_usd <= 15000000) & (melted_master_frame.country_code == 'IND')]"
   ]
  },
  {
   "cell_type": "code",
   "execution_count": 90,
   "metadata": {},
   "outputs": [
    {
     "name": "stdout",
     "output_type": "stream",
     "text": [
      "Index(['permalink', 'name', 'category_list_x', 'status', 'country_code',\n",
      "       'funding_round_permalink', 'funding_round_type', 'funded_at',\n",
      "       'raised_amount_usd', 'main_sector'],\n",
      "      dtype='object')\n",
      "\n",
      "\n",
      "       raised_amount_usd\n",
      "count           12063.00\n",
      "mean          8932860.59\n",
      "std           3075861.23\n",
      "min           5000000.00\n",
      "25%           6000970.50\n",
      "50%           8300000.00\n",
      "75%          11000000.00\n",
      "max          15000000.00\n",
      "------------------------------\n",
      "Index(['permalink', 'name', 'category_list_x', 'status', 'country_code',\n",
      "       'funding_round_permalink', 'funding_round_type', 'funded_at',\n",
      "       'raised_amount_usd', 'main_sector'],\n",
      "      dtype='object')\n",
      "\n",
      "\n",
      "       raised_amount_usd\n",
      "count             621.00\n",
      "mean          8661962.47\n",
      "std           2867166.77\n",
      "min           5000000.00\n",
      "25%           6084330.00\n",
      "50%           8000000.00\n",
      "75%          10606760.00\n",
      "max          15000000.00\n",
      "------------------------------\n",
      "Index(['permalink', 'name', 'category_list_x', 'status', 'country_code',\n",
      "       'funding_round_permalink', 'funding_round_type', 'funded_at',\n",
      "       'raised_amount_usd', 'main_sector'],\n",
      "      dtype='object')\n",
      "\n",
      "\n",
      "       raised_amount_usd\n",
      "count             328.00\n",
      "mean          8992510.98\n",
      "std           3219811.35\n",
      "min           5000000.00\n",
      "25%           6000000.00\n",
      "50%           8700000.00\n",
      "75%          10555000.00\n",
      "max          15000000.00\n"
     ]
    }
   ],
   "source": [
    "# Let's check if we have all the columns as main_dataframe along with primary and main sector. Also our filter for finding limit is proper\n",
    "\n",
    "print(D1.columns)\n",
    "print('\\n')\n",
    "print(D1.describe())\n",
    "print('-'*30)\n",
    "print(D2.columns)\n",
    "print('\\n')\n",
    "print(D2.describe())\n",
    "print('-'*30)\n",
    "print(D3.columns)\n",
    "print('\\n')\n",
    "print(D3.describe())"
   ]
  },
  {
   "cell_type": "code",
   "execution_count": 91,
   "metadata": {},
   "outputs": [],
   "source": [
    "# Let's get count for total number on investment and sum of total amout invested per main_sector and add it in existing dataframe\n",
    "\n",
    "def get_count_and_sum(df):\n",
    "    df['total_no_of_investment'] = df['main_sector'].map(df['main_sector'].value_counts().to_dict())\n",
    "    df['total_amount_invested'] = df['main_sector'].map(df[['main_sector', 'raised_amount_usd']].groupby(df['main_sector']).sum()['raised_amount_usd'].to_dict())\n",
    "\n",
    "for df in [D1,D2,D3]:\n",
    "    get_count_and_sum(df)"
   ]
  },
  {
   "cell_type": "code",
   "execution_count": 92,
   "metadata": {},
   "outputs": [
    {
     "data": {
      "text/html": [
       "<div>\n",
       "<style scoped>\n",
       "    .dataframe tbody tr th:only-of-type {\n",
       "        vertical-align: middle;\n",
       "    }\n",
       "\n",
       "    .dataframe tbody tr th {\n",
       "        vertical-align: top;\n",
       "    }\n",
       "\n",
       "    .dataframe thead th {\n",
       "        text-align: right;\n",
       "    }\n",
       "</style>\n",
       "<table border=\"1\" class=\"dataframe\">\n",
       "  <thead>\n",
       "    <tr style=\"text-align: right;\">\n",
       "      <th></th>\n",
       "      <th>permalink</th>\n",
       "      <th>name</th>\n",
       "      <th>category_list_x</th>\n",
       "      <th>status</th>\n",
       "      <th>country_code</th>\n",
       "      <th>funding_round_permalink</th>\n",
       "      <th>funding_round_type</th>\n",
       "      <th>funded_at</th>\n",
       "      <th>raised_amount_usd</th>\n",
       "      <th>main_sector</th>\n",
       "      <th>total_no_of_investment</th>\n",
       "      <th>total_amount_invested</th>\n",
       "    </tr>\n",
       "  </thead>\n",
       "  <tbody>\n",
       "    <tr>\n",
       "      <th>63793</th>\n",
       "      <td>/organization/bloo-solar</td>\n",
       "      <td>Bloo Solar</td>\n",
       "      <td>Design|Electronics|Energy|Solar</td>\n",
       "      <td>operating</td>\n",
       "      <td>USA</td>\n",
       "      <td>/funding-round/281338ea198970928b7f7fba60bcfd05</td>\n",
       "      <td>venture</td>\n",
       "      <td>29-12-2014</td>\n",
       "      <td>10000000.00</td>\n",
       "      <td>Automotive &amp; Sports</td>\n",
       "      <td>167</td>\n",
       "      <td>1454104361.00</td>\n",
       "    </tr>\n",
       "    <tr>\n",
       "      <th>63795</th>\n",
       "      <td>/organization/california-linear-devices</td>\n",
       "      <td>California Linear Devices</td>\n",
       "      <td>Design</td>\n",
       "      <td>acquired</td>\n",
       "      <td>USA</td>\n",
       "      <td>/funding-round/2f1ad49bebd0a69798d071ab0f7cfb99</td>\n",
       "      <td>venture</td>\n",
       "      <td>28-08-2001</td>\n",
       "      <td>10500000.00</td>\n",
       "      <td>Automotive &amp; Sports</td>\n",
       "      <td>167</td>\n",
       "      <td>1454104361.00</td>\n",
       "    </tr>\n",
       "    <tr>\n",
       "      <th>63804</th>\n",
       "      <td>/organization/digg</td>\n",
       "      <td>Digg</td>\n",
       "      <td>Design|News|Social Bookmarking|Social Media|Te...</td>\n",
       "      <td>acquired</td>\n",
       "      <td>USA</td>\n",
       "      <td>/funding-round/eba8d445f97992a81d5571d68aaf919b</td>\n",
       "      <td>venture</td>\n",
       "      <td>12-07-2011</td>\n",
       "      <td>5000000.00</td>\n",
       "      <td>Automotive &amp; Sports</td>\n",
       "      <td>167</td>\n",
       "      <td>1454104361.00</td>\n",
       "    </tr>\n",
       "    <tr>\n",
       "      <th>63805</th>\n",
       "      <td>/organization/digg</td>\n",
       "      <td>Digg</td>\n",
       "      <td>Design|News|Social Bookmarking|Social Media|Te...</td>\n",
       "      <td>acquired</td>\n",
       "      <td>USA</td>\n",
       "      <td>/funding-round/fac3a91a8145d98c8dc2302afc7de82a</td>\n",
       "      <td>venture</td>\n",
       "      <td>01-12-2006</td>\n",
       "      <td>8500000.00</td>\n",
       "      <td>Automotive &amp; Sports</td>\n",
       "      <td>167</td>\n",
       "      <td>1454104361.00</td>\n",
       "    </tr>\n",
       "    <tr>\n",
       "      <th>63807</th>\n",
       "      <td>/organization/digital-domain-media-group</td>\n",
       "      <td>Digital Domain Media Group</td>\n",
       "      <td>Design</td>\n",
       "      <td>closed</td>\n",
       "      <td>USA</td>\n",
       "      <td>/funding-round/7a2fe3903442f2cb77d336395122bf73</td>\n",
       "      <td>venture</td>\n",
       "      <td>22-06-2012</td>\n",
       "      <td>10500000.00</td>\n",
       "      <td>Automotive &amp; Sports</td>\n",
       "      <td>167</td>\n",
       "      <td>1454104361.00</td>\n",
       "    </tr>\n",
       "  </tbody>\n",
       "</table>\n",
       "</div>"
      ],
      "text/plain": [
       "                                      permalink                        name  \\\n",
       "63793                  /organization/bloo-solar                  Bloo Solar   \n",
       "63795   /organization/california-linear-devices   California Linear Devices   \n",
       "63804                        /organization/digg                        Digg   \n",
       "63805                        /organization/digg                        Digg   \n",
       "63807  /organization/digital-domain-media-group  Digital Domain Media Group   \n",
       "\n",
       "                                         category_list_x     status  \\\n",
       "63793                    Design|Electronics|Energy|Solar  operating   \n",
       "63795                                             Design   acquired   \n",
       "63804  Design|News|Social Bookmarking|Social Media|Te...   acquired   \n",
       "63805  Design|News|Social Bookmarking|Social Media|Te...   acquired   \n",
       "63807                                             Design     closed   \n",
       "\n",
       "      country_code                          funding_round_permalink  \\\n",
       "63793          USA  /funding-round/281338ea198970928b7f7fba60bcfd05   \n",
       "63795          USA  /funding-round/2f1ad49bebd0a69798d071ab0f7cfb99   \n",
       "63804          USA  /funding-round/eba8d445f97992a81d5571d68aaf919b   \n",
       "63805          USA  /funding-round/fac3a91a8145d98c8dc2302afc7de82a   \n",
       "63807          USA  /funding-round/7a2fe3903442f2cb77d336395122bf73   \n",
       "\n",
       "      funding_round_type   funded_at  raised_amount_usd          main_sector  \\\n",
       "63793            venture  29-12-2014        10000000.00  Automotive & Sports   \n",
       "63795            venture  28-08-2001        10500000.00  Automotive & Sports   \n",
       "63804            venture  12-07-2011         5000000.00  Automotive & Sports   \n",
       "63805            venture  01-12-2006         8500000.00  Automotive & Sports   \n",
       "63807            venture  22-06-2012        10500000.00  Automotive & Sports   \n",
       "\n",
       "       total_no_of_investment  total_amount_invested  \n",
       "63793                     167          1454104361.00  \n",
       "63795                     167          1454104361.00  \n",
       "63804                     167          1454104361.00  \n",
       "63805                     167          1454104361.00  \n",
       "63807                     167          1454104361.00  "
      ]
     },
     "execution_count": 92,
     "metadata": {},
     "output_type": "execute_result"
    }
   ],
   "source": [
    "# USA Dataframe\n",
    "\n",
    "D1.head()"
   ]
  },
  {
   "cell_type": "code",
   "execution_count": 93,
   "metadata": {},
   "outputs": [
    {
     "data": {
      "text/html": [
       "<div>\n",
       "<style scoped>\n",
       "    .dataframe tbody tr th:only-of-type {\n",
       "        vertical-align: middle;\n",
       "    }\n",
       "\n",
       "    .dataframe tbody tr th {\n",
       "        vertical-align: top;\n",
       "    }\n",
       "\n",
       "    .dataframe thead th {\n",
       "        text-align: right;\n",
       "    }\n",
       "</style>\n",
       "<table border=\"1\" class=\"dataframe\">\n",
       "  <thead>\n",
       "    <tr style=\"text-align: right;\">\n",
       "      <th></th>\n",
       "      <th>permalink</th>\n",
       "      <th>name</th>\n",
       "      <th>category_list_x</th>\n",
       "      <th>status</th>\n",
       "      <th>country_code</th>\n",
       "      <th>funding_round_permalink</th>\n",
       "      <th>funding_round_type</th>\n",
       "      <th>funded_at</th>\n",
       "      <th>raised_amount_usd</th>\n",
       "      <th>main_sector</th>\n",
       "      <th>total_no_of_investment</th>\n",
       "      <th>total_amount_invested</th>\n",
       "    </tr>\n",
       "  </thead>\n",
       "  <tbody>\n",
       "    <tr>\n",
       "      <th>63855</th>\n",
       "      <td>/organization/made-com</td>\n",
       "      <td>made.com</td>\n",
       "      <td>Design|E-Commerce|Furniture|Home &amp; Garden</td>\n",
       "      <td>operating</td>\n",
       "      <td>GBR</td>\n",
       "      <td>/funding-round/350da83566d70fe8bc21e4c07f758b63</td>\n",
       "      <td>venture</td>\n",
       "      <td>10-01-2012</td>\n",
       "      <td>9278918.00</td>\n",
       "      <td>Automotive &amp; Sports</td>\n",
       "      <td>16</td>\n",
       "      <td>167051565.00</td>\n",
       "    </tr>\n",
       "    <tr>\n",
       "      <th>70363</th>\n",
       "      <td>/organization/autoquake</td>\n",
       "      <td>Autoquake</td>\n",
       "      <td>Automotive|Cars|E-Commerce|Insurance|Internet|...</td>\n",
       "      <td>acquired</td>\n",
       "      <td>GBR</td>\n",
       "      <td>/funding-round/067d143de46ec298cfa1893682f9911a</td>\n",
       "      <td>venture</td>\n",
       "      <td>11-05-2008</td>\n",
       "      <td>11890000.00</td>\n",
       "      <td>Automotive &amp; Sports</td>\n",
       "      <td>16</td>\n",
       "      <td>167051565.00</td>\n",
       "    </tr>\n",
       "    <tr>\n",
       "      <th>70364</th>\n",
       "      <td>/organization/autoquake</td>\n",
       "      <td>Autoquake</td>\n",
       "      <td>Automotive|Cars|E-Commerce|Insurance|Internet|...</td>\n",
       "      <td>acquired</td>\n",
       "      <td>GBR</td>\n",
       "      <td>/funding-round/4c8372dfdea687c5f5fbab39b3e44dab</td>\n",
       "      <td>venture</td>\n",
       "      <td>01-07-2006</td>\n",
       "      <td>6000000.00</td>\n",
       "      <td>Automotive &amp; Sports</td>\n",
       "      <td>16</td>\n",
       "      <td>167051565.00</td>\n",
       "    </tr>\n",
       "    <tr>\n",
       "      <th>70365</th>\n",
       "      <td>/organization/autoquake</td>\n",
       "      <td>Autoquake</td>\n",
       "      <td>Automotive|Cars|E-Commerce|Insurance|Internet|...</td>\n",
       "      <td>acquired</td>\n",
       "      <td>GBR</td>\n",
       "      <td>/funding-round/721aefa6f7e5bc71eb9d744359941958</td>\n",
       "      <td>venture</td>\n",
       "      <td>01-04-2009</td>\n",
       "      <td>5755376.00</td>\n",
       "      <td>Automotive &amp; Sports</td>\n",
       "      <td>16</td>\n",
       "      <td>167051565.00</td>\n",
       "    </tr>\n",
       "    <tr>\n",
       "      <th>70366</th>\n",
       "      <td>/organization/autoquake</td>\n",
       "      <td>Autoquake</td>\n",
       "      <td>Automotive|Cars|E-Commerce|Insurance|Internet|...</td>\n",
       "      <td>acquired</td>\n",
       "      <td>GBR</td>\n",
       "      <td>/funding-round/a4d5080cbda34c2ef4295d8fbe4e9ad5</td>\n",
       "      <td>venture</td>\n",
       "      <td>01-04-2008</td>\n",
       "      <td>11911764.00</td>\n",
       "      <td>Automotive &amp; Sports</td>\n",
       "      <td>16</td>\n",
       "      <td>167051565.00</td>\n",
       "    </tr>\n",
       "  </tbody>\n",
       "</table>\n",
       "</div>"
      ],
      "text/plain": [
       "                     permalink       name  \\\n",
       "63855   /organization/made-com   made.com   \n",
       "70363  /organization/autoquake  Autoquake   \n",
       "70364  /organization/autoquake  Autoquake   \n",
       "70365  /organization/autoquake  Autoquake   \n",
       "70366  /organization/autoquake  Autoquake   \n",
       "\n",
       "                                         category_list_x     status  \\\n",
       "63855          Design|E-Commerce|Furniture|Home & Garden  operating   \n",
       "70363  Automotive|Cars|E-Commerce|Insurance|Internet|...   acquired   \n",
       "70364  Automotive|Cars|E-Commerce|Insurance|Internet|...   acquired   \n",
       "70365  Automotive|Cars|E-Commerce|Insurance|Internet|...   acquired   \n",
       "70366  Automotive|Cars|E-Commerce|Insurance|Internet|...   acquired   \n",
       "\n",
       "      country_code                          funding_round_permalink  \\\n",
       "63855          GBR  /funding-round/350da83566d70fe8bc21e4c07f758b63   \n",
       "70363          GBR  /funding-round/067d143de46ec298cfa1893682f9911a   \n",
       "70364          GBR  /funding-round/4c8372dfdea687c5f5fbab39b3e44dab   \n",
       "70365          GBR  /funding-round/721aefa6f7e5bc71eb9d744359941958   \n",
       "70366          GBR  /funding-round/a4d5080cbda34c2ef4295d8fbe4e9ad5   \n",
       "\n",
       "      funding_round_type   funded_at  raised_amount_usd          main_sector  \\\n",
       "63855            venture  10-01-2012         9278918.00  Automotive & Sports   \n",
       "70363            venture  11-05-2008        11890000.00  Automotive & Sports   \n",
       "70364            venture  01-07-2006         6000000.00  Automotive & Sports   \n",
       "70365            venture  01-04-2009         5755376.00  Automotive & Sports   \n",
       "70366            venture  01-04-2008        11911764.00  Automotive & Sports   \n",
       "\n",
       "       total_no_of_investment  total_amount_invested  \n",
       "63855                      16           167051565.00  \n",
       "70363                      16           167051565.00  \n",
       "70364                      16           167051565.00  \n",
       "70365                      16           167051565.00  \n",
       "70366                      16           167051565.00  "
      ]
     },
     "execution_count": 93,
     "metadata": {},
     "output_type": "execute_result"
    }
   ],
   "source": [
    "# GBR Dataframe\n",
    "\n",
    "D2.head()"
   ]
  },
  {
   "cell_type": "code",
   "execution_count": 94,
   "metadata": {},
   "outputs": [
    {
     "data": {
      "text/html": [
       "<div>\n",
       "<style scoped>\n",
       "    .dataframe tbody tr th:only-of-type {\n",
       "        vertical-align: middle;\n",
       "    }\n",
       "\n",
       "    .dataframe tbody tr th {\n",
       "        vertical-align: top;\n",
       "    }\n",
       "\n",
       "    .dataframe thead th {\n",
       "        text-align: right;\n",
       "    }\n",
       "</style>\n",
       "<table border=\"1\" class=\"dataframe\">\n",
       "  <thead>\n",
       "    <tr style=\"text-align: right;\">\n",
       "      <th></th>\n",
       "      <th>permalink</th>\n",
       "      <th>name</th>\n",
       "      <th>category_list_x</th>\n",
       "      <th>status</th>\n",
       "      <th>country_code</th>\n",
       "      <th>funding_round_permalink</th>\n",
       "      <th>funding_round_type</th>\n",
       "      <th>funded_at</th>\n",
       "      <th>raised_amount_usd</th>\n",
       "      <th>main_sector</th>\n",
       "      <th>total_no_of_investment</th>\n",
       "      <th>total_amount_invested</th>\n",
       "    </tr>\n",
       "  </thead>\n",
       "  <tbody>\n",
       "    <tr>\n",
       "      <th>63895</th>\n",
       "      <td>/organization/tonbo-imaging</td>\n",
       "      <td>Tonbo Imaging</td>\n",
       "      <td>Design</td>\n",
       "      <td>operating</td>\n",
       "      <td>IND</td>\n",
       "      <td>/funding-round/a8423b53ae8e4995bd52a48eaf5014e0</td>\n",
       "      <td>venture</td>\n",
       "      <td>05-08-2013</td>\n",
       "      <td>6400000.00</td>\n",
       "      <td>Automotive &amp; Sports</td>\n",
       "      <td>13</td>\n",
       "      <td>136900000.00</td>\n",
       "    </tr>\n",
       "    <tr>\n",
       "      <th>70342</th>\n",
       "      <td>/organization/ani-technologies</td>\n",
       "      <td>Ola</td>\n",
       "      <td>Automotive|E-Commerce|Internet|Mobile|Mobile C...</td>\n",
       "      <td>operating</td>\n",
       "      <td>IND</td>\n",
       "      <td>/funding-round/1e2b54335e2a41d8d7db25b7c11db399</td>\n",
       "      <td>venture</td>\n",
       "      <td>10-04-2012</td>\n",
       "      <td>5000000.00</td>\n",
       "      <td>Automotive &amp; Sports</td>\n",
       "      <td>13</td>\n",
       "      <td>136900000.00</td>\n",
       "    </tr>\n",
       "    <tr>\n",
       "      <th>70354</th>\n",
       "      <td>/organization/ather-energy</td>\n",
       "      <td>Ather Energy</td>\n",
       "      <td>Automotive|Electric Vehicles</td>\n",
       "      <td>operating</td>\n",
       "      <td>IND</td>\n",
       "      <td>/funding-round/a3782f52b69e60629bcf7866ca8b1eca</td>\n",
       "      <td>venture</td>\n",
       "      <td>29-05-2015</td>\n",
       "      <td>12000000.00</td>\n",
       "      <td>Automotive &amp; Sports</td>\n",
       "      <td>13</td>\n",
       "      <td>136900000.00</td>\n",
       "    </tr>\n",
       "    <tr>\n",
       "      <th>70384</th>\n",
       "      <td>/organization/cardekho</td>\n",
       "      <td>Cardekho</td>\n",
       "      <td>Automotive|Cars|Online Shopping</td>\n",
       "      <td>operating</td>\n",
       "      <td>IND</td>\n",
       "      <td>/funding-round/3875ae874b0511ede2f7d8597e0d126f</td>\n",
       "      <td>venture</td>\n",
       "      <td>27-11-2013</td>\n",
       "      <td>15000000.00</td>\n",
       "      <td>Automotive &amp; Sports</td>\n",
       "      <td>13</td>\n",
       "      <td>136900000.00</td>\n",
       "    </tr>\n",
       "    <tr>\n",
       "      <th>70443</th>\n",
       "      <td>/organization/incredible-technologies-pvt-ltd</td>\n",
       "      <td>Incredible Technologies (CredR)</td>\n",
       "      <td>Automotive</td>\n",
       "      <td>operating</td>\n",
       "      <td>IND</td>\n",
       "      <td>/funding-round/6a4ce4ed8be26c7a2d0a24f4a92fd958</td>\n",
       "      <td>venture</td>\n",
       "      <td>11-09-2015</td>\n",
       "      <td>15000000.00</td>\n",
       "      <td>Automotive &amp; Sports</td>\n",
       "      <td>13</td>\n",
       "      <td>136900000.00</td>\n",
       "    </tr>\n",
       "  </tbody>\n",
       "</table>\n",
       "</div>"
      ],
      "text/plain": [
       "                                           permalink  \\\n",
       "63895                    /organization/tonbo-imaging   \n",
       "70342                 /organization/ani-technologies   \n",
       "70354                     /organization/ather-energy   \n",
       "70384                         /organization/cardekho   \n",
       "70443  /organization/incredible-technologies-pvt-ltd   \n",
       "\n",
       "                                  name  \\\n",
       "63895                    Tonbo Imaging   \n",
       "70342                              Ola   \n",
       "70354                     Ather Energy   \n",
       "70384                         Cardekho   \n",
       "70443  Incredible Technologies (CredR)   \n",
       "\n",
       "                                         category_list_x     status  \\\n",
       "63895                                             Design  operating   \n",
       "70342  Automotive|E-Commerce|Internet|Mobile|Mobile C...  operating   \n",
       "70354                       Automotive|Electric Vehicles  operating   \n",
       "70384                    Automotive|Cars|Online Shopping  operating   \n",
       "70443                                         Automotive  operating   \n",
       "\n",
       "      country_code                          funding_round_permalink  \\\n",
       "63895          IND  /funding-round/a8423b53ae8e4995bd52a48eaf5014e0   \n",
       "70342          IND  /funding-round/1e2b54335e2a41d8d7db25b7c11db399   \n",
       "70354          IND  /funding-round/a3782f52b69e60629bcf7866ca8b1eca   \n",
       "70384          IND  /funding-round/3875ae874b0511ede2f7d8597e0d126f   \n",
       "70443          IND  /funding-round/6a4ce4ed8be26c7a2d0a24f4a92fd958   \n",
       "\n",
       "      funding_round_type   funded_at  raised_amount_usd          main_sector  \\\n",
       "63895            venture  05-08-2013         6400000.00  Automotive & Sports   \n",
       "70342            venture  10-04-2012         5000000.00  Automotive & Sports   \n",
       "70354            venture  29-05-2015        12000000.00  Automotive & Sports   \n",
       "70384            venture  27-11-2013        15000000.00  Automotive & Sports   \n",
       "70443            venture  11-09-2015        15000000.00  Automotive & Sports   \n",
       "\n",
       "       total_no_of_investment  total_amount_invested  \n",
       "63895                      13           136900000.00  \n",
       "70342                      13           136900000.00  \n",
       "70354                      13           136900000.00  \n",
       "70384                      13           136900000.00  \n",
       "70443                      13           136900000.00  "
      ]
     },
     "execution_count": 94,
     "metadata": {},
     "output_type": "execute_result"
    }
   ],
   "source": [
    "# IND Dataframe\n",
    "\n",
    "D3.head()"
   ]
  },
  {
   "cell_type": "code",
   "execution_count": 95,
   "metadata": {},
   "outputs": [
    {
     "name": "stdout",
     "output_type": "stream",
     "text": [
      "                                         count            sum\n",
      "main_sector                                                  \n",
      "Automotive & Sports                        167  1454104361.00\n",
      "Cleantech / Semiconductors                2350 21633430822.00\n",
      "Entertainment                              591  5099197982.00\n",
      "Health                                     909  8211859357.00\n",
      "Manufacturing                              799  7258553378.00\n",
      "News, Search and Messaging                1583 13971567428.00\n",
      "Others                                    2950 26321007002.00\n",
      "Social, Finance, Analytics, Advertising   2714 23807376964.00\n",
      "-------------------------\n",
      "                                         count           sum\n",
      "main_sector                                                 \n",
      "Automotive & Sports                         16  167051565.00\n",
      "Cleantech / Semiconductors                 130 1163990056.00\n",
      "Entertainment                               56  482784687.00\n",
      "Health                                      24  214537510.00\n",
      "Manufacturing                               42  361940335.00\n",
      "News, Search and Messaging                  73  615746235.00\n",
      "Others                                     147 1283624289.00\n",
      "Social, Finance, Analytics, Advertising    133 1089404014.00\n",
      "-------------------------\n",
      "                                         count           sum\n",
      "main_sector                                                 \n",
      "Automotive & Sports                         13  136900000.00\n",
      "Cleantech / Semiconductors                  20  165380000.00\n",
      "Entertainment                               33  280830000.00\n",
      "Health                                      19  167740000.00\n",
      "Manufacturing                               21  200900000.00\n",
      "News, Search and Messaging                  52  433834545.00\n",
      "Others                                     110 1013409507.00\n",
      "Social, Finance, Analytics, Advertising     60  550549550.00\n"
     ]
    }
   ],
   "source": [
    "# Let's check count of total no of investement and sum of total investement per main_sector\n",
    "\n",
    "print(D1.groupby(['main_sector']).raised_amount_usd.agg(['count','sum']))\n",
    "print('-'*25)\n",
    "print(D2.groupby(['main_sector']).raised_amount_usd.agg(['count','sum']))\n",
    "print('-'*25)\n",
    "print(D3.groupby(['main_sector']).raised_amount_usd.agg(['count','sum']))"
   ]
  },
  {
   "cell_type": "code",
   "execution_count": 96,
   "metadata": {},
   "outputs": [
    {
     "name": "stdout",
     "output_type": "stream",
     "text": [
      "12063\n"
     ]
    }
   ],
   "source": [
    "# Total no of investements for USA\n",
    "\n",
    "print(D1['main_sector'].count())"
   ]
  },
  {
   "cell_type": "code",
   "execution_count": 97,
   "metadata": {},
   "outputs": [
    {
     "name": "stdout",
     "output_type": "stream",
     "text": [
      "621\n"
     ]
    }
   ],
   "source": [
    "# Total no of investements for GBR\n",
    "\n",
    "print(D2['main_sector'].count())"
   ]
  },
  {
   "cell_type": "code",
   "execution_count": 98,
   "metadata": {},
   "outputs": [
    {
     "name": "stdout",
     "output_type": "stream",
     "text": [
      "328\n"
     ]
    }
   ],
   "source": [
    "# Total no of Investments for IND\n",
    "\n",
    "print(D3['main_sector'].count())"
   ]
  },
  {
   "cell_type": "code",
   "execution_count": 99,
   "metadata": {},
   "outputs": [
    {
     "name": "stdout",
     "output_type": "stream",
     "text": [
      "107757097294.0\n"
     ]
    }
   ],
   "source": [
    "# Total amount invested in USD for USA\n",
    "\n",
    "print(D1['raised_amount_usd'].sum())"
   ]
  },
  {
   "cell_type": "code",
   "execution_count": 100,
   "metadata": {},
   "outputs": [
    {
     "name": "stdout",
     "output_type": "stream",
     "text": [
      "5379078691.0\n"
     ]
    }
   ],
   "source": [
    "# Total amount invested in USD for GBR\n",
    "\n",
    "print(D2['raised_amount_usd'].sum())"
   ]
  },
  {
   "cell_type": "code",
   "execution_count": 101,
   "metadata": {},
   "outputs": [
    {
     "name": "stdout",
     "output_type": "stream",
     "text": [
      "2949543602.0\n"
     ]
    }
   ],
   "source": [
    "# Total amount invested in USD for IND\n",
    "\n",
    "print(D3['raised_amount_usd'].sum())"
   ]
  },
  {
   "cell_type": "code",
   "execution_count": 102,
   "metadata": {},
   "outputs": [
    {
     "name": "stdout",
     "output_type": "stream",
     "text": [
      "Others                                     2950\n",
      "Social, Finance, Analytics, Advertising    2714\n",
      "Cleantech / Semiconductors                 2350\n",
      "Name: main_sector, dtype: int64\n"
     ]
    }
   ],
   "source": [
    "# Let's check top 3 sectors from USA who got the highest number of fundings\n",
    "\n",
    "print(D1['main_sector'].value_counts().sort_values(ascending=False).head(3))"
   ]
  },
  {
   "cell_type": "code",
   "execution_count": 103,
   "metadata": {},
   "outputs": [
    {
     "name": "stdout",
     "output_type": "stream",
     "text": [
      "Others                                     147\n",
      "Social, Finance, Analytics, Advertising    133\n",
      "Cleantech / Semiconductors                 130\n",
      "Name: main_sector, dtype: int64\n"
     ]
    }
   ],
   "source": [
    "# Let's check top 3 sectors from GBR who got the highest number of fundings\n",
    "\n",
    "print(D2['main_sector'].value_counts().sort_values(ascending=False).head(3))"
   ]
  },
  {
   "cell_type": "code",
   "execution_count": 104,
   "metadata": {},
   "outputs": [
    {
     "name": "stdout",
     "output_type": "stream",
     "text": [
      "Others                                     110\n",
      "Social, Finance, Analytics, Advertising     60\n",
      "News, Search and Messaging                  52\n",
      "Name: main_sector, dtype: int64\n"
     ]
    }
   ],
   "source": [
    "# Let's check top 3 sectors from IND who got the highest number of fundings\n",
    "\n",
    "print(D3['main_sector'].value_counts().sort_values(ascending=False).head(3))"
   ]
  },
  {
   "cell_type": "markdown",
   "metadata": {},
   "source": [
    "##### Name of company which received highest funding for best sector"
   ]
  },
  {
   "cell_type": "code",
   "execution_count": 105,
   "metadata": {},
   "outputs": [
    {
     "data": {
      "text/plain": [
       "0    Virtustream\n",
       "Name: name, dtype: object"
      ]
     },
     "execution_count": 105,
     "metadata": {},
     "output_type": "execute_result"
    }
   ],
   "source": [
    "# USA\n",
    "\n",
    "D1[D1['main_sector']=='Others'].groupby('name').sum().sort_values('raised_amount_usd', ascending=False).head(1).reset_index()['name']"
   ]
  },
  {
   "cell_type": "code",
   "execution_count": 106,
   "metadata": {},
   "outputs": [
    {
     "data": {
      "text/plain": [
       "0    Electric Cloud\n",
       "Name: name, dtype: object"
      ]
     },
     "execution_count": 106,
     "metadata": {},
     "output_type": "execute_result"
    }
   ],
   "source": [
    "# GBR\n",
    "\n",
    "D2[D2['main_sector']=='Others'].groupby('name').sum().sort_values('raised_amount_usd', ascending=False).head(1).reset_index()['name']"
   ]
  },
  {
   "cell_type": "code",
   "execution_count": 107,
   "metadata": {},
   "outputs": [
    {
     "data": {
      "text/plain": [
       "0    FirstCry.com\n",
       "Name: name, dtype: object"
      ]
     },
     "execution_count": 107,
     "metadata": {},
     "output_type": "execute_result"
    }
   ],
   "source": [
    "# IND\n",
    "\n",
    "D3[D3['main_sector']=='Others'].groupby('name').sum().sort_values('raised_amount_usd', ascending=False).head(1).reset_index()['name']"
   ]
  },
  {
   "cell_type": "markdown",
   "metadata": {},
   "source": [
    "##### Name of company which received highest funding for second-best sector"
   ]
  },
  {
   "cell_type": "code",
   "execution_count": 108,
   "metadata": {},
   "outputs": [
    {
     "data": {
      "text/plain": [
       "0    SST Inc. (Formerly ShotSpotter)\n",
       "Name: name, dtype: object"
      ]
     },
     "execution_count": 108,
     "metadata": {},
     "output_type": "execute_result"
    }
   ],
   "source": [
    "# USA\n",
    "\n",
    "D1[D1['main_sector']=='Social, Finance, Analytics, Advertising'].groupby('name').sum().sort_values('raised_amount_usd', ascending=False).head(1).reset_index()['name']"
   ]
  },
  {
   "cell_type": "code",
   "execution_count": 109,
   "metadata": {},
   "outputs": [
    {
     "data": {
      "text/plain": [
       "0    Celltick Technologies\n",
       "Name: name, dtype: object"
      ]
     },
     "execution_count": 109,
     "metadata": {},
     "output_type": "execute_result"
    }
   ],
   "source": [
    "# GBR\n",
    "\n",
    "D2[D2['main_sector']=='Social, Finance, Analytics, Advertising'].groupby('name').sum().sort_values('raised_amount_usd', ascending=False).head(1).reset_index()['name']"
   ]
  },
  {
   "cell_type": "code",
   "execution_count": 110,
   "metadata": {},
   "outputs": [
    {
     "data": {
      "text/plain": [
       "0    Manthan Systems\n",
       "Name: name, dtype: object"
      ]
     },
     "execution_count": 110,
     "metadata": {},
     "output_type": "execute_result"
    }
   ],
   "source": [
    "# IND\n",
    "\n",
    "D3[D3['main_sector']=='Social, Finance, Analytics, Advertising'].groupby('name').sum().sort_values('raised_amount_usd', ascending=False).head(1).reset_index()['name']"
   ]
  },
  {
   "cell_type": "markdown",
   "metadata": {},
   "source": [
    "## Checkpoint 6: Plots\n"
   ]
  },
  {
   "cell_type": "markdown",
   "metadata": {},
   "source": [
    "### 1. Fraction of total investments (globally) in angel, venture, seed, and private equity, and the average amount of investment in each funding type."
   ]
  },
  {
   "cell_type": "code",
   "execution_count": 111,
   "metadata": {},
   "outputs": [
    {
     "data": {
      "text/plain": [
       "venture           47809\n",
       "seed              21095\n",
       "angel              4400\n",
       "private_equity     1820\n",
       "Name: funding_round_type, dtype: int64"
      ]
     },
     "execution_count": 111,
     "metadata": {},
     "output_type": "execute_result"
    }
   ],
   "source": [
    "funding_type_count = master_frame_filtered['funding_round_type'].value_counts()\n",
    "funding_type_count"
   ]
  },
  {
   "cell_type": "code",
   "execution_count": 112,
   "metadata": {},
   "outputs": [
    {
     "data": {
      "image/png": "[encoded data removed]",
      "text/plain": [
       "<Figure size 864x576 with 1 Axes>"
      ]
     },
     "metadata": {},
     "output_type": "display_data"
    }
   ],
   "source": [
    "plt.figure(figsize=(12,8))\n",
    "plt.pie(funding_type_count.values,\n",
    "        labels=funding_type_count.index,\n",
    "        shadow=True,\n",
    "        explode=(0.1,0,0,0),\n",
    "        autopct='%1.1f%%',\n",
    "        startangle=90)\n",
    "plt.show()"
   ]
  },
  {
   "cell_type": "markdown",
   "metadata": {},
   "source": [
    "##### We can see that most number of  investements are done in 'venture' type"
   ]
  },
  {
   "cell_type": "code",
   "execution_count": 113,
   "metadata": {},
   "outputs": [
    {
     "data": {
      "image/png": "[encoded data removed]",
      "text/plain": [
       "<Figure size 864x576 with 1 Axes>"
      ]
     },
     "metadata": {
      "needs_background": "light"
     },
     "output_type": "display_data"
    },
    {
     "name": "stdout",
     "output_type": "stream",
     "text": [
      "                          mean\n",
      "funding_round_type            \n",
      "angel                971573.89\n",
      "private_equity     73938486.28\n",
      "seed                 747793.68\n",
      "venture            11724222.69\n"
     ]
    }
   ],
   "source": [
    "# let's also check thier distribution, we'll check both mean and median.\n",
    "\n",
    "plt.figure(figsize=(12,8))\n",
    "\n",
    "sns.barplot(x='funding_round_type', y='raised_amount_usd', data=master_frame_filtered)\n",
    "plt.title('Mean')\n",
    "plt.axhline(y=5000000, linewidth=2, color = 'k')\n",
    "plt.axhline(y=15000000, linewidth=2, color = 'k')\n",
    "\n",
    "plt.show()\n",
    "\n",
    "print(master_frame_filtered.groupby('funding_round_type')['raised_amount_usd'].agg(['mean']))"
   ]
  },
  {
   "cell_type": "markdown",
   "metadata": {},
   "source": [
    "##### We can see from above chart that 'venture' type funding falls in between our set limit of 5 Million USD to 15 Miliion USD."
   ]
  },
  {
   "cell_type": "markdown",
   "metadata": {},
   "source": [
    "##### Based on above two observations, we can choose 'venture' as our preferred funding type."
   ]
  },
  {
   "cell_type": "markdown",
   "metadata": {},
   "source": [
    "### 2. Top 9 countries against the total amount of investments of funding type 'venture'"
   ]
  },
  {
   "cell_type": "code",
   "execution_count": 114,
   "metadata": {},
   "outputs": [
    {
     "data": {
      "image/png": "[encoded data removed]",
      "text/plain": [
       "<Figure size 864x576 with 1 Axes>"
      ]
     },
     "metadata": {
      "needs_background": "light"
     },
     "output_type": "display_data"
    },
    {
     "name": "stdout",
     "output_type": "stream",
     "text": [
      "                        mean\n",
      "country_code                \n",
      "CAN            9482217668.00\n",
      "CHN           39338918773.00\n",
      "DEU            6306921981.00\n",
      "FRA            7226851352.00\n",
      "GBR           20072813004.00\n",
      "IND           14261508718.00\n",
      "ISR            6854350477.00\n",
      "JPN            3167647127.00\n",
      "USA          420068029342.00\n"
     ]
    }
   ],
   "source": [
    "plt.figure(figsize=(12,8))\n",
    "sns.barplot(x=top9.index, y=top9.values.reshape(-1))\n",
    "plt.title('Top 9 Countries based on Total Investment')\n",
    "\n",
    "plt.show()\n",
    "\n",
    "print(top9.groupby('country_code')['raised_amount_usd'].agg(['mean']))"
   ]
  },
  {
   "cell_type": "markdown",
   "metadata": {},
   "source": [
    "###  3. Number of investments in the top 3 sectors of the top 3 countries"
   ]
  },
  {
   "cell_type": "markdown",
   "metadata": {},
   "source": [
    "#### USA"
   ]
  },
  {
   "cell_type": "code",
   "execution_count": 115,
   "metadata": {},
   "outputs": [
    {
     "data": {
      "image/png": "[encoded data removed]",
      "text/plain": [
       "<Figure size 864x576 with 1 Axes>"
      ]
     },
     "metadata": {
      "needs_background": "light"
     },
     "output_type": "display_data"
    }
   ],
   "source": [
    "top_3_sec_usa = D1[D1['main_sector'].isin(['Others','Social, Finance, Analytics, Advertising','Cleantech / Semiconductors'])]\n",
    "\n",
    "plt.figure(figsize=(12,8))\n",
    "top_3_sec_usa['main_sector'].value_counts().plot.bar()\n",
    "plt.title('USA')\n",
    "\n",
    "plt.show()"
   ]
  },
  {
   "cell_type": "markdown",
   "metadata": {},
   "source": [
    "#### GBR"
   ]
  },
  {
   "cell_type": "code",
   "execution_count": 116,
   "metadata": {},
   "outputs": [
    {
     "data": {
      "image/png": "[encoded data removed]",
      "text/plain": [
       "<Figure size 864x576 with 1 Axes>"
      ]
     },
     "metadata": {
      "needs_background": "light"
     },
     "output_type": "display_data"
    }
   ],
   "source": [
    "top_3_sec_gbr = D2[D2['main_sector'].isin(['Others','Social, Finance, Analytics, Advertising','Cleantech / Semiconductors'])]\n",
    "\n",
    "plt.figure(figsize=(12,8))\n",
    "top_3_sec_gbr['main_sector'].value_counts().plot.bar()\n",
    "plt.title('GBR')\n",
    "\n",
    "plt.show()"
   ]
  },
  {
   "cell_type": "markdown",
   "metadata": {},
   "source": [
    "### IND"
   ]
  },
  {
   "cell_type": "code",
   "execution_count": 117,
   "metadata": {},
   "outputs": [
    {
     "data": {
      "image/png": "[encoded data removed]",
      "text/plain": [
       "<Figure size 864x576 with 1 Axes>"
      ]
     },
     "metadata": {
      "needs_background": "light"
     },
     "output_type": "display_data"
    }
   ],
   "source": [
    "top_3_sec_ind = D3[D3['main_sector'].isin(['Others','Social, Finance, Analytics, Advertising','News, Search and Messaging'])]\n",
    "\n",
    "plt.figure(figsize=(12,8))\n",
    "top_3_sec_ind['main_sector'].value_counts().plot.bar()\n",
    "plt.title('IND')\n",
    "\n",
    "plt.show()"
   ]
  },
  {
   "cell_type": "code",
   "execution_count": 118,
   "metadata": {},
   "outputs": [
    {
     "data": {
      "image/png": "[encoded data removed]",
      "text/plain": [
       "<Figure size 1440x1080 with 1 Axes>"
      ]
     },
     "metadata": {
      "needs_background": "light"
     },
     "output_type": "display_data"
    }
   ],
   "source": [
    "countries_df = [top_3_sec_usa, top_3_sec_gbr, top_3_sec_ind]\n",
    "\n",
    "merged_country_df = pd.concat(countries_df)\n",
    "\n",
    "plt.figure(figsize=(20, 15))\n",
    "sns.barplot(y='country_code', x='raised_amount_usd', hue=\"main_sector\", data=merged_country_df, estimator=np.sum)\n",
    "plt.show()"
   ]
  },
  {
   "cell_type": "markdown",
   "metadata": {},
   "source": [
    "# Conclusion"
   ]
  },
  {
   "cell_type": "markdown",
   "metadata": {},
   "source": [
    "1. Preferred Funding Type - Venture\n",
    "***\n",
    "\n",
    "2. Top 3 English speaking countries preferred for investing - United States (USA), United Kingdom (GBR) & India (IND) respectively\n",
    "***\n",
    "\n",
    "3. Top 3 sectors preferred for funding in USA\n",
    "    - Others\n",
    "    - Social, Finance, Analytics, Advertising\n",
    "    - Cleantech / Semiconductors\n",
    "***\n",
    "   \n",
    "4. Top 3 sectors preferred for funding in United Kingdom\n",
    "    - Others\n",
    "    - Social, Finance, Analytics, Advertising\n",
    "    - Cleantech / Semiconductors\n",
    "***\n",
    "\n",
    "5. Top 3 sectors preferred for funding in India\n",
    "    - Others\n",
    "    - Social, Finance, Analytics, Advertising\n",
    "    - News, Search and Messaging\n",
    "  "
   ]
  }
 ],
 "metadata": {
  "kernelspec": {
   "display_name": "Python 3",
   "language": "python",
   "name": "python3"
  },
  "language_info": {
   "codemirror_mode": {
    "name": "ipython",
    "version": 3
   },
   "file_extension": ".py",
   "mimetype": "text/x-python",
   "name": "python",
   "nbconvert_exporter": "python",
   "pygments_lexer": "ipython3",
   "version": "3.7.6"
  }
 },
 "nbformat": 4,
 "nbformat_minor": 4
}
